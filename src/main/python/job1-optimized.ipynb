{
 "cells": [
  {
   "cell_type": "markdown",
   "id": "6bb04350",
   "metadata": {},
   "source": [
    "# Job 1 optimized version"
   ]
  },
  {
   "cell_type": "code",
   "execution_count": null,
   "id": "07f8f02c",
   "metadata": {},
   "outputs": [],
   "source": [
    "import org.apache.spark"
   ]
  },
  {
   "cell_type": "markdown",
   "id": "809f3475",
   "metadata": {},
   "source": [
    "### Schema definitions"
   ]
  },
  {
   "cell_type": "code",
   "execution_count": null,
   "id": "0f1971a4",
   "metadata": {},
   "outputs": [],
   "source": [
    "import org.apache.spark.sql.types._\n",
    "import java.sql.Timestamp\n",
    "\n",
    "val reviewSchema = StructType(\n",
    "  Seq(\n",
    "    StructField(\"user_id\",  StringType,            nullable = true),\n",
    "    StructField(\"name\",     StringType,            nullable = true),\n",
    "    StructField(\"time\",     LongType,              nullable = false),\n",
    "    StructField(\"rating\",   DoubleType,            nullable = true),\n",
    "    StructField(\"text\",     StringType,            nullable = true),\n",
    "    StructField(\"pics\",     ArrayType(StringType), nullable = true),\n",
    "    StructField(\"resp\",     StructType(\n",
    "      Seq(\n",
    "        StructField(\"time\", LongType,              nullable = false),\n",
    "        StructField(\"text\", StringType,            nullable = true)\n",
    "      )\n",
    "    ),                                             nullable = true),\n",
    "    StructField(\"gmap_id\",  StringType,            nullable = false),\n",
    "  )\n",
    ")\n",
    "\n",
    "case class Response(time: Timestamp, text: Option[String])\n",
    "\n",
    "case class Review(\n",
    "  user_id: Option[String],\n",
    "  name: Option[String],\n",
    "  time: Timestamp,\n",
    "  rating: Option[Double],\n",
    "  text: Option[String],\n",
    "  pics: Seq[String],\n",
    "  resp: Option[Response],\n",
    "  gmap_id: String\n",
    ")"
   ]
  },
  {
   "cell_type": "code",
   "execution_count": null,
   "id": "3cf8ea0d",
   "metadata": {},
   "outputs": [],
   "source": [
    "val metadataSchema = StructType(\n",
    "  Seq(\n",
    "    StructField(\"name\",             StringType,                                 nullable = true),\n",
    "    StructField(\"address\",          StringType,                                 nullable = true),\n",
    "    StructField(\"gmap_id\",          StringType,                                 nullable = false),\n",
    "    StructField(\"description\",      StringType,                                 nullable = true),\n",
    "    StructField(\"latitude\",         DoubleType,                                 nullable = false),\n",
    "    StructField(\"longitude\",        DoubleType,                                 nullable = false),\n",
    "    StructField(\"category\",         ArrayType(StringType),                      nullable = true),\n",
    "    StructField(\"avg_rating\",       DoubleType,                                 nullable = false),\n",
    "    StructField(\"num_of_reviews\",   IntegerType,                                nullable = false),\n",
    "    StructField(\"price\",            StringType,                                 nullable = false),\n",
    "    StructField(\"hours\",            ArrayType(ArrayType(StringType)),           nullable = true),\n",
    "    StructField(\"MISC\",             MapType(StringType, ArrayType(StringType)), nullable = false),\n",
    "    StructField(\"state\",            StringType,                                 nullable = true),\n",
    "    StructField(\"relative_results\", ArrayType(StringType),                      nullable = true),\n",
    "    StructField(\"url\",              StringType,                                 nullable = false),\n",
    "  )\n",
    ")\n",
    "\n",
    "case class Metadata(\n",
    "  name: Option[String],\n",
    "  address: Option[String],\n",
    "  gmap_id: String,\n",
    "  description: Option[String],\n",
    "  latitude: Double,\n",
    "  longitude: Double,\n",
    "  category: Seq[String],\n",
    "  avg_rating: Double,\n",
    "  num_of_reviews: Int,\n",
    "  price: String,\n",
    "  hours: Seq[Seq[String]],\n",
    "  MISC: Map[String, Seq[String]],\n",
    "  state: Option[String],\n",
    "  relative_results: Seq[String],\n",
    "  url: String\n",
    ")"
   ]
  },
  {
   "cell_type": "markdown",
   "id": "f94003df",
   "metadata": {},
   "source": [
    "### Dataset load and parse"
   ]
  },
  {
   "cell_type": "code",
   "execution_count": null,
   "id": "2e2d175b",
   "metadata": {},
   "outputs": [],
   "source": [
    "import java.nio.file.Paths\n",
    "import org.apache.spark.sql.SparkSession\n",
    "import org.apache.spark.sql.functions.from_unixtime\n",
    "\n",
    "val projectDir = Paths.get(System.getProperty(\"user.dir\")).getParent.getParent.getParent.toString\n",
    "val reviewsPath = s\"$projectDir/dataset/sample-reviews.ndjson\"\n",
    "val metadataPath = s\"$projectDir/dataset/metadata.ndjson\"\n",
    "\n",
    "val spark = SparkSession.builder()\n",
    "  .appName(\"NDJSON Reader\")\n",
    "  .master(\"local[*]\") // Needed in local mode\n",
    "  .getOrCreate()\n",
    "\n",
    "val reviewsDf = spark.read\n",
    "  .schema(reviewSchema)\n",
    "  .json(reviewsPath)\n",
    "  .withColumn(\"pics\", when (col(\"pics\") isNull, array()) otherwise col(\"pics\"))\n",
    "  .withColumn(\"time\", from_unixtime(col(\"time\") / 1000).cast(\"timestamp\"))\n",
    "  .withColumn(\"resp\", \n",
    "    when (\n",
    "      col(\"resp\") isNotNull, \n",
    "      struct(\n",
    "        from_unixtime(col(\"resp.time\") / 1000).cast(\"timestamp\").alias(\"time\"),\n",
    "        col(\"resp.text\").cast(StringType).alias(\"text\")\n",
    "      )\n",
    "    ) otherwise lit(null)\n",
    "  )\n",
    "  .as[Review]\n",
    "\n",
    "val metadataDf = spark.read\n",
    "  .schema(metadataSchema)\n",
    "  .json(metadataPath)\n",
    "  .withColumn(\"category\", when (col(\"category\") isNull, array()) otherwise col(\"category\"))\n",
    "  .withColumn(\"hours\", when (col(\"hours\") isNull, array()) otherwise col(\"hours\"))\n",
    "  .withColumn(\"relative_results\", when (col(\"relative_results\") isNull, array()) otherwise col(\"relative_results\"))\n",
    "  .as[Metadata]\n",
    "\n",
    "reviewsDf.printSchema()\n",
    "metadataDf.printSchema()\n",
    "\n",
    "// Unforturnately, it seems that Spark does not support case classes in RDDs. It throws ArrayStoreException\n",
    "// when trying to collect the RDD... [see also [here](https://github.com/adtech-labs/spylon-kernel/issues/40)]\n",
    "val reviewsRdd = reviewsDf.rdd\n",
    "  .map(Review.unapply(_).get)\n",
    "  .map { case review @ (_, _, _, _, _, _, resp, _) => review.copy(_7 = resp.map(Response.unapply(_).get)) }\n",
    "val metaRdd = metadataDf.rdd\n",
    "  .repartition(8)\n",
    "  .map(Metadata.unapply(_).get)"
   ]
  },
  {
   "cell_type": "markdown",
   "id": "aff867d7",
   "metadata": {},
   "source": [
    "### Optimized version"
   ]
  },
  {
   "cell_type": "markdown",
   "id": "f7e6a15e",
   "metadata": {},
   "source": [
    "L'obiettivo di questo job è capire, anno per anno, se una maggiore frequenza nella risposta alle recensioni ha un impatto sulla valutazione media ricevuta.\n",
    "In particolare:\n",
    "- Per ogni anno e business si calcola la media delle recensioni, il rate e il tempo medio di risposta;\n",
    "- Sulla base del rate e del tempo medio di risposta viene calcolata un attributo aggiuntivo “response strategy” che categorizza il business in un particolare anno in 4 categorie (“Rapid and frequent”, “Slow but frequent”, “Occasional” o “Rare or none”);\n",
    "- Aggregazione in base alla \"response strategy\", l'anno e lo stato per ottenere il rate medio e il numero di business all'interno della categoria.\n",
    "\n",
    "---\n",
    "\n",
    "The goal of this job is to understand, year by year, whether greater frequency in responding to reviews has an impact on the average rating received.\n",
    "\n",
    "Specifically:\n",
    "\n",
    "- For each year and business, the average rating, rate, and average response time are calculated;\n",
    "- Based on the rate and average response time, an additional attribute \"response strategy\" is calculated that categorizes the business in a particular year into four categories (\"Rapid and frequent,\" \"Slow but frequent,\" \"Occasional,\" or \"Rare or none\");\n",
    "- Aggregation based on the \"response strategy,\" year, and state to get the average rate and number of businesses within the category."
   ]
  },
  {
   "cell_type": "markdown",
   "id": "a24fa176-261b-458a-a387-10a25e8f07ff",
   "metadata": {},
   "source": [
    "---\n",
    "\n",
    "**Metadata**: (name, address, <ins>gmap_id</ins>, description, latitude, longitude, category, avg_rating, num_of_reviews, price, hours, misc, state, relative_results, url)\n",
    "\n",
    "**Review**: (user_id, name, time, rating, text, pics, responses, <ins>gmap_id</ins>)\n",
    "\n",
    "---"
   ]
  },
  {
   "cell_type": "code",
   "execution_count": null,
   "id": "3299cb18",
   "metadata": {},
   "outputs": [],
   "source": [
    "import java.util.concurrent.TimeUnit\n",
    "import org.apache.spark.sql.SaveMode\n",
    "import org.apache.spark.storage.StorageLevel"
   ]
  },
  {
   "cell_type": "code",
   "execution_count": null,
   "id": "462c3b12",
   "metadata": {},
   "outputs": [],
   "source": [
    "for ((k,v) <- sc.getPersistentRDDs) {\n",
    "  v.unpersist()\n",
    "}"
   ]
  },
  {
   "cell_type": "code",
   "execution_count": null,
   "id": "e1c28cae",
   "metadata": {},
   "outputs": [],
   "source": [
    "def responseStrategy(avgResponseRate: Double, avgResponseTime: Double): String =\n",
    "  (avgResponseRate, avgResponseTime) match {\n",
    "    case (rr, rt) if rr >= 0.5 && rt <= 4 * 24 => \"Rapid and frequent\"\n",
    "    case (rr, rt) if rr >= 0.5 => \"Slow but frequent\"\n",
    "    case (rr, _)  if rr >= 0.15 => \"Occasional\"\n",
    "    case _ => \"Rare or none\"\n",
    "  }"
   ]
  },
  {
   "cell_type": "code",
   "execution_count": null,
   "id": "b7502276",
   "metadata": {},
   "outputs": [],
   "source": [
    "\n",
    "def toState(address: Option[String]): String = \n",
    "  address.flatMap { addr =>\n",
    "    // This regex captures the state abbreviation between a comma and the ZIP code\n",
    "    val StateRegex = \"\"\",\\s*([A-Z]{2})\\s+\\d{5}\"\"\".r\n",
    "    StateRegex.findFirstMatchIn(addr).map(_.group(1))\n",
    "  }.getOrElse(\"Unknown\")"
   ]
  },
  {
   "cell_type": "markdown",
   "id": "f72f57e9",
   "metadata": {},
   "source": [
    "- Metadata: 292.5 MiB\n",
    "- Reviews: 9.8 GiB\n",
    "\n",
    "The \"basic\" (not optimized) job has 5 stages (c.f. `application_1755016159156_0003`):\n",
    "\n",
    "| #Stage | Input | Output | Shuffle read | Shuffle write | Duration | Partitions |\n",
    "|--------|-------|--------|--------------|---------------|----------|------------|\n",
    "| 0: load metadata | 292.5 MiB | | | 8.7 MiB | 20 s | 3 |\n",
    "| 1: load reviews  | 9.8 GiB | | | 759.0 MiB | 1.8 min | 79 |\n",
    "| 2: join datasets | | | 767.7 MiB | 68.5 MiB | 52s | 79 |\n",
    "| 3: aggregate by key | | | 68.5 MiB | 1887.9 KiB | 3s | 79 | \n",
    "| 4: aggregate by key | | | 1887.9 KiB | 11.0 KiB | 5s | 1 |\n",
    "\n",
    "**Total time: 2.8 minutes**"
   ]
  },
  {
   "cell_type": "markdown",
   "id": "fbb57c5f",
   "metadata": {},
   "source": [
    "<ins>Optimizations:</ins>\n",
    "\n",
    "- The most time-consuming stage, not considering the data loading, is the #2.\n",
    "This can be optimized by **pushing down the join of the reviews only when the reviews have already been aggregated**, hence **reducing the amount of data shuffled** across the network;\n",
    "\n",
    "    - Unfortunately, even if filtered, the metadata RDD is still too large, ~42.6MiB, hence using broadcast join is not worth it.\n",
    "\n",
    "- To further filter out not used data, only the timestamp of the response, if any, is kept during the first reviews aggregation phase.\n",
    "\n",
    "- After the join the final `map` + `aggregateByKey` operations can be rewritten using `map` + `reduceByKey`;"
   ]
  },
  {
   "cell_type": "code",
   "execution_count": null,
   "id": "eb6b5207",
   "metadata": {},
   "outputs": [],
   "source": [
    "val partitions = 24\n",
    "val partitioner = new org.apache.spark.HashPartitioner(partitions)\n",
    "\n",
    "val businessesStates = metaRdd\n",
    "  .filter(_._2.isDefined) // leave only businesses with a defined address\n",
    "  .map(b => b._3 -> toState(b._2)) // [(gmap_id, state)*]\n",
    "  .partitionBy(partitioner)"
   ]
  },
  {
   "cell_type": "code",
   "execution_count": null,
   "id": "7ca8593f",
   "metadata": {},
   "outputs": [],
   "source": [
    "val reviewsInfo = reviewsRdd\n",
    "  .filter(_._4.isDefined) // filter out reviews without a rating\n",
    "  .map { case (_, _, time, rating, _, _, resp, id) => \n",
    "    (time.toLocalDateTime.getYear, id) -> (time, rating.get, resp.map(_._1)) \n",
    "  }\n",
    "  .aggregateByKey((0.0, 0, 0L, 0))( // (ratings sum, #responses, sum of response time differences, #reviews)\n",
    "    (acc, v) => {\n",
    "      val (sumRatings, numResponses, sumResponseTimes, totalReviews) = acc\n",
    "      val (time, rating, response) = v\n",
    "      (\n",
    "        sumRatings + rating,\n",
    "        numResponses + (if (response.isDefined) 1 else 0),\n",
    "        sumResponseTimes + (if (response.isDefined) response.get.getTime - time.getTime else 0L),\n",
    "        totalReviews + 1\n",
    "      )\n",
    "    },\n",
    "    (r1, r2) => (r1._1 + r2._1, r1._2 + r2._2, r1._3 + r2._3, r1._4 + r2._4)\n",
    "  )\n",
    "  .mapValues { case (sumRatings, numResponses, sumResponseTimes, totalReviews) => \n",
    "    val avgResponseRate = numResponses.toDouble / totalReviews\n",
    "    val avgResponseTime = if (numResponses > 0) TimeUnit.MILLISECONDS.toHours(sumResponseTimes / numResponses) else Double.PositiveInfinity\n",
    "    (sumRatings / totalReviews, avgResponseRate, avgResponseTime, responseStrategy(avgResponseRate, avgResponseTime))\n",
    "  } // [((year, gmap_id), (avg_rating, response_rate, avg_response_time, response_strategy))*]\n",
    "  .coalesce(partitions)"
   ]
  },
  {
   "cell_type": "code",
   "execution_count": null,
   "id": "1c34ec5f",
   "metadata": {},
   "outputs": [],
   "source": [
    "val outcome = reviewsInfo\n",
    "  .map { case ((year, id), (avgRating, _, _, responseStrategy)) => id -> (year, responseStrategy, avgRating) }\n",
    "  .partitionBy(partitioner)\n",
    "  .join(businessesStates) // [(gmap_id, ((year, response_strategy, avg_rating), state))*]\n",
    "  .map { case (_, ((year, responseStrategy, avgRating), state)) => (year, state, responseStrategy) -> (avgRating, 1) }\n",
    "  .reduceByKey((a, b) => (a._1 + b._1, a._2 + b._2))\n",
    "  .mapValues { case (sumRatings, totalBusinesses) => sumRatings / totalBusinesses }"
   ]
  },
  {
   "cell_type": "code",
   "execution_count": null,
   "id": "48fa89a4",
   "metadata": {},
   "outputs": [],
   "source": [
    "val outputDirPath = s\"$projectDir/output\""
   ]
  },
  {
   "cell_type": "code",
   "execution_count": null,
   "id": "993906c2",
   "metadata": {},
   "outputs": [],
   "source": [
    "outcome.map { case ((year, state, responseStrategy), avgRating) => (year, state, responseStrategy, avgRating) }\n",
    "  .coalesce(1)\n",
    "  .toDF(\"year\", \"state\", \"response_strategy\", \"avg_rating\")\n",
    "  .write.format(\"csv\").option(\"header\", \"true\")\n",
    "  .mode(SaveMode.Overwrite)\n",
    "  .save(s\"file://$outputDirPath/job1-optimized-output\")"
   ]
  },
  {
   "cell_type": "markdown",
   "id": "87790f91",
   "metadata": {},
   "source": [
    "Results (c.f. `application_1755016159156_0002`):\n",
    "\n",
    "| #Stage | Input | Output | Shuffle read | Shuffle write | Duration | Partitions |\n",
    "|--------|-------|--------|--------------|---------------|----------|------------|\n",
    "| 0: load metadata | 292.5 MiB | | | 8.8 MiB | 20s | 4 |\n",
    "| 1: load reviews  | 9.8 GiB | | | **66.0 MiB** | 1.7 min | 79 |\n",
    "| 2: aggregate by key | | | **66.0 MiB** | 56.2 MiB | **6s** | 79 |\n",
    "| 3: join | | | 65.0 MiB | 1884.1 KiB | 3s | 79 | \n",
    "| 4: reduce by key | | | 1884.1 KiB | 11.0 KiB | 2s | 1 |\n",
    "\n",
    "What we gained is the a drop in the times of the stage #2 thanks to the fact reviews data have been first aggregated and then shuffled: compared to the non-optimized job we reduced the shuffle read size from 767.7 MiB to 66.0 MiB and the duration from 52 to 6 seconds.\n",
    "\n",
    "Changing from `aggregateByKey` to `reduceByKey` does not produce observable performances increments.\n",
    "\n",
    "**Total time**: 1.9 minutes, ~47% faster"
   ]
  },
  {
   "cell_type": "markdown",
   "id": "3c15e91b",
   "metadata": {},
   "source": [
    "<ins>Last optimization:</ins>\n",
    "Partitioning by `gmap_id` in $N=24$ partitions.\n",
    "$N = 24$ have been chosen empirically based on the cluster configuration and the tasks analysis from Spark UI since it provides a good balance between parallelism and overhead due to task scheduling.\n",
    "\n",
    "Moreover, since after the first reviews aggregation the data passes from 9.8GiB to 66.0 MiB a `coalesce` operation is applied to reduce the number of partitions and optimize the subsequent stages to avoid excessive task scheduling overhead.\n",
    "\n",
    "Finally (c.f. `application_1755016159156_0005`):\n",
    "\n",
    "| #Stage | Input | Output | Shuffle read | Shuffle write | Duration | Partitions |\n",
    "|--------|-------|--------|--------------|---------------|----------|------------|\n",
    "| 0: load metadata | 292.5 MiB | | | 8.5 MiB | 16s | 4 |\n",
    "| 1: load reviews  | 9.8 GiB | | | **66.0 MiB** | 1.6 min | 79 |\n",
    "| 2: aggregate by key | | | **66.0 MiB** | 55.0 MiB | **5s** | 24 |\n",
    "| 3: partitionBy + join | | | 63.5 MiB | **280.2 KiB** | **3s** | 24 | \n",
    "| 4: reduce by key | | | 280 KiB | 11.0 KiB | 2s | 1 |\n",
    "\n",
    "**Total time**: 1.8 min, ~55% faster"
   ]
  }
 ],
 "metadata": {
  "kernelspec": {
   "display_name": "spylon-kernel",
   "language": "scala",
   "name": "spylon-kernel"
  },
  "language_info": {
   "codemirror_mode": "text/x-scala",
   "file_extension": ".scala",
   "help_links": [
    {
     "text": "MetaKernel Magics",
     "url": "https://metakernel.readthedocs.io/en/latest/source/README.html"
    }
   ],
   "mimetype": "text/x-scala",
   "name": "scala",
   "pygments_lexer": "scala",
   "version": "0.4.1"
  }
 },
 "nbformat": 4,
 "nbformat_minor": 5
}
