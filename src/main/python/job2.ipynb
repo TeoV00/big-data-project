{
 "cells": [
  {
   "cell_type": "markdown",
   "id": "b5280eb7",
   "metadata": {},
   "source": [
    "# Job 2\n",
    "\n",
    "Il job 2 valuta, annualmente, per ogni stato e categoria di business la valutazione media per ogni fascia di prezzo, assegnando un giudizio.\n",
    "\n",
    "Nel dettaglio:\n",
    "\n",
    "- per ogni business viene calcolata la valutazione media delle recensioni raggruppandole per anno;\n",
    "- aggregando in base alla categoria di business, lo stato e la fascia di prezzo viene calcolata la media delle valutazioni medie delle recensioni;\n",
    "- in base alla valutazione media viene elaborato un attributo aggiuntivo \"business suggestion\" che fornisce un giudizio sulle categorie di business, come segue:\n",
    "  - valutazione media < 2: \"Not recommended\"\n",
    "  - valutazione media 2–3.5: \"Discreet\"\n",
    "  - valutazione media 3.5–4.5: \"Recommended\"\n",
    "  - valutazione media > 4.5: \"Highly recommended\"\n",
    "\n"
   ]
  },
  {
   "cell_type": "markdown",
   "id": "a6cc7353",
   "metadata": {},
   "source": [
    "### Schema definitions"
   ]
  },
  {
   "cell_type": "code",
   "execution_count": 21,
   "id": "aaaccc8c",
   "metadata": {},
   "outputs": [
    {
     "data": {
      "text/plain": [
       "import org.apache.spark\n"
      ]
     },
     "execution_count": 21,
     "metadata": {},
     "output_type": "execute_result"
    }
   ],
   "source": [
    "import org.apache.spark"
   ]
  },
  {
   "cell_type": "code",
   "execution_count": 22,
   "id": "32a0b981",
   "metadata": {},
   "outputs": [
    {
     "data": {
      "text/plain": [
       "import org.apache.spark.sql.types._\n",
       "import java.sql.Timestamp\n",
       "reviewSchema: org.apache.spark.sql.types.StructType = StructType(StructField(user_id,StringType,true),StructField(name,StringType,true),StructField(time,LongType,false),StructField(rating,DoubleType,true),StructField(text,StringType,true),StructField(pics,ArrayType(StringType,true),true),StructField(resp,StructType(StructField(time,LongType,false),StructField(text,StringType,true)),true),StructField(gmap_id,StringType,false))\n",
       "defined class Response\n",
       "defined class Review\n"
      ]
     },
     "execution_count": 22,
     "metadata": {},
     "output_type": "execute_result"
    }
   ],
   "source": [
    "import org.apache.spark.sql.types._\n",
    "import java.sql.Timestamp\n",
    "\n",
    "val reviewSchema = StructType(\n",
    "  Seq(\n",
    "    StructField(\"user_id\",  StringType,            nullable = true),\n",
    "    StructField(\"name\",     StringType,            nullable = true),\n",
    "    StructField(\"time\",     LongType,              nullable = false),\n",
    "    StructField(\"rating\",   DoubleType,            nullable = true),\n",
    "    StructField(\"text\",     StringType,            nullable = true),\n",
    "    StructField(\"pics\",     ArrayType(StringType), nullable = true),\n",
    "    StructField(\"resp\",     StructType(\n",
    "      Seq(\n",
    "        StructField(\"time\", LongType,              nullable = false),\n",
    "        StructField(\"text\", StringType,            nullable = true)\n",
    "      )\n",
    "    ),                                             nullable = true),\n",
    "    StructField(\"gmap_id\",  StringType,            nullable = false),\n",
    "  )\n",
    ")\n",
    "\n",
    "case class Response(time: Timestamp, text: Option[String])\n",
    "\n",
    "case class Review(\n",
    "  user_id: Option[String],\n",
    "  name: Option[String],\n",
    "  time: Timestamp,\n",
    "  rating: Option[Double],\n",
    "  text: Option[String],\n",
    "  pics: Seq[String],\n",
    "  resp: Option[Response],\n",
    "  gmap_id: String\n",
    ")"
   ]
  },
  {
   "cell_type": "code",
   "execution_count": 23,
   "id": "216bdcb6",
   "metadata": {},
   "outputs": [
    {
     "data": {
      "text/plain": [
       "metadataSchema: org.apache.spark.sql.types.StructType = StructType(StructField(name,StringType,true),StructField(address,StringType,true),StructField(gmap_id,StringType,false),StructField(description,StringType,true),StructField(latitude,DoubleType,false),StructField(longitude,DoubleType,false),StructField(category,ArrayType(StringType,true),true),StructField(avg_rating,DoubleType,false),StructField(num_of_reviews,IntegerType,false),StructField(price,StringType,false),StructField(hours,ArrayType(ArrayType(StringType,true),true),true),StructField(MISC,MapType(StringType,ArrayType(StringType,true),true),false),StructField(state,StringType,true),StructField(relative_results,ArrayType(StringType,true),true),StructField(url,StringType,false))\n",
       "defined class Metadata\n"
      ]
     },
     "execution_count": 23,
     "metadata": {},
     "output_type": "execute_result"
    }
   ],
   "source": [
    "val metadataSchema = StructType(\n",
    "  Seq(\n",
    "    StructField(\"name\",             StringType,                                 nullable = true),\n",
    "    StructField(\"address\",          StringType,                                 nullable = true),\n",
    "    StructField(\"gmap_id\",          StringType,                                 nullable = false),\n",
    "    StructField(\"description\",      StringType,                                 nullable = true),\n",
    "    StructField(\"latitude\",         DoubleType,                                 nullable = false),\n",
    "    StructField(\"longitude\",        DoubleType,                                 nullable = false),\n",
    "    StructField(\"category\",         ArrayType(StringType),                      nullable = true),\n",
    "    StructField(\"avg_rating\",       DoubleType,                                 nullable = false),\n",
    "    StructField(\"num_of_reviews\",   IntegerType,                                nullable = false),\n",
    "    StructField(\"price\",            StringType,                                 nullable = false),\n",
    "    StructField(\"hours\",            ArrayType(ArrayType(StringType)),           nullable = true),\n",
    "    StructField(\"MISC\",             MapType(StringType, ArrayType(StringType)), nullable = false),\n",
    "    StructField(\"state\",            StringType,                                 nullable = true),\n",
    "    StructField(\"relative_results\", ArrayType(StringType),                      nullable = true),\n",
    "    StructField(\"url\",              StringType,                                 nullable = false),\n",
    "  )\n",
    ")\n",
    "\n",
    "case class Metadata(\n",
    "  name: Option[String],\n",
    "  address: Option[String],\n",
    "  gmap_id: String,\n",
    "  description: Option[String],\n",
    "  latitude: Double,\n",
    "  longitude: Double,\n",
    "  category: Seq[String],\n",
    "  avg_rating: Double,\n",
    "  num_of_reviews: Int,\n",
    "  price: String,\n",
    "  hours: Seq[Seq[String]],\n",
    "  MISC: Map[String, Seq[String]],\n",
    "  state: Option[String],\n",
    "  relative_results: Seq[String],\n",
    "  url: String\n",
    ")"
   ]
  },
  {
   "cell_type": "markdown",
   "id": "eb8e700d",
   "metadata": {},
   "source": [
    "### Dataset load and parse"
   ]
  },
  {
   "cell_type": "code",
   "execution_count": 24,
   "id": "403bc6b7",
   "metadata": {},
   "outputs": [
    {
     "name": "stdout",
     "output_type": "stream",
     "text": [
      "root\n",
      " |-- user_id: string (nullable = true)\n",
      " |-- name: string (nullable = true)\n",
      " |-- time: timestamp (nullable = true)\n",
      " |-- rating: double (nullable = true)\n",
      " |-- text: string (nullable = true)\n",
      " |-- pics: array (nullable = true)\n",
      " |    |-- element: string (containsNull = true)\n",
      " |-- resp: struct (nullable = true)\n",
      " |    |-- time: timestamp (nullable = true)\n",
      " |    |-- text: string (nullable = true)\n",
      " |-- gmap_id: string (nullable = true)\n",
      "\n",
      "root\n",
      " |-- name: string (nullable = true)\n",
      " |-- address: string (nullable = true)\n",
      " |-- gmap_id: string (nullable = true)\n",
      " |-- description: string (nullable = true)\n",
      " |-- latitude: double (nullable = true)\n",
      " |-- longitude: double (nullable = true)\n",
      " |-- category: array (nullable = true)\n",
      " |    |-- element: string (containsNull = true)\n",
      " |-- avg_rating: double (nullable = true)\n",
      " |-- num_of_reviews: integer (nullable = true)\n",
      " |-- price: string (nullable = true)\n",
      " |-- hours: array (nullable = true)\n",
      " |    |-- element: array (containsNull = true)\n",
      " |    |    |-- element: string (containsNull = true)\n",
      " |-- MISC: map (nullable = true)\n",
      " |    |-- key: string\n",
      " |    |-- value: array (valueContainsNull = true)\n",
      " |    |    |-- element: string (containsNull = true)\n",
      " |-- state: string (nullable = true)\n",
      " |-- relative_results: array (nullable = true)\n",
      " |    |-- element: string (containsNull = true)\n",
      " |-- url: string (nullable = true)\n",
      "\n"
     ]
    },
    {
     "data": {
      "text/plain": [
       "warning: 5 feature warnings; for details, enable `:setting -feature' or `:replay -feature'\n",
       "import java.nio.file.Paths\n",
       "import org.apache.spark.sql.SparkSession\n",
       "import org.apache.spark.sql.functions.from_unixtime\n",
       "projectDir: String = /Users/teo/Universita/Magistrale/BIG_DATA/bd-project25\n",
       "reviewsPath: String = /Users/teo/Universita/Magistrale/BIG_DATA/bd-project25/dataset/sample-reviews.ndjson\n",
       "metadataPath: String = /Users/teo/Universita/Magistrale/BIG_DATA/bd-project25/dataset/metadata.ndjson\n",
       "spark: org.apache.spark.sql.SparkSession = org.apache.spark.sql.SparkSession@7806cac3\n",
       "reviewsDf: org.apache.spark.sql.Dataset[Review] = [user_id: string, name: string ... 6 more fields]\n",
       "metadataDf: org.apache.spark.sql.Dataset[Metadata] = [name: string, address: string ... 13 more fields]\n",
       "reviewsRdd: org.apache.spark.rdd.RDD[(Option[String], Option[String], java.sql.Timestamp, Option[Doubl...\n"
      ]
     },
     "execution_count": 24,
     "metadata": {},
     "output_type": "execute_result"
    }
   ],
   "source": [
    "import java.nio.file.Paths\n",
    "import org.apache.spark.sql.SparkSession\n",
    "import org.apache.spark.sql.functions.from_unixtime\n",
    "\n",
    "val projectDir: String = Paths.get(System.getProperty(\"user.dir\")).getParent.getParent.getParent.toString\n",
    "val reviewsPath = s\"$projectDir/dataset/sample-reviews.ndjson\"\n",
    "val metadataPath = s\"$projectDir/dataset/metadata.ndjson\"\n",
    "\n",
    "val spark = SparkSession.builder()\n",
    "  .appName(\"NDJSON Reader\")\n",
    "  .master(\"local[*]\") // Needed in local mode\n",
    "  .getOrCreate()\n",
    "\n",
    "val reviewsDf = spark.read\n",
    "  .schema(reviewSchema)\n",
    "  .json(reviewsPath)\n",
    "  .withColumn(\"pics\", when (col(\"pics\") isNull, array()) otherwise col(\"pics\"))\n",
    "  .withColumn(\"time\", from_unixtime(col(\"time\") / 1000).cast(\"timestamp\"))\n",
    "  .withColumn(\"resp\", \n",
    "    when (\n",
    "      col(\"resp\") isNotNull, \n",
    "      struct(\n",
    "        from_unixtime(col(\"resp.time\") / 1000).cast(\"timestamp\").alias(\"time\"),\n",
    "        col(\"resp.text\").cast(StringType).alias(\"text\")\n",
    "      )\n",
    "    ) otherwise lit(null)\n",
    "  )\n",
    "  .as[Review]\n",
    "\n",
    "val metadataDf = spark.read\n",
    "  .schema(metadataSchema)\n",
    "  .json(metadataPath)\n",
    "  .withColumn(\"category\", when (col(\"category\") isNull, array()) otherwise col(\"category\"))\n",
    "  .withColumn(\"hours\", when (col(\"hours\") isNull, array()) otherwise col(\"hours\"))\n",
    "  .withColumn(\"relative_results\", when (col(\"relative_results\") isNull, array()) otherwise col(\"relative_results\"))\n",
    "  .as[Metadata]\n",
    "\n",
    "reviewsDf.printSchema()\n",
    "metadataDf.printSchema()\n",
    "\n",
    "// Unforturnately, it seems that Spark does not support case classes in RDDs. It throws ArrayStoreException\n",
    "// when trying to collect the RDD... [see also [here](https://github.com/adtech-labs/spylon-kernel/issues/40)]\n",
    "val reviewsRdd = reviewsDf.rdd\n",
    "  .map(Review.unapply(_).get)\n",
    "  .map { case review @ (_, _, _, _, _, _, resp, _) => review.copy(_7 = resp.map(Response.unapply(_).get)) }\n",
    "val metaRdd = metadataDf.rdd.map(Metadata.unapply).map(_.get)"
   ]
  },
  {
   "cell_type": "markdown",
   "id": "dcc4de03-7e72-4d74-81ab-3c4918215f8e",
   "metadata": {},
   "source": [
    "---\n",
    "\n",
    "**Metadata**: (name, address, <ins>gmap_id</ins>, description, latitude, longitude, category, avg_rating, num_of_reviews, price, hours, misc, state, relative_results, url)\n",
    "\n",
    "**Review**: (user_id, name, time, rating, text, pics, responses, <ins>gmap_id</ins>)\n",
    "\n",
    "---"
   ]
  },
  {
   "cell_type": "code",
   "execution_count": 25,
   "id": "fbb12f4b",
   "metadata": {},
   "outputs": [
    {
     "data": {
      "text/plain": [
       "ratingToSuggestion: (rating: Double)String\n",
       "toState: (address: Option[String])String\n"
      ]
     },
     "execution_count": 25,
     "metadata": {},
     "output_type": "execute_result"
    }
   ],
   "source": [
    "// avg rating mapper to description\n",
    "def ratingToSuggestion(rating: Double): String =\n",
    "  rating match {\n",
    "    case r if r <= 2.0 => \"Not recommended\"\n",
    "    case r if r > 2.0 && r <= 3.5 => \"Discreet\"\n",
    "    case r if r > 3.5 && r <= 4.5 => \"Recommended\"\n",
    "    case r if r > 4.5 => \"Highly recommended\"\n",
    "    case _ => \"Undefined\"\n",
    "  }\n",
    "\n",
    "def toState(address: Option[String]): String = address.flatMap { addr =>\n",
    "    // This regex captures the state abbreviation between a comma and the ZIP code\n",
    "    val StateRegex = \"\"\",\\s*([A-Z]{2})\\s+\\d{5}\"\"\".r\n",
    "    StateRegex.findFirstMatchIn(addr).map(_.group(1))\n",
    "  }.getOrElse(\"Unknown\")"
   ]
  },
  {
   "cell_type": "code",
   "execution_count": 26,
   "id": "da887fe2",
   "metadata": {},
   "outputs": [
    {
     "data": {
      "text/plain": [
       "businessAvgRating: org.apache.spark.rdd.RDD[(String, (Int, Double))] = MapPartitionsRDD[60] at map at <console>:50\n"
      ]
     },
     "execution_count": 26,
     "metadata": {},
     "output_type": "execute_result"
    }
   ],
   "source": [
    "val businessAvgRating = reviewsRdd\n",
    "  .filter(_._4.isDefined)\n",
    "  .map{ case r => \n",
    "    val rating = r._4.get\n",
    "    val gmap_id = r._8\n",
    "    val year = r._3.toLocalDateTime.getYear\n",
    "    (gmap_id, year) -> (1, rating)\n",
    "  }\n",
    "  .reduceByKey((a, b) => (a._1 + b._1, a._2 + b._2)) // count reviews and sum rating value\n",
    "  .map{ case ((gmap_id, year), c) => gmap_id -> (year, c._2/c._1) }"
   ]
  },
  {
   "cell_type": "code",
   "execution_count": null,
   "id": "8313b4b1",
   "metadata": {},
   "outputs": [
    {
     "ename": "<console>",
     "evalue": "46: error: missing parameter type for expanded function ((x$1: <error>) => x$1._10)",
     "output_type": "error",
     "traceback": [
      "<console>:46: error: missing parameter type for expanded function ((x$1: <error>) => x$1._10)",
      "       .filter(Option(_._10).isDefined)",
      "                      ^",
      "<console>:46: error: type mismatch;",
      " found   : Boolean",
      " required: ((Option[String], Option[String], String, Option[String], Double, Double, Seq[String], Double, Int, String, Seq[Seq[String]], Map[String,Seq[String]], Option[String], Seq[String], String)) => Boolean",
      "       .filter(Option(_._10).isDefined)",
      "                             ^",
      "<console>:56: error: value sum is not a member of Any",
      "         val avgRate = ratings.sum/ratings.size",
      "                               ^",
      "<console>:56: error: value size is not a member of Any",
      "         val avgRate = ratings.sum/ratings.size",
      "                                           ^",
      ""
     ]
    }
   ],
   "source": [
    "val results = metaRdd\n",
    ".filter(_._10 != null)\n",
    ".flatMap(r => \n",
    "  r._7.map(category => r._3 -> (category, toState(r._2), r._10))\n",
    ") //(gmap_id, (category, state, price))\n",
    ".join(businessAvgRating)\n",
    ".map { case (_, ((category, state, price), (year, avgRate))) => \n",
    "  (category, state, price, year) -> avgRate\n",
    "}\n",
    ".groupByKey()\n",
    ".map{ case (key, ratings) => \n",
    "  val avgRate = ratings.sum/ratings.size\n",
    "  (key, f\"${avgRate}%.2f\", ratingToSuggestion(avgRate))\n",
    "}"
   ]
  },
  {
   "cell_type": "markdown",
   "id": "f981e116",
   "metadata": {},
   "source": [
    "### Save output result"
   ]
  },
  {
   "cell_type": "code",
   "execution_count": 32,
   "id": "c28d3eff",
   "metadata": {},
   "outputs": [
    {
     "data": {
      "text/plain": [
       "outputDirPath: String = /Users/teo/Universita/Magistrale/BIG_DATA/bd-project25/output\n",
       "outputPath: String = /Users/teo/Universita/Magistrale/BIG_DATA/bd-project25/output/job2-output\n"
      ]
     },
     "execution_count": 32,
     "metadata": {},
     "output_type": "execute_result"
    }
   ],
   "source": [
    "val outputDirPath = s\"$projectDir/output\"\n",
    "val outputPath = s\"$outputDirPath/job2-output\""
   ]
  },
  {
   "cell_type": "code",
   "execution_count": 33,
   "id": "89049b35",
   "metadata": {},
   "outputs": [
    {
     "ename": "org.apache.spark.SparkException",
     "evalue": " Job aborted due to stage failure: Task 3 in stage 17.0 failed 1 times, most recent failure: Lost task 3.0 in stage 17.0 (TID 109) (192.168.0.178 executor driver): java.lang.NullPointerException: Cannot invoke \"String.length()\" because \"$this\" is null",
     "output_type": "error",
     "traceback": [
      "org.apache.spark.SparkException: Job aborted due to stage failure: Task 3 in stage 17.0 failed 1 times, most recent failure: Lost task 3.0 in stage 17.0 (TID 109) (192.168.0.178 executor driver): java.lang.NullPointerException: Cannot invoke \"String.length()\" because \"$this\" is null",
      "\tat scala.collection.immutable.StringOps$.length$extension(StringOps.scala:51)",
      "\tat scala.collection.immutable.StringOps.length(StringOps.scala:51)",
      "\tat scala.collection.IndexedSeqOptimized.isEmpty(IndexedSeqOptimized.scala:30)",
      "\tat scala.collection.IndexedSeqOptimized.isEmpty$(IndexedSeqOptimized.scala:30)",
      "\tat scala.collection.immutable.StringOps.isEmpty(StringOps.scala:33)",
      "\tat scala.collection.TraversableOnce.nonEmpty(TraversableOnce.scala:143)",
      "\tat scala.collection.TraversableOnce.nonEmpty$(TraversableOnce.scala:143)",
      "\tat scala.collection.immutable.StringOps.nonEmpty(StringOps.scala:33)",
      "\tat $anonfun$results$1(<console>:46)",
      "\tat $anonfun$results$1$adapted(<console>:46)",
      "\tat scala.collection.Iterator$$anon$12.hasNext(Iterator.scala:515)",
      "\tat scala.collection.Iterator$$anon$11.hasNext(Iterator.scala:491)",
      "\tat org.apache.spark.shuffle.sort.BypassMergeSortShuffleWriter.write(BypassMergeSortShuffleWriter.java:140)",
      "\tat org.apache.spark.shuffle.ShuffleWriteProcessor.write(ShuffleWriteProcessor.scala:59)",
      "\tat org.apache.spark.scheduler.ShuffleMapTask.runTask(ShuffleMapTask.scala:104)",
      "\tat org.apache.spark.scheduler.ShuffleMapTask.runTask(ShuffleMapTask.scala:54)",
      "\tat org.apache.spark.TaskContext.runTaskWithListeners(TaskContext.scala:166)",
      "\tat org.apache.spark.scheduler.Task.run(Task.scala:141)",
      "\tat org.apache.spark.executor.Executor$TaskRunner.$anonfun$run$4(Executor.scala:620)",
      "\tat org.apache.spark.util.SparkErrorUtils.tryWithSafeFinally(SparkErrorUtils.scala:64)",
      "\tat org.apache.spark.util.SparkErrorUtils.tryWithSafeFinally$(SparkErrorUtils.scala:61)",
      "\tat org.apache.spark.util.Utils$.tryWithSafeFinally(Utils.scala:94)",
      "\tat org.apache.spark.executor.Executor$TaskRunner.run(Executor.scala:623)",
      "\tat java.base/java.util.concurrent.ThreadPoolExecutor.runWorker(ThreadPoolExecutor.java:1144)",
      "\tat java.base/java.util.concurrent.ThreadPoolExecutor$Worker.run(ThreadPoolExecutor.java:642)",
      "\tat java.base/java.lang.Thread.run(Thread.java:1583)",
      "",
      "Driver stacktrace:",
      "  at org.apache.spark.scheduler.DAGScheduler.failJobAndIndependentStages(DAGScheduler.scala:2856)",
      "  at org.apache.spark.scheduler.DAGScheduler.$anonfun$abortStage$2(DAGScheduler.scala:2792)",
      "  at org.apache.spark.scheduler.DAGScheduler.$anonfun$abortStage$2$adapted(DAGScheduler.scala:2791)",
      "  at scala.collection.mutable.ResizableArray.foreach(ResizableArray.scala:62)",
      "  at scala.collection.mutable.ResizableArray.foreach$(ResizableArray.scala:55)",
      "  at scala.collection.mutable.ArrayBuffer.foreach(ArrayBuffer.scala:49)",
      "  at org.apache.spark.scheduler.DAGScheduler.abortStage(DAGScheduler.scala:2791)",
      "  at org.apache.spark.scheduler.DAGScheduler.$anonfun$handleTaskSetFailed$1(DAGScheduler.scala:1247)",
      "  at org.apache.spark.scheduler.DAGScheduler.$anonfun$handleTaskSetFailed$1$adapted(DAGScheduler.scala:1247)",
      "  at scala.Option.foreach(Option.scala:407)",
      "  at org.apache.spark.scheduler.DAGScheduler.handleTaskSetFailed(DAGScheduler.scala:1247)",
      "  at org.apache.spark.scheduler.DAGSchedulerEventProcessLoop.doOnReceive(DAGScheduler.scala:3060)",
      "  at org.apache.spark.scheduler.DAGSchedulerEventProcessLoop.onReceive(DAGScheduler.scala:2994)",
      "  at org.apache.spark.scheduler.DAGSchedulerEventProcessLoop.onReceive(DAGScheduler.scala:2983)",
      "  at org.apache.spark.util.EventLoop$$anon$1.run(EventLoop.scala:49)",
      "  at org.apache.spark.scheduler.DAGScheduler.runJob(DAGScheduler.scala:989)",
      "  at org.apache.spark.SparkContext.runJob(SparkContext.scala:2398)",
      "  at org.apache.spark.sql.execution.datasources.FileFormatWriter$.$anonfun$executeWrite$4(FileFormatWriter.scala:307)",
      "  at org.apache.spark.sql.execution.datasources.FileFormatWriter$.writeAndCommit(FileFormatWriter.scala:271)",
      "  at org.apache.spark.sql.execution.datasources.FileFormatWriter$.executeWrite(FileFormatWriter.scala:304)",
      "  at org.apache.spark.sql.execution.datasources.FileFormatWriter$.write(FileFormatWriter.scala:190)",
      "  at org.apache.spark.sql.execution.datasources.InsertIntoHadoopFsRelationCommand.run(InsertIntoHadoopFsRelationCommand.scala:190)",
      "  at org.apache.spark.sql.execution.command.DataWritingCommandExec.sideEffectResult$lzycompute(commands.scala:113)",
      "  at org.apache.spark.sql.execution.command.DataWritingCommandExec.sideEffectResult(commands.scala:111)",
      "  at org.apache.spark.sql.execution.command.DataWritingCommandExec.executeCollect(commands.scala:125)",
      "  at org.apache.spark.sql.execution.QueryExecution$$anonfun$eagerlyExecuteCommands$1.$anonfun$applyOrElse$1(QueryExecution.scala:107)",
      "  at org.apache.spark.sql.execution.SQLExecution$.$anonfun$withNewExecutionId$6(SQLExecution.scala:125)",
      "  at org.apache.spark.sql.execution.SQLExecution$.withSQLConfPropagated(SQLExecution.scala:201)",
      "  at org.apache.spark.sql.execution.SQLExecution$.$anonfun$withNewExecutionId$1(SQLExecution.scala:108)",
      "  at org.apache.spark.sql.SparkSession.withActive(SparkSession.scala:900)",
      "  at org.apache.spark.sql.execution.SQLExecution$.withNewExecutionId(SQLExecution.scala:66)",
      "  at org.apache.spark.sql.execution.QueryExecution$$anonfun$eagerlyExecuteCommands$1.applyOrElse(QueryExecution.scala:107)",
      "  at org.apache.spark.sql.execution.QueryExecution$$anonfun$eagerlyExecuteCommands$1.applyOrElse(QueryExecution.scala:98)",
      "  at org.apache.spark.sql.catalyst.trees.TreeNode.$anonfun$transformDownWithPruning$1(TreeNode.scala:461)",
      "  at org.apache.spark.sql.catalyst.trees.CurrentOrigin$.withOrigin(origin.scala:76)",
      "  at org.apache.spark.sql.catalyst.trees.TreeNode.transformDownWithPruning(TreeNode.scala:461)",
      "  at org.apache.spark.sql.catalyst.plans.logical.LogicalPlan.org$apache$spark$sql$catalyst$plans$logical$AnalysisHelper$$super$transformDownWithPruning(LogicalPlan.scala:32)",
      "  at org.apache.spark.sql.catalyst.plans.logical.AnalysisHelper.transformDownWithPruning(AnalysisHelper.scala:267)",
      "  at org.apache.spark.sql.catalyst.plans.logical.AnalysisHelper.transformDownWithPruning$(AnalysisHelper.scala:263)",
      "  at org.apache.spark.sql.catalyst.plans.logical.LogicalPlan.transformDownWithPruning(LogicalPlan.scala:32)",
      "  at org.apache.spark.sql.catalyst.plans.logical.LogicalPlan.transformDownWithPruning(LogicalPlan.scala:32)",
      "  at org.apache.spark.sql.catalyst.trees.TreeNode.transformDown(TreeNode.scala:437)",
      "  at org.apache.spark.sql.execution.QueryExecution.eagerlyExecuteCommands(QueryExecution.scala:98)",
      "  at org.apache.spark.sql.execution.QueryExecution.commandExecuted$lzycompute(QueryExecution.scala:85)",
      "  at org.apache.spark.sql.execution.QueryExecution.commandExecuted(QueryExecution.scala:83)",
      "  at org.apache.spark.sql.execution.QueryExecution.assertCommandExecuted(QueryExecution.scala:142)",
      "  at org.apache.spark.sql.DataFrameWriter.runCommand(DataFrameWriter.scala:859)",
      "  at org.apache.spark.sql.DataFrameWriter.saveToV1Source(DataFrameWriter.scala:388)",
      "  at org.apache.spark.sql.DataFrameWriter.saveInternal(DataFrameWriter.scala:361)",
      "  at org.apache.spark.sql.DataFrameWriter.save(DataFrameWriter.scala:240)",
      "  ... 41 elided",
      "Caused by: java.lang.NullPointerException",
      "  at scala.collection.immutable.StringOps$.length$extension(StringOps.scala:51)",
      "  at scala.collection.immutable.StringOps.length(StringOps.scala:51)",
      "  at scala.collection.IndexedSeqOptimized.isEmpty(IndexedSeqOptimized.scala:30)",
      "  at scala.collection.IndexedSeqOptimized.isEmpty$(IndexedSeqOptimized.scala:30)",
      "  at scala.collection.immutable.StringOps.isEmpty(StringOps.scala:33)",
      "  at scala.collection.TraversableOnce.nonEmpty(TraversableOnce.scala:143)",
      "  at scala.collection.TraversableOnce.nonEmpty$(TraversableOnce.scala:143)",
      "  at scala.collection.immutable.StringOps.nonEmpty(StringOps.scala:33)",
      "  at $anonfun$results$1(<console>:46)",
      "  at $anonfun$results$1$adapted(<console>:46)",
      "  at scala.collection.Iterator$$anon$12.hasNext(Iterator.scala:515)",
      "  at scala.collection.Iterator$$anon$11.hasNext(Iterator.scala:491)",
      "  at org.apache.spark.shuffle.sort.BypassMergeSortShuffleWriter.write(BypassMergeSortShuffleWriter.java:140)",
      "  at org.apache.spark.shuffle.ShuffleWriteProcessor.write(ShuffleWriteProcessor.scala:59)",
      "  at org.apache.spark.scheduler.ShuffleMapTask.runTask(ShuffleMapTask.scala:104)",
      "  at org.apache.spark.scheduler.ShuffleMapTask.runTask(ShuffleMapTask.scala:54)",
      "  at org.apache.spark.TaskContext.runTaskWithListeners(TaskContext.scala:166)",
      "  at org.apache.spark.scheduler.Task.run(Task.scala:141)",
      "  at org.apache.spark.executor.Executor$TaskRunner.$anonfun$run$4(Executor.scala:620)",
      "  at org.apache.spark.util.SparkErrorUtils.tryWithSafeFinally(SparkErrorUtils.scala:64)",
      "  at org.apache.spark.util.SparkErrorUtils.tryWithSafeFinally$(SparkErrorUtils.scala:61)",
      "  at org.apache.spark.util.Utils$.tryWithSafeFinally(Utils.scala:94)",
      "  at org.apache.spark.executor.Executor$TaskRunner.run(Executor.scala:623)",
      "  at java.base/java.util.concurrent.ThreadPoolExecutor.runWorker(ThreadPoolExecutor.java:1144)",
      "  at java.base/java.util.concurrent.ThreadPoolExecutor$Worker.run(ThreadPoolExecutor.java:642)",
      "  ... 1 more",
      ""
     ]
    }
   ],
   "source": [
    "import org.apache.spark.sql.SaveMode\n",
    "results.map { case ((category, state, price, year), avgRate, suggestion) =>\n",
    "        (category, state, price, year, avgRate, suggestion)\n",
    "      }\n",
    "      .coalesce(1)\n",
    "      .toDF(\"category\", \"state\", \"price\", \"year\", \"avg_rating\", \"business suggestion\")\n",
    "      .write\n",
    "      .format(\"csv\")\n",
    "      .option(\"header\", \"true\")\n",
    "      .mode(SaveMode.Overwrite)\n",
    "      .save(s\"file://$outputPath\")"
   ]
  },
  {
   "cell_type": "markdown",
   "id": "8632ca6e",
   "metadata": {},
   "source": [
    "### Plotting results"
   ]
  },
  {
   "cell_type": "code",
   "execution_count": null,
   "id": "af095877",
   "metadata": {
    "vscode": {
     "languageId": "python"
    }
   },
   "outputs": [],
   "source": [
    "%%python\n",
    "import pandas as pd\n",
    "import matplotlib.pyplot as plt\n",
    "from ipywidgets import interact, IntSlider\n",
    "\n",
    "# Carica i risultati dal file CSV generato da Spark\n",
    "df = pd.read_csv(\"/Users/teo/Universita/Magistrale/BIG_DATA/bd-project25/output/job2-output/part-00000-e4c78d04-7c37-40b2-b4ff-95964b88d453-c000.csv\")\n",
    "\n",
    "def plot_by_year(anno_selezionato):\n",
    "  df_filtrato = df[df['year'] == anno_selezionato]\n",
    "  grouped = df_filtrato.groupby(['category', 'business suggestion'])['state'].nunique().reset_index()\n",
    "  pivot = grouped.pivot(index='category', columns='business suggestion', values='state').fillna(0)\n",
    "  pivot.plot(kind='bar', stacked=True, figsize=(12,6))\n",
    "  plt.ylabel('Numero di stati')\n",
    "  plt.xlabel('Categoria di business')\n",
    "  plt.title(f'Numero di stati per giudizio di qualità e categoria di business ({anno_selezionato})')\n",
    "  plt.legend(title='Business suggestion')\n",
    "  plt.tight_layout()\n",
    "  plt.show()\n",
    "interact(plot_by_year, anno_selezionato=2020)\n"
   ]
  }
 ],
 "metadata": {
  "kernelspec": {
   "display_name": "spylon-kernel",
   "language": "scala",
   "name": "spylon-kernel"
  },
  "language_info": {
   "codemirror_mode": "text/x-scala",
   "file_extension": ".scala",
   "help_links": [
    {
     "text": "MetaKernel Magics",
     "url": "https://metakernel.readthedocs.io/en/latest/source/README.html"
    }
   ],
   "mimetype": "text/x-scala",
   "name": "scala",
   "pygments_lexer": "scala",
   "version": "0.4.1"
  }
 },
 "nbformat": 4,
 "nbformat_minor": 5
}
