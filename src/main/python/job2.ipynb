{
 "cells": [
  {
   "cell_type": "markdown",
   "id": "b5280eb7",
   "metadata": {},
   "source": [
    "# Job 2\n",
    "\n",
    "Il job 2 valuta, annualmente, per ogni stato e categoria di business la valutazione media per ogni fascia di prezzo, assegnando un giudizio.\n",
    "\n",
    "Nel dettaglio:\n",
    "\n",
    "- per ogni business viene calcolata la valutazione media delle recensioni raggruppandole per anno;\n",
    "- aggregando in base alla categoria di business, lo stato e la fascia di prezzo viene calcolata la media delle valutazioni medie delle recensioni;\n",
    "- in base alla valutazione media viene elaborato un attributo aggiuntivo \"business suggestion\" che fornisce un giudizio sulle categorie di business, come segue:\n",
    "  - valutazione media < 2: \"Not recommended\"\n",
    "  - valutazione media 2–3.5: \"Discreet\"\n",
    "  - valutazione media 3.5–4.5: \"Recommended\"\n",
    "  - valutazione media > 4.5: \"Highly recommended\"\n",
    "\n"
   ]
  },
  {
   "cell_type": "markdown",
   "id": "a6cc7353",
   "metadata": {},
   "source": [
    "### Schema definitions"
   ]
  },
  {
   "cell_type": "code",
   "execution_count": 21,
   "id": "aaaccc8c",
   "metadata": {},
   "outputs": [
    {
     "data": {
      "text/plain": [
       "import org.apache.spark\n"
      ]
     },
     "execution_count": 21,
     "metadata": {},
     "output_type": "execute_result"
    }
   ],
   "source": [
    "import org.apache.spark"
   ]
  },
  {
   "cell_type": "code",
   "execution_count": 22,
   "id": "c16f4a90",
   "metadata": {},
   "outputs": [],
   "source": [
    "for ((k,v) <- sc.getPersistentRDDs) {\n",
    "  v.unpersist()\n",
    "}"
   ]
  },
  {
   "cell_type": "code",
   "execution_count": 23,
   "id": "32a0b981",
   "metadata": {},
   "outputs": [
    {
     "data": {
      "text/plain": [
       "import org.apache.spark.sql.types._\n",
       "import java.sql.Timestamp\n",
       "reviewSchema: org.apache.spark.sql.types.StructType = StructType(StructField(user_id,StringType,true),StructField(name,StringType,true),StructField(time,LongType,false),StructField(rating,DoubleType,true),StructField(text,StringType,true),StructField(pics,ArrayType(StringType,true),true),StructField(resp,StructType(StructField(time,LongType,false),StructField(text,StringType,true)),true),StructField(gmap_id,StringType,false))\n",
       "defined class Response\n",
       "defined class Review\n"
      ]
     },
     "execution_count": 23,
     "metadata": {},
     "output_type": "execute_result"
    }
   ],
   "source": [
    "import org.apache.spark.sql.types._\n",
    "import java.sql.Timestamp\n",
    "\n",
    "val reviewSchema = StructType(\n",
    "  Seq(\n",
    "    StructField(\"user_id\",  StringType,            nullable = true),\n",
    "    StructField(\"name\",     StringType,            nullable = true),\n",
    "    StructField(\"time\",     LongType,              nullable = false),\n",
    "    StructField(\"rating\",   DoubleType,            nullable = true),\n",
    "    StructField(\"text\",     StringType,            nullable = true),\n",
    "    StructField(\"pics\",     ArrayType(StringType), nullable = true),\n",
    "    StructField(\"resp\",     StructType(\n",
    "      Seq(\n",
    "        StructField(\"time\", LongType,              nullable = false),\n",
    "        StructField(\"text\", StringType,            nullable = true)\n",
    "      )\n",
    "    ),                                             nullable = true),\n",
    "    StructField(\"gmap_id\",  StringType,            nullable = false),\n",
    "  )\n",
    ")\n",
    "\n",
    "case class Response(time: Timestamp, text: Option[String])\n",
    "\n",
    "case class Review(\n",
    "  user_id: Option[String],\n",
    "  name: Option[String],\n",
    "  time: Timestamp,\n",
    "  rating: Option[Double],\n",
    "  text: Option[String],\n",
    "  pics: Seq[String],\n",
    "  resp: Option[Response],\n",
    "  gmap_id: String\n",
    ")"
   ]
  },
  {
   "cell_type": "code",
   "execution_count": 24,
   "id": "216bdcb6",
   "metadata": {},
   "outputs": [
    {
     "data": {
      "text/plain": [
       "metadataSchema: org.apache.spark.sql.types.StructType = StructType(StructField(name,StringType,true),StructField(address,StringType,true),StructField(gmap_id,StringType,false),StructField(description,StringType,true),StructField(latitude,DoubleType,false),StructField(longitude,DoubleType,false),StructField(category,ArrayType(StringType,true),true),StructField(avg_rating,DoubleType,false),StructField(num_of_reviews,IntegerType,false),StructField(price,StringType,true),StructField(hours,ArrayType(ArrayType(StringType,true),true),true),StructField(MISC,MapType(StringType,ArrayType(StringType,true),true),true),StructField(state,StringType,true),StructField(relative_results,ArrayType(StringType,true),true),StructField(url,StringType,false))\n",
       "defined class Metadata\n"
      ]
     },
     "execution_count": 24,
     "metadata": {},
     "output_type": "execute_result"
    }
   ],
   "source": [
    "val metadataSchema = StructType(\n",
    "  Seq(\n",
    "    StructField(\"name\",             StringType,                                 nullable = true),\n",
    "    StructField(\"address\",          StringType,                                 nullable = true),\n",
    "    StructField(\"gmap_id\",          StringType,                                 nullable = false),\n",
    "    StructField(\"description\",      StringType,                                 nullable = true),\n",
    "    StructField(\"latitude\",         DoubleType,                                 nullable = false),\n",
    "    StructField(\"longitude\",        DoubleType,                                 nullable = false),\n",
    "    StructField(\"category\",         ArrayType(StringType),                      nullable = true),\n",
    "    StructField(\"avg_rating\",       DoubleType,                                 nullable = false),\n",
    "    StructField(\"num_of_reviews\",   IntegerType,                                nullable = false),\n",
    "    StructField(\"price\",            StringType,                                 nullable = true),\n",
    "    StructField(\"hours\",            ArrayType(ArrayType(StringType)),           nullable = true),\n",
    "    StructField(\"MISC\",             MapType(StringType, ArrayType(StringType)), nullable = true),\n",
    "    StructField(\"state\",            StringType,                                 nullable = true),\n",
    "    StructField(\"relative_results\", ArrayType(StringType),                      nullable = true),\n",
    "    StructField(\"url\",              StringType,                                 nullable = false),\n",
    "  )\n",
    ")\n",
    "\n",
    "case class Metadata(\n",
    "  name: Option[String],\n",
    "  address: Option[String],\n",
    "  gmap_id: String,\n",
    "  description: Option[String],\n",
    "  latitude: Double,\n",
    "  longitude: Double,\n",
    "  category: Seq[String],\n",
    "  avg_rating: Double,\n",
    "  num_of_reviews: Int,\n",
    "  price: Option[String],\n",
    "  hours: Seq[Seq[String]],\n",
    "  MISC: Map[String, Seq[String]],\n",
    "  state: Option[String],\n",
    "  relative_results: Seq[String],\n",
    "  url: String\n",
    ")"
   ]
  },
  {
   "cell_type": "markdown",
   "id": "eb8e700d",
   "metadata": {},
   "source": [
    "### Dataset load and parse"
   ]
  },
  {
   "cell_type": "code",
   "execution_count": null,
   "id": "403bc6b7",
   "metadata": {},
   "outputs": [
    {
     "name": "stdout",
     "output_type": "stream",
     "text": [
      "root\n",
      " |-- user_id: string (nullable = true)\n",
      " |-- name: string (nullable = true)\n",
      " |-- time: timestamp (nullable = true)\n",
      " |-- rating: double (nullable = true)\n",
      " |-- text: string (nullable = true)\n",
      " |-- pics: array (nullable = true)\n",
      " |    |-- element: string (containsNull = true)\n",
      " |-- resp: struct (nullable = true)\n",
      " |    |-- time: timestamp (nullable = true)\n",
      " |    |-- text: string (nullable = true)\n",
      " |-- gmap_id: string (nullable = true)\n",
      "\n",
      "root\n",
      " |-- name: string (nullable = true)\n",
      " |-- address: string (nullable = true)\n",
      " |-- gmap_id: string (nullable = true)\n",
      " |-- description: string (nullable = true)\n",
      " |-- latitude: double (nullable = true)\n",
      " |-- longitude: double (nullable = true)\n",
      " |-- category: array (nullable = true)\n",
      " |    |-- element: string (containsNull = true)\n",
      " |-- avg_rating: double (nullable = true)\n",
      " |-- num_of_reviews: integer (nullable = true)\n",
      " |-- price: string (nullable = true)\n",
      " |-- hours: array (nullable = true)\n",
      " |    |-- element: array (containsNull = true)\n",
      " |    |    |-- element: string (containsNull = true)\n",
      " |-- MISC: map (nullable = true)\n",
      " |    |-- key: string\n",
      " |    |-- value: array (valueContainsNull = true)\n",
      " |    |    |-- element: string (containsNull = true)\n",
      " |-- state: string (nullable = true)\n",
      " |-- relative_results: array (nullable = true)\n",
      " |    |-- element: string (containsNull = true)\n",
      " |-- url: string (nullable = true)\n",
      "\n"
     ]
    },
    {
     "data": {
      "text/plain": [
       "warning: 6 feature warnings; for details, enable `:setting -feature' or `:replay -feature'\n",
       "import java.nio.file.Paths\n",
       "projectDir: String = /Users/teo/Universita/Magistrale/BIG_DATA/bd-project25\n",
       "reviewsPath: String = /Users/teo/Universita/Magistrale/BIG_DATA/bd-project25/dataset/sample-reviews.ndjson\n",
       "metadataPath: String = /Users/teo/Universita/Magistrale/BIG_DATA/bd-project25/dataset/metadata.ndjson\n",
       "import org.apache.spark.sql.SparkSession\n",
       "spark: org.apache.spark.sql.SparkSession = org.apache.spark.sql.SparkSession@68c6c9f\n",
       "reviewsDf: org.apache.spark.sql.Dataset[Review] = [user_id: string, name: string ... 6 more fields]\n",
       "metadataDf: org.apache.spark.sql.Dataset[Metadata] = [name: string, address: string ... 13 more fields]\n",
       "reviewsRdd: org.apache.spark.rdd.RDD[(Option[String], Option[String], java.sql.Timestamp, Option[Double], Option[String], Seq[String], Option[(java.sql.Tim...\n"
      ]
     },
     "execution_count": 25,
     "metadata": {},
     "output_type": "execute_result"
    }
   ],
   "source": [
    "import java.nio.file.Paths\n",
    "\n",
    "val projectDir: String = Paths.get(System.getProperty(\"user.dir\")).getParent.getParent.getParent.toString\n",
    "val reviewsPath = s\"$projectDir/dataset/sample-reviews.ndjson\"\n",
    "val metadataPath = s\"$projectDir/dataset/metadata.ndjson\"\n",
    "\n",
    "import org.apache.spark.sql.SparkSession\n",
    "\n",
    "val spark = SparkSession.builder()\n",
    "  .appName(\"NDJSON Reader\")\n",
    "  .master(\"local[*]\") // Needed in local mode\n",
    "  .getOrCreate()\n",
    "\n",
    "val reviewsDf = spark.read\n",
    "  .schema(reviewSchema)\n",
    "  .json(reviewsPath)\n",
    "  .withColumn(\"pics\", when (col(\"pics\") isNull, array()) otherwise col(\"pics\"))\n",
    "  .withColumn(\"time\", from_unixtime(col(\"time\") / 1000).cast(\"timestamp\"))\n",
    "  .withColumn(\"resp\", \n",
    "    when (\n",
    "      col(\"resp\") isNotNull, \n",
    "      struct(\n",
    "        from_unixtime(col(\"resp.time\") / 1000).cast(\"timestamp\").alias(\"time\"),\n",
    "        col(\"resp.text\").cast(StringType).alias(\"text\")\n",
    "      )\n",
    "    ) otherwise lit(null)\n",
    "  )\n",
    "  .as[Review]\n",
    "\n",
    "val metadataDf = spark.read\n",
    "  .schema(metadataSchema)\n",
    "  .json(metadataPath)\n",
    "  .withColumn(\"category\", when (col(\"category\") isNull, array()) otherwise col(\"category\"))\n",
    "  .withColumn(\"hours\", when (col(\"hours\") isNull, array()) otherwise col(\"hours\"))\n",
    "  .withColumn(\"relative_results\", when (col(\"relative_results\") isNull, array()) otherwise col(\"relative_results\"))\n",
    "  .withColumn(\"MISC\",\n",
    "    when (\n",
    "      col(\"MISC\") isNotNull,\n",
    "      col(\"MISC\").cast(MapType(StringType, ArrayType(StringType)))\n",
    "    ) otherwise typedLit(Map.empty[String, Seq[String]])\n",
    "  )\n",
    "  .as[Metadata]\n",
    "\n",
    "reviewsDf.printSchema()\n",
    "metadataDf.printSchema()\n",
    "\n",
    "// Unforturnately, it seems that Spark does not support case classes in RDDs. It throws ArrayStoreException\n",
    "// when trying to collect the RDD... [see also [here](https://github.com/adtech-labs/spylon-kernel/issues/40)]\n",
    "val reviewsRdd = reviewsDf.rdd\n",
    "  .map(Review.unapply)\n",
    "  .map(_.get)\n",
    "  .map { case review @ (_, _, _, _, _, _, resp, _) => review.copy(_7 = resp.map(Response.unapply(_).get)) }\n",
    "val metaRdd = metadataDf.rdd.map(Metadata.unapply).map(_.get)"
   ]
  },
  {
   "cell_type": "code",
   "execution_count": 32,
   "id": "7def5b0e",
   "metadata": {},
   "outputs": [
    {
     "data": {
      "text/plain": [
       "consideredStates: scala.collection.immutable.Map[String,String] = Map(New Mexico -> NM, Washington -> WA, Alabama -> AL, Mississippi -> MS, New Hampshire -> NH)\n",
       "StateNameRegex: scala.util.matching.Regex = \\b(New Mexico|Washington|Alabama|Mississippi|New Hampshire)\\b\n",
       "StateAbbrevRegex: scala.util.matching.Regex = \\b(NM|WA|AL|MS|NH)\\b\n",
       "toState: (address: Option[String])String\n"
      ]
     },
     "execution_count": 32,
     "metadata": {},
     "output_type": "execute_result"
    }
   ],
   "source": [
    "/** This regex captures the state abbreviation between a comma and the ZIP code. */\n",
    "private val StateRegex = \"\"\",\\s*([A-Z]{2})\\s+\\d{5}\"\"\".r\n",
    "\n",
    "/** The map of states that are considered for the analysis. */\n",
    "val consideredStates = Map(\n",
    "  \"Alabama\" -> \"AL\",\n",
    "  \"Mississippi\" -> \"MS\",\n",
    "  \"New Hampshire\" -> \"NH\",\n",
    "  \"New Mexico\" -> \"NM\",\n",
    "  \"Washington\" -> \"WA\",\n",
    ")\n",
    "\n",
    "/** Regex to match state names in the address. */\n",
    "val StateNameRegex = s\"\"\"\\\\b(${consideredStates.keys.mkString(\"|\")})\\\\b\"\"\".r\n",
    "\n",
    "/** Regex to match state abbreviations in the address. */\n",
    "val StateAbbrevRegex = s\"\"\"\\\\b(${consideredStates.values.mkString(\"|\")})\\\\b\"\"\".r\n",
    "\n",
    "/**\n",
    " * Extracts the state from the given address.\n",
    " * @param address\n",
    " *   the optional address string\n",
    " * @return\n",
    " *   the state abbreviation or \"Unknown\" if no valid state is found\n",
    " * @see\n",
    " *   [[consideredStates]]\n",
    " */\n",
    "def toState(address: Option[String]): String = address\n",
    "  .flatMap { addr =>\n",
    "    StateRegex\n",
    "      .findFirstMatchIn(addr)\n",
    "      .map(_.group(1))\n",
    "      .orElse(StateNameRegex.findFirstMatchIn(addr).map(stateName => consideredStates(stateName.group(1))))\n",
    "      .orElse(StateAbbrevRegex.findFirstMatchIn(addr).map(_.group(1)))\n",
    "  }\n",
    "  .filter(consideredStates.values.toSeq.contains)\n",
    "  .getOrElse(\"Unknown\")"
   ]
  },
  {
   "cell_type": "code",
   "execution_count": null,
   "id": "ef2bf0d0",
   "metadata": {},
   "outputs": [
    {
     "data": {
      "text/plain": [
       "withSymbol: (price: Option[String], symbol: String)Option[String]\n"
      ]
     },
     "execution_count": 42,
     "metadata": {},
     "output_type": "execute_result"
    }
   ],
   "source": [
    "/** This function converts price string into a new one with custom symbol */\n",
    "def withSymbol(price: Option[String], symbol: String): Option[String] =\n",
    "  price.map(s => List.fill(s.length)(symbol).mkString)"
   ]
  },
  {
   "cell_type": "markdown",
   "id": "e9bfabf7",
   "metadata": {},
   "source": [
    "### Job2 - Computation"
   ]
  },
  {
   "cell_type": "markdown",
   "id": "dcc4de03-7e72-4d74-81ab-3c4918215f8e",
   "metadata": {},
   "source": [
    "---\n",
    "\n",
    "**Metadata**: (name, address, <ins>gmap_id</ins>, description, latitude, longitude, category, avg_rating, num_of_reviews, price, hours, misc, state, relative_results, url)\n",
    "\n",
    "**Review**: (user_id, name, time, rating, text, pics, responses, <ins>gmap_id</ins>)\n",
    "\n",
    "---"
   ]
  },
  {
   "cell_type": "code",
   "execution_count": 43,
   "id": "fbb12f4b",
   "metadata": {},
   "outputs": [
    {
     "data": {
      "text/plain": [
       "ratingToSuggestion: (rating: Double)String\n"
      ]
     },
     "execution_count": 43,
     "metadata": {},
     "output_type": "execute_result"
    }
   ],
   "source": [
    "// avg rating mapper to description\n",
    "def ratingToSuggestion(rating: Double): String =\n",
    "  rating match {\n",
    "    case r if r <= 2.0 => \"Not recommended\"\n",
    "    case r if r > 2.0 && r <= 3.5 => \"Discreet\"\n",
    "    case r if r > 3.5 && r <= 4.5 => \"Recommended\"\n",
    "    case r if r > 4.5 => \"Highly recommended\"\n",
    "    case _ => \"Undefined\"\n",
    "  }"
   ]
  },
  {
   "cell_type": "code",
   "execution_count": null,
   "id": "da887fe2",
   "metadata": {},
   "outputs": [
    {
     "data": {
      "text/plain": [
       "metadata: org.apache.spark.rdd.RDD[(String, (Seq[String], String, Option[String]))] = MapPartitionsRDD[25] at map at <console>:37\n",
       "reviewsData: org.apache.spark.rdd.RDD[(String, (Int, Option[Double]))] = MapPartitionsRDD[26] at map at <console>:42\n",
       "joinData: org.apache.spark.rdd.RDD[(String, (Int, Double, Seq[String], String, Option[String]))] = MapPartitionsRDD[32] at map at <console>:50\n"
      ]
     },
     "execution_count": 44,
     "metadata": {},
     "output_type": "execute_result"
    }
   ],
   "source": [
    "val metadata = metaRdd\n",
    "  .map{ case (_, address, gmap_id, _, _, _, category, _, _, price, _, _, _, _, _) => \n",
    "    gmap_id -> (category, toState(address), withSymbol(price, \"*\"))\n",
    "  }\n",
    "\n",
    "val reviewsData = reviewsRdd\n",
    "  .map { case (_, _, time, rating, _, _, _, gmap_id) => \n",
    "    gmap_id -> (time.toLocalDateTime.getYear, rating)\n",
    "  }\n",
    "\n",
    "val joinData = reviewsData\n",
    "  .join(metadata)\n",
    "  .filter(_._2._1._2.isDefined)\n",
    "  .filter(_._2._2._3.isDefined)\n",
    "  .map{ case (gmap_id, ((year, rating), (category, address, price))) => \n",
    "    gmap_id -> (year, rating.get, category, address, price)\n",
    "  }\n"
   ]
  },
  {
   "cell_type": "code",
   "execution_count": 45,
   "id": "e7467af4",
   "metadata": {},
   "outputs": [
    {
     "data": {
      "text/plain": [
       "results: org.apache.spark.rdd.RDD[((String, String, Option[String], Int), (Double, String))] = MapPartitionsRDD[37] at map at <console>:43\n"
      ]
     },
     "execution_count": 45,
     "metadata": {},
     "output_type": "execute_result"
    }
   ],
   "source": [
    "\n",
    "val results = joinData\n",
    "  .map{case (gmap_id, (year, rating, categories, state, price)) =>\n",
    "    (gmap_id, year, categories, state, price) -> rating\n",
    "  }\n",
    "  .groupByKey()\n",
    "  .flatMap{ case ((gmap_id, year, categories, state, price), rate) =>\n",
    "    categories.map(category => \n",
    "      (category, state, price, year) -> rate.sum/rate.size\n",
    "    )\n",
    "  }\n",
    "  .groupByKey()\n",
    "  .map{ case (key, avgRates) =>\n",
    "    val avgRate = avgRates.sum/avgRates.size\n",
    "    key -> (avgRate, ratingToSuggestion(avgRate))\n",
    "  }  \n"
   ]
  },
  {
   "cell_type": "markdown",
   "id": "f981e116",
   "metadata": {},
   "source": [
    "### Save output result"
   ]
  },
  {
   "cell_type": "code",
   "execution_count": 46,
   "id": "c28d3eff",
   "metadata": {},
   "outputs": [
    {
     "data": {
      "text/plain": [
       "outputDirPath: String = /Users/teo/Universita/Magistrale/BIG_DATA/bd-project25/output\n",
       "outputPath: String = /Users/teo/Universita/Magistrale/BIG_DATA/bd-project25/output/job2-output\n"
      ]
     },
     "execution_count": 46,
     "metadata": {},
     "output_type": "execute_result"
    }
   ],
   "source": [
    "val outputDirPath = s\"$projectDir/output\"\n",
    "val outputPath = s\"$outputDirPath/job2-output\""
   ]
  },
  {
   "cell_type": "code",
   "execution_count": 47,
   "id": "89049b35",
   "metadata": {},
   "outputs": [
    {
     "data": {
      "text/plain": [
       "import org.apache.spark.sql.SaveMode\n"
      ]
     },
     "execution_count": 47,
     "metadata": {},
     "output_type": "execute_result"
    }
   ],
   "source": [
    "import org.apache.spark.sql.SaveMode\n",
    "results\n",
    "  .map { case ((category, state, price, year), (avgRate, suggestion)) =>\n",
    "        (category, state, price, year, avgRate, suggestion)\n",
    "  }\n",
    "  .coalesce(1)\n",
    "  .toDF(\"category\", \"state\", \"price\", \"year\", \"avg_rating\", \"business suggestion\")\n",
    "  .write\n",
    "  .format(\"csv\")\n",
    "  .option(\"header\", \"true\")\n",
    "  .mode(SaveMode.Overwrite)\n",
    "  .save(s\"file://$outputPath\")"
   ]
  }
 ],
 "metadata": {
  "kernelspec": {
   "display_name": "spylon-kernel",
   "language": "scala",
   "name": "spylon-kernel"
  },
  "language_info": {
   "codemirror_mode": "text/x-scala",
   "file_extension": ".scala",
   "help_links": [
    {
     "text": "MetaKernel Magics",
     "url": "https://metakernel.readthedocs.io/en/latest/source/README.html"
    }
   ],
   "mimetype": "text/x-scala",
   "name": "scala",
   "pygments_lexer": "scala",
   "version": "0.4.1"
  }
 },
 "nbformat": 4,
 "nbformat_minor": 5
}
