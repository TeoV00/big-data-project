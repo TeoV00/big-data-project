{
 "cells": [
  {
   "cell_type": "markdown",
   "id": "b5280eb7",
   "metadata": {},
   "source": [
    "# Job 2\n",
    "\n",
    "Il job 2 valuta, annualmente, per ogni stato e categoria di business la valutazione media per ogni fascia di prezzo, assegnando un giudizio.\n",
    "\n",
    "Nel dettaglio:\n",
    "\n",
    "- per ogni business viene calcolata la valutazione media delle recensioni raggruppandole per anno;\n",
    "- aggregando in base alla categoria di business, lo stato e la fascia di prezzo viene calcolata la media delle valutazioni medie delle recensioni;\n",
    "- in base alla valutazione media viene elaborato un attributo aggiuntivo \"business suggestion\" che fornisce un giudizio sulle categorie di business, come segue:\n",
    "  - valutazione media < 2: \"Not recommended\"\n",
    "  - valutazione media 2–3.5: \"Discreet\"\n",
    "  - valutazione media 3.5–4.5: \"Recommended\"\n",
    "  - valutazione media > 4.5: \"Highly recommended\"\n",
    "\n"
   ]
  },
  {
   "cell_type": "markdown",
   "id": "a6cc7353",
   "metadata": {},
   "source": [
    "### Schema definitions"
   ]
  },
  {
   "cell_type": "code",
   "execution_count": 1,
   "id": "aaaccc8c",
   "metadata": {},
   "outputs": [
    {
     "data": {
      "text/plain": [
       "Intitializing Scala interpreter ..."
      ]
     },
     "metadata": {},
     "output_type": "display_data"
    },
    {
     "data": {
      "text/plain": [
       "Spark Web UI available at http://192.168.0.178:4040\n",
       "SparkContext available as 'sc' (version = 3.5.1, master = local[*], app id = local-1755618056492)\n",
       "SparkSession available as 'spark'\n"
      ]
     },
     "metadata": {},
     "output_type": "display_data"
    },
    {
     "data": {
      "text/plain": [
       "import org.apache.spark\n"
      ]
     },
     "execution_count": 1,
     "metadata": {},
     "output_type": "execute_result"
    }
   ],
   "source": [
    "import org.apache.spark"
   ]
  },
  {
   "cell_type": "code",
   "execution_count": 2,
   "id": "32a0b981",
   "metadata": {},
   "outputs": [
    {
     "data": {
      "text/plain": [
       "import org.apache.spark.sql.types._\n",
       "import java.sql.Timestamp\n",
       "reviewSchema: org.apache.spark.sql.types.StructType = StructType(StructField(user_id,StringType,true),StructField(name,StringType,true),StructField(time,LongType,false),StructField(rating,DoubleType,true),StructField(text,StringType,true),StructField(pics,ArrayType(StringType,true),true),StructField(resp,StructType(StructField(time,LongType,false),StructField(text,StringType,true)),true),StructField(gmap_id,StringType,false))\n",
       "defined class Response\n",
       "defined class Review\n"
      ]
     },
     "execution_count": 2,
     "metadata": {},
     "output_type": "execute_result"
    }
   ],
   "source": [
    "import org.apache.spark.sql.types._\n",
    "import java.sql.Timestamp\n",
    "\n",
    "val reviewSchema = StructType(\n",
    "  Seq(\n",
    "    StructField(\"user_id\",  StringType,            nullable = true),\n",
    "    StructField(\"name\",     StringType,            nullable = true),\n",
    "    StructField(\"time\",     LongType,              nullable = false),\n",
    "    StructField(\"rating\",   DoubleType,            nullable = true),\n",
    "    StructField(\"text\",     StringType,            nullable = true),\n",
    "    StructField(\"pics\",     ArrayType(StringType), nullable = true),\n",
    "    StructField(\"resp\",     StructType(\n",
    "      Seq(\n",
    "        StructField(\"time\", LongType,              nullable = false),\n",
    "        StructField(\"text\", StringType,            nullable = true)\n",
    "      )\n",
    "    ),                                             nullable = true),\n",
    "    StructField(\"gmap_id\",  StringType,            nullable = false),\n",
    "  )\n",
    ")\n",
    "\n",
    "case class Response(time: Timestamp, text: Option[String])\n",
    "\n",
    "case class Review(\n",
    "  user_id: Option[String],\n",
    "  name: Option[String],\n",
    "  time: Timestamp,\n",
    "  rating: Option[Double],\n",
    "  text: Option[String],\n",
    "  pics: Seq[String],\n",
    "  resp: Option[Response],\n",
    "  gmap_id: String\n",
    ")"
   ]
  },
  {
   "cell_type": "code",
   "execution_count": 3,
   "id": "216bdcb6",
   "metadata": {},
   "outputs": [
    {
     "data": {
      "text/plain": [
       "metadataSchema: org.apache.spark.sql.types.StructType = StructType(StructField(name,StringType,true),StructField(address,StringType,true),StructField(gmap_id,StringType,false),StructField(description,StringType,true),StructField(latitude,DoubleType,false),StructField(longitude,DoubleType,false),StructField(category,ArrayType(StringType,true),true),StructField(avg_rating,DoubleType,false),StructField(num_of_reviews,IntegerType,false),StructField(price,StringType,false),StructField(hours,ArrayType(ArrayType(StringType,true),true),true),StructField(MISC,MapType(StringType,ArrayType(StringType,true),true),false),StructField(state,StringType,true),StructField(relative_results,ArrayType(StringType,true),true),StructField(url,StringType,false))\n",
       "defined class Metadata\n"
      ]
     },
     "execution_count": 3,
     "metadata": {},
     "output_type": "execute_result"
    }
   ],
   "source": [
    "val metadataSchema = StructType(\n",
    "  Seq(\n",
    "    StructField(\"name\",             StringType,                                 nullable = true),\n",
    "    StructField(\"address\",          StringType,                                 nullable = true),\n",
    "    StructField(\"gmap_id\",          StringType,                                 nullable = false),\n",
    "    StructField(\"description\",      StringType,                                 nullable = true),\n",
    "    StructField(\"latitude\",         DoubleType,                                 nullable = false),\n",
    "    StructField(\"longitude\",        DoubleType,                                 nullable = false),\n",
    "    StructField(\"category\",         ArrayType(StringType),                      nullable = true),\n",
    "    StructField(\"avg_rating\",       DoubleType,                                 nullable = false),\n",
    "    StructField(\"num_of_reviews\",   IntegerType,                                nullable = false),\n",
    "    StructField(\"price\",            StringType,                                 nullable = false),\n",
    "    StructField(\"hours\",            ArrayType(ArrayType(StringType)),           nullable = true),\n",
    "    StructField(\"MISC\",             MapType(StringType, ArrayType(StringType)), nullable = false),\n",
    "    StructField(\"state\",            StringType,                                 nullable = true),\n",
    "    StructField(\"relative_results\", ArrayType(StringType),                      nullable = true),\n",
    "    StructField(\"url\",              StringType,                                 nullable = false),\n",
    "  )\n",
    ")\n",
    "\n",
    "case class Metadata(\n",
    "  name: Option[String],\n",
    "  address: Option[String],\n",
    "  gmap_id: String,\n",
    "  description: Option[String],\n",
    "  latitude: Double,\n",
    "  longitude: Double,\n",
    "  category: Seq[String],\n",
    "  avg_rating: Double,\n",
    "  num_of_reviews: Int,\n",
    "  price: String,\n",
    "  hours: Seq[Seq[String]],\n",
    "  MISC: Map[String, Seq[String]],\n",
    "  state: Option[String],\n",
    "  relative_results: Seq[String],\n",
    "  url: String\n",
    ")"
   ]
  },
  {
   "cell_type": "markdown",
   "id": "eb8e700d",
   "metadata": {},
   "source": [
    "### Dataset load and parse"
   ]
  },
  {
   "cell_type": "code",
   "execution_count": 4,
   "id": "403bc6b7",
   "metadata": {},
   "outputs": [
    {
     "name": "stdout",
     "output_type": "stream",
     "text": [
      "root\n",
      " |-- user_id: string (nullable = true)\n",
      " |-- name: string (nullable = true)\n",
      " |-- time: timestamp (nullable = true)\n",
      " |-- rating: double (nullable = true)\n",
      " |-- text: string (nullable = true)\n",
      " |-- pics: array (nullable = true)\n",
      " |    |-- element: string (containsNull = true)\n",
      " |-- resp: struct (nullable = true)\n",
      " |    |-- time: timestamp (nullable = true)\n",
      " |    |-- text: string (nullable = true)\n",
      " |-- gmap_id: string (nullable = true)\n",
      "\n",
      "root\n",
      " |-- name: string (nullable = true)\n",
      " |-- address: string (nullable = true)\n",
      " |-- gmap_id: string (nullable = true)\n",
      " |-- description: string (nullable = true)\n",
      " |-- latitude: double (nullable = true)\n",
      " |-- longitude: double (nullable = true)\n",
      " |-- category: array (nullable = true)\n",
      " |    |-- element: string (containsNull = true)\n",
      " |-- avg_rating: double (nullable = true)\n",
      " |-- num_of_reviews: integer (nullable = true)\n",
      " |-- price: string (nullable = true)\n",
      " |-- hours: array (nullable = true)\n",
      " |    |-- element: array (containsNull = true)\n",
      " |    |    |-- element: string (containsNull = true)\n",
      " |-- MISC: map (nullable = true)\n",
      " |    |-- key: string\n",
      " |    |-- value: array (valueContainsNull = true)\n",
      " |    |    |-- element: string (containsNull = true)\n",
      " |-- state: string (nullable = true)\n",
      " |-- relative_results: array (nullable = true)\n",
      " |    |-- element: string (containsNull = true)\n",
      " |-- url: string (nullable = true)\n",
      "\n"
     ]
    },
    {
     "data": {
      "text/plain": [
       "warning: 5 feature warnings; for details, enable `:setting -feature' or `:replay -feature'\n",
       "import java.nio.file.Paths\n",
       "import org.apache.spark.sql.SparkSession\n",
       "import org.apache.spark.sql.functions.from_unixtime\n",
       "projectDir: String = /Users/teo/Universita/Magistrale/BIG_DATA/bd-project25\n",
       "reviewsPath: String = /Users/teo/Universita/Magistrale/BIG_DATA/bd-project25/dataset/sample-reviews.ndjson\n",
       "metadataPath: String = /Users/teo/Universita/Magistrale/BIG_DATA/bd-project25/dataset/metadata.ndjson\n",
       "spark: org.apache.spark.sql.SparkSession = org.apache.spark.sql.SparkSession@7a632658\n",
       "reviewsDf: org.apache.spark.sql.Dataset[Review] = [user_id: string, name: string ... 6 more fields]\n",
       "metadataDf: org.apache.spark.sql.Dataset[Metadata] = [name: string, address: string ... 13 more fields]\n",
       "reviewsRdd: org.apache.spark.rdd.RDD[(Option[String], Option[String], java.sql.Timestamp, Option[Doubl...\n"
      ]
     },
     "execution_count": 4,
     "metadata": {},
     "output_type": "execute_result"
    }
   ],
   "source": [
    "import java.nio.file.Paths\n",
    "import org.apache.spark.sql.SparkSession\n",
    "import org.apache.spark.sql.functions.from_unixtime\n",
    "\n",
    "val projectDir: String = Paths.get(System.getProperty(\"user.dir\")).getParent.getParent.getParent.toString\n",
    "val reviewsPath = s\"$projectDir/dataset/sample-reviews.ndjson\"\n",
    "val metadataPath = s\"$projectDir/dataset/metadata.ndjson\"\n",
    "\n",
    "val spark = SparkSession.builder()\n",
    "  .appName(\"NDJSON Reader\")\n",
    "  .master(\"local[*]\") // Needed in local mode\n",
    "  .getOrCreate()\n",
    "\n",
    "val reviewsDf = spark.read\n",
    "  .schema(reviewSchema)\n",
    "  .json(reviewsPath)\n",
    "  .withColumn(\"pics\", when (col(\"pics\") isNull, array()) otherwise col(\"pics\"))\n",
    "  .withColumn(\"time\", from_unixtime(col(\"time\") / 1000).cast(\"timestamp\"))\n",
    "  .withColumn(\"resp\", \n",
    "    when (\n",
    "      col(\"resp\") isNotNull, \n",
    "      struct(\n",
    "        from_unixtime(col(\"resp.time\") / 1000).cast(\"timestamp\").alias(\"time\"),\n",
    "        col(\"resp.text\").cast(StringType).alias(\"text\")\n",
    "      )\n",
    "    ) otherwise lit(null)\n",
    "  )\n",
    "  .as[Review]\n",
    "\n",
    "val metadataDf = spark.read\n",
    "  .schema(metadataSchema)\n",
    "  .json(metadataPath)\n",
    "  .withColumn(\"category\", when (col(\"category\") isNull, array()) otherwise col(\"category\"))\n",
    "  .withColumn(\"hours\", when (col(\"hours\") isNull, array()) otherwise col(\"hours\"))\n",
    "  .withColumn(\"relative_results\", when (col(\"relative_results\") isNull, array()) otherwise col(\"relative_results\"))\n",
    "  .as[Metadata]\n",
    "\n",
    "reviewsDf.printSchema()\n",
    "metadataDf.printSchema()\n",
    "\n",
    "// Unforturnately, it seems that Spark does not support case classes in RDDs. It throws ArrayStoreException\n",
    "// when trying to collect the RDD... [see also [here](https://github.com/adtech-labs/spylon-kernel/issues/40)]\n",
    "val reviewsRdd = reviewsDf.rdd\n",
    "  .map(Review.unapply(_).get)\n",
    "  .map { case review @ (_, _, _, _, _, _, resp, _) => review.copy(_7 = resp.map(Response.unapply(_).get)) }\n",
    "val metaRdd = metadataDf.rdd.map(Metadata.unapply).map(_.get)"
   ]
  },
  {
   "cell_type": "markdown",
   "id": "e9bfabf7",
   "metadata": {},
   "source": [
    "### Job2 - Computation"
   ]
  },
  {
   "cell_type": "markdown",
   "id": "dcc4de03-7e72-4d74-81ab-3c4918215f8e",
   "metadata": {},
   "source": [
    "---\n",
    "\n",
    "**Metadata**: (name, address, <ins>gmap_id</ins>, description, latitude, longitude, category, avg_rating, num_of_reviews, price, hours, misc, state, relative_results, url)\n",
    "\n",
    "**Review**: (user_id, name, time, rating, text, pics, responses, <ins>gmap_id</ins>)\n",
    "\n",
    "---"
   ]
  },
  {
   "cell_type": "code",
   "execution_count": 5,
   "id": "fbb12f4b",
   "metadata": {},
   "outputs": [
    {
     "data": {
      "text/plain": [
       "ratingToSuggestion: (rating: Double)String\n",
       "toState: (address: Option[String])String\n"
      ]
     },
     "execution_count": 5,
     "metadata": {},
     "output_type": "execute_result"
    }
   ],
   "source": [
    "// avg rating mapper to description\n",
    "def ratingToSuggestion(rating: Double): String =\n",
    "  rating match {\n",
    "    case r if r <= 2.0 => \"Not recommended\"\n",
    "    case r if r > 2.0 && r <= 3.5 => \"Discreet\"\n",
    "    case r if r > 3.5 && r <= 4.5 => \"Recommended\"\n",
    "    case r if r > 4.5 => \"Highly recommended\"\n",
    "    case _ => \"Undefined\"\n",
    "  }\n",
    "\n",
    "def toState(address: Option[String]): String = address.flatMap { addr =>\n",
    "    // This regex captures the state abbreviation between a comma and the ZIP code\n",
    "    val StateRegex = \"\"\",\\s*([A-Z]{2})\\s+\\d{5}\"\"\".r\n",
    "    StateRegex.findFirstMatchIn(addr).map(_.group(1))\n",
    "  }.getOrElse(\"Unknown\")"
   ]
  },
  {
   "cell_type": "code",
   "execution_count": 6,
   "id": "da887fe2",
   "metadata": {},
   "outputs": [
    {
     "data": {
      "text/plain": [
       "businessAvgRating: org.apache.spark.rdd.RDD[(String, (Int, Double))] = MapPartitionsRDD[19] at map at <console>:41\n"
      ]
     },
     "execution_count": 6,
     "metadata": {},
     "output_type": "execute_result"
    }
   ],
   "source": [
    "val businessAvgRating = reviewsRdd\n",
    "  .filter(_._4.isDefined)\n",
    "  .map{ case r => \n",
    "    val rating = r._4.get\n",
    "    val gmap_id = r._8\n",
    "    val year = r._3.toLocalDateTime.getYear\n",
    "    (gmap_id, year) -> (1, rating)\n",
    "  }\n",
    "  .reduceByKey((a, b) => (a._1 + b._1, a._2 + b._2)) // count reviews and sum rating value\n",
    "  .map{ case ((gmap_id, year), c) => gmap_id -> (year, c._2/c._1) }"
   ]
  },
  {
   "cell_type": "code",
   "execution_count": 7,
   "id": "8313b4b1",
   "metadata": {},
   "outputs": [
    {
     "data": {
      "text/plain": [
       "results: org.apache.spark.rdd.RDD[((String, String, String, Int), String, String)] = MapPartitionsRDD[27] at map at <console>:45\n"
      ]
     },
     "execution_count": 7,
     "metadata": {},
     "output_type": "execute_result"
    }
   ],
   "source": [
    "val results = metaRdd\n",
    ".filter(r => Option(r._10).exists(_.nonEmpty))\n",
    ".flatMap(r => \n",
    "  r._7.map(category => r._3 -> (category, toState(r._2), r._10))\n",
    ") //(gmap_id, (category, state, price))\n",
    ".join(businessAvgRating)\n",
    ".map { case (_, ((category, state, price), (year, avgRate))) => \n",
    "  (category, state, price, year) -> avgRate\n",
    "}\n",
    ".groupByKey()\n",
    ".map{ case (key, ratings) => \n",
    "  val avgRate = ratings.sum/ratings.size\n",
    "  (key, f\"${avgRate}%.2f\", ratingToSuggestion(avgRate))\n",
    "}"
   ]
  },
  {
   "cell_type": "markdown",
   "id": "f981e116",
   "metadata": {},
   "source": [
    "### Save output result"
   ]
  },
  {
   "cell_type": "code",
   "execution_count": 15,
   "id": "c28d3eff",
   "metadata": {},
   "outputs": [
    {
     "data": {
      "text/plain": [
       "outputDirPath: String = /Users/teo/Universita/Magistrale/BIG_DATA/bd-project25/output\n",
       "outputPath: String = /Users/teo/Universita/Magistrale/BIG_DATA/bd-project25/output/job2-output\n"
      ]
     },
     "execution_count": 15,
     "metadata": {},
     "output_type": "execute_result"
    }
   ],
   "source": [
    "val outputDirPath = s\"$projectDir/output\"\n",
    "val outputPath = s\"$outputDirPath/job2-output\""
   ]
  },
  {
   "cell_type": "code",
   "execution_count": 9,
   "id": "89049b35",
   "metadata": {},
   "outputs": [
    {
     "data": {
      "text/plain": [
       "import org.apache.spark.sql.SaveMode\n"
      ]
     },
     "execution_count": 9,
     "metadata": {},
     "output_type": "execute_result"
    }
   ],
   "source": [
    "import org.apache.spark.sql.SaveMode\n",
    "results.map { case ((category, state, price, year), avgRate, suggestion) =>\n",
    "        (category, state, price, year, avgRate, suggestion)\n",
    "      }\n",
    "      .coalesce(1)\n",
    "      .toDF(\"category\", \"state\", \"price\", \"year\", \"avg_rating\", \"business suggestion\")\n",
    "      .write\n",
    "      .format(\"csv\")\n",
    "      .option(\"header\", \"true\")\n",
    "      .mode(SaveMode.Overwrite)\n",
    "      .save(s\"file://$outputPath\")"
   ]
  },
  {
   "cell_type": "markdown",
   "id": "8632ca6e",
   "metadata": {},
   "source": [
    "### Plotting results"
   ]
  },
  {
   "cell_type": "markdown",
   "id": "8aeaa188",
   "metadata": {},
   "source": [
    "Retrieve output file"
   ]
  },
  {
   "cell_type": "code",
   "execution_count": 40,
   "id": "d1a330fd",
   "metadata": {},
   "outputs": [],
   "source": [
    "%%python\n",
    "import os\n",
    "import re\n",
    "import pathlib\n",
    "\n",
    "projectDir = str(pathlib.Path(os.getcwd()).parent.parent.parent)\n",
    "\n",
    "outputDirPath = f\"{projectDir}/output\"\n",
    "outputPath = f\"{outputDirPath}/job2-output\"\n",
    "fileNameRegex = re.compile(r\"part-\\d{5}.*\\.csv\")\n",
    "\n",
    "fileName = next(\n",
    "  (f for f in os.listdir(outputPath) if fileNameRegex.match(f)),\n",
    "  None\n",
    ")\n",
    "outputFilePath = f\"{outputPath}/{fileName}\"\n"
   ]
  },
  {
   "cell_type": "code",
   "execution_count": null,
   "id": "af095877",
   "metadata": {},
   "outputs": [
    {
     "name": "stdout",
     "output_type": "stream",
     "text": [
      "interactive(children=(IntSlider(value=2020, description='anno_selezionato', max=6060, min=-2020), Output()), _dom_classes=('widget-interact',))\n"
     ]
    },
    {
     "data": {
      "text/plain": [
       "<function plot_by_year at 0x11a3eeb80>"
      ]
     },
     "execution_count": 41,
     "metadata": {},
     "output_type": "execute_result"
    }
   ],
   "source": [
    "%%python\n",
    "\n",
    "import pandas as pd\n",
    "import matplotlib.pyplot as plt\n",
    "from ipywidgets import interact, IntSlider\n",
    "\n",
    "df = pd.read_csv(outputFilePath)\n",
    "\n",
    "def plot_by_year(anno_selezionato):\n",
    "  df_filtrato = df[df['year'] == anno_selezionato]\n",
    "  grouped = df_filtrato.groupby(['category', 'business suggestion'])['state'].nunique().reset_index()\n",
    "  pivot = grouped.pivot(index='category', columns='business suggestion', values='state').fillna(0)\n",
    "  pivot.plot(kind='bar', stacked=True, figsize=(12,6))\n",
    "  plt.ylabel('Numero di stati')\n",
    "  plt.xlabel('Categoria di business')\n",
    "  plt.title(f'Numero di stati per giudizio di qualità e categoria di business ({anno_selezionato})')\n",
    "  plt.legend(title='Business suggestion')\n",
    "  plt.tight_layout()\n",
    "  plt.show()\n",
    "interact(plot_by_year, anno_selezionato=2020)\n"
   ]
  }
 ],
 "metadata": {
  "kernelspec": {
   "display_name": "spylon-kernel",
   "language": "scala",
   "name": "spylon-kernel"
  },
  "language_info": {
   "codemirror_mode": "text/x-scala",
   "file_extension": ".scala",
   "help_links": [
    {
     "text": "MetaKernel Magics",
     "url": "https://metakernel.readthedocs.io/en/latest/source/README.html"
    }
   ],
   "mimetype": "text/x-scala",
   "name": "scala",
   "pygments_lexer": "scala",
   "version": "0.4.1"
  }
 },
 "nbformat": 4,
 "nbformat_minor": 5
}
