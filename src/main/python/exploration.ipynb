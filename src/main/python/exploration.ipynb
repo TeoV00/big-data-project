{
 "cells": [
  {
   "cell_type": "markdown",
   "id": "723ce71a-4f64-48af-9566-0e7cc68f5d31",
   "metadata": {},
   "source": [
    "# Data exploration"
   ]
  },
  {
   "cell_type": "code",
   "execution_count": 27,
   "id": "4c702503-49d8-441b-9f19-86597a825ef5",
   "metadata": {},
   "outputs": [
    {
     "data": {
      "text/plain": [
       "import org.apache.spark\n"
      ]
     },
     "execution_count": 27,
     "metadata": {},
     "output_type": "execute_result"
    }
   ],
   "source": [
    "import org.apache.spark"
   ]
  },
  {
   "cell_type": "markdown",
   "id": "03183f28-fe62-4b4f-92dd-ed3f139cd8fd",
   "metadata": {},
   "source": [
    "### Schema definitions"
   ]
  },
  {
   "cell_type": "code",
   "execution_count": 28,
   "id": "798114e9-cf88-4ba7-aae2-9e024ff2abdd",
   "metadata": {},
   "outputs": [
    {
     "data": {
      "text/plain": [
       "import org.apache.spark.sql.types._\n",
       "import java.sql.Timestamp\n",
       "reviewSchema: org.apache.spark.sql.types.StructType = StructType(StructField(user_id,StringType,true),StructField(name,StringType,true),StructField(time,LongType,false),StructField(rating,DoubleType,true),StructField(text,StringType,true),StructField(pics,ArrayType(StringType,true),true),StructField(resp,StructType(StructField(time,LongType,false),StructField(text,StringType,true)),true),StructField(gmap_id,StringType,false))\n",
       "defined class Response\n",
       "defined class Review\n"
      ]
     },
     "execution_count": 28,
     "metadata": {},
     "output_type": "execute_result"
    }
   ],
   "source": [
    "import org.apache.spark.sql.types._\n",
    "import java.sql.Timestamp\n",
    "\n",
    "val reviewSchema = StructType(\n",
    "  Seq(\n",
    "    StructField(\"user_id\",  StringType,            nullable = true),\n",
    "    StructField(\"name\",     StringType,            nullable = true),\n",
    "    StructField(\"time\",     LongType,              nullable = false),\n",
    "    StructField(\"rating\",   DoubleType,            nullable = true),\n",
    "    StructField(\"text\",     StringType,            nullable = true),\n",
    "    StructField(\"pics\",     ArrayType(StringType), nullable = true),\n",
    "    StructField(\"resp\",     StructType(\n",
    "      Seq(\n",
    "        StructField(\"time\", LongType,              nullable = false),\n",
    "        StructField(\"text\", StringType,            nullable = true)\n",
    "      )\n",
    "    ),                                             nullable = true),\n",
    "    StructField(\"gmap_id\",  StringType,            nullable = false),\n",
    "  )\n",
    ")\n",
    "\n",
    "case class Response(time: Timestamp, text: Option[String])\n",
    "\n",
    "case class Review(\n",
    "  user_id: Option[String],\n",
    "  name: Option[String],\n",
    "  time: Timestamp,\n",
    "  rating: Option[Double],\n",
    "  text: Option[String],\n",
    "  pics: Seq[String],\n",
    "  resp: Option[Response],\n",
    "  gmap_id: String\n",
    ")"
   ]
  },
  {
   "cell_type": "code",
   "execution_count": 29,
   "id": "9ee2250d-bf12-4105-9d0b-86fdd8351340",
   "metadata": {},
   "outputs": [
    {
     "data": {
      "text/plain": [
       "metadataSchema: org.apache.spark.sql.types.StructType = StructType(StructField(name,StringType,true),StructField(address,StringType,true),StructField(gmap_id,StringType,false),StructField(description,StringType,true),StructField(latitude,DoubleType,false),StructField(longitude,DoubleType,false),StructField(category,ArrayType(StringType,true),true),StructField(avg_rating,DoubleType,false),StructField(num_of_reviews,IntegerType,false),StructField(price,StringType,true),StructField(hours,ArrayType(ArrayType(StringType,true),true),true),StructField(MISC,MapType(StringType,ArrayType(StringType,true),true),true),StructField(state,StringType,true),StructField(relative_results,ArrayType(StringType,true),true),StructField(url,StringType,false))\n",
       "defined class Metadata\n"
      ]
     },
     "execution_count": 29,
     "metadata": {},
     "output_type": "execute_result"
    }
   ],
   "source": [
    "val metadataSchema = StructType(\n",
    "  Seq(\n",
    "    StructField(\"name\",             StringType,                                 nullable = true),\n",
    "    StructField(\"address\",          StringType,                                 nullable = true),\n",
    "    StructField(\"gmap_id\",          StringType,                                 nullable = false),\n",
    "    StructField(\"description\",      StringType,                                 nullable = true),\n",
    "    StructField(\"latitude\",         DoubleType,                                 nullable = false),\n",
    "    StructField(\"longitude\",        DoubleType,                                 nullable = false),\n",
    "    StructField(\"category\",         ArrayType(StringType),                      nullable = true),\n",
    "    StructField(\"avg_rating\",       DoubleType,                                 nullable = false),\n",
    "    StructField(\"num_of_reviews\",   IntegerType,                                nullable = false),\n",
    "    StructField(\"price\",            StringType,                                 nullable = true),\n",
    "    StructField(\"hours\",            ArrayType(ArrayType(StringType)),           nullable = true),\n",
    "    StructField(\"MISC\",             MapType(StringType, ArrayType(StringType)), nullable = true),\n",
    "    StructField(\"state\",            StringType,                                 nullable = true),\n",
    "    StructField(\"relative_results\", ArrayType(StringType),                      nullable = true),\n",
    "    StructField(\"url\",              StringType,                                 nullable = false),\n",
    "  )\n",
    ")\n",
    "\n",
    "case class Metadata(\n",
    "  name: Option[String],\n",
    "  address: Option[String],\n",
    "  gmap_id: String,\n",
    "  description: Option[String],\n",
    "  latitude: Double,\n",
    "  longitude: Double,\n",
    "  category: Seq[String],\n",
    "  avg_rating: Double,\n",
    "  num_of_reviews: Int,\n",
    "  price: Option[String],\n",
    "  hours: Seq[Seq[String]],\n",
    "  MISC: Map[String, Seq[String]],\n",
    "  state: Option[String],\n",
    "  relative_results: Seq[String],\n",
    "  url: String\n",
    ")"
   ]
  },
  {
   "cell_type": "markdown",
   "id": "a9a86865-375b-401a-801f-85ff30340834",
   "metadata": {},
   "source": [
    "### Dataset load and parse"
   ]
  },
  {
   "cell_type": "code",
   "execution_count": 30,
   "id": "2b53a5d8-31cc-43bb-b6b1-4eb6fada65d6",
   "metadata": {},
   "outputs": [
    {
     "name": "stdout",
     "output_type": "stream",
     "text": [
      "root\n",
      " |-- user_id: string (nullable = true)\n",
      " |-- name: string (nullable = true)\n",
      " |-- time: timestamp (nullable = true)\n",
      " |-- rating: double (nullable = true)\n",
      " |-- text: string (nullable = true)\n",
      " |-- pics: array (nullable = true)\n",
      " |    |-- element: string (containsNull = true)\n",
      " |-- resp: struct (nullable = true)\n",
      " |    |-- time: timestamp (nullable = true)\n",
      " |    |-- text: string (nullable = true)\n",
      " |-- gmap_id: string (nullable = true)\n",
      "\n",
      "root\n",
      " |-- name: string (nullable = true)\n",
      " |-- address: string (nullable = true)\n",
      " |-- gmap_id: string (nullable = true)\n",
      " |-- description: string (nullable = true)\n",
      " |-- latitude: double (nullable = true)\n",
      " |-- longitude: double (nullable = true)\n",
      " |-- category: array (nullable = true)\n",
      " |    |-- element: string (containsNull = true)\n",
      " |-- avg_rating: double (nullable = true)\n",
      " |-- num_of_reviews: integer (nullable = true)\n",
      " |-- price: string (nullable = true)\n",
      " |-- hours: array (nullable = true)\n",
      " |    |-- element: array (containsNull = true)\n",
      " |    |    |-- element: string (containsNull = true)\n",
      " |-- MISC: map (nullable = true)\n",
      " |    |-- key: string\n",
      " |    |-- value: array (valueContainsNull = true)\n",
      " |    |    |-- element: string (containsNull = true)\n",
      " |-- state: string (nullable = true)\n",
      " |-- relative_results: array (nullable = true)\n",
      " |    |-- element: string (containsNull = true)\n",
      " |-- url: string (nullable = true)\n",
      "\n"
     ]
    },
    {
     "data": {
      "text/plain": [
       "warning: 6 feature warnings; for details, enable `:setting -feature' or `:replay -feature'\n",
       "import java.nio.file.Paths\n",
       "projectDir: String = /Users/lucatassi/Projects/big-data/big-data-project\n",
       "reviewsPath: String = /Users/lucatassi/Projects/big-data/big-data-project/dataset/sample-reviews.ndjson\n",
       "metadataPath: String = /Users/lucatassi/Projects/big-data/big-data-project/dataset/metadata.ndjson\n",
       "import org.apache.spark.sql.SparkSession\n",
       "spark: org.apache.spark.sql.SparkSession = org.apache.spark.sql.SparkSession@7cd655ad\n",
       "reviewsDf: org.apache.spark.sql.Dataset[Review] = [user_id: string, name: string ... 6 more fields]\n",
       "metadataDf: org.apache.spark.sql.Dataset[Metadata] = [name: string, address: string ... 13 more fields]\n",
       "reviewsRdd: org.apache.spark.rdd.RDD[(Option[String], Option[String], java.sql.Timestamp, Option[Double], Option[String], Seq[String], Option[(java.sql.Timestamp, ...\n"
      ]
     },
     "execution_count": 30,
     "metadata": {},
     "output_type": "execute_result"
    }
   ],
   "source": [
    "import java.nio.file.Paths\n",
    "\n",
    "val projectDir: String = Paths.get(System.getProperty(\"user.dir\")).getParent.getParent.getParent.toString\n",
    "val reviewsPath = s\"$projectDir/dataset/sample-reviews.ndjson\"\n",
    "val metadataPath = s\"$projectDir/dataset/metadata.ndjson\"\n",
    "\n",
    "import org.apache.spark.sql.SparkSession\n",
    "\n",
    "val spark = SparkSession.builder()\n",
    "  .appName(\"NDJSON Reader\")\n",
    "  .master(\"local[*]\") // Needed in local mode\n",
    "  .getOrCreate()\n",
    "\n",
    "val reviewsDf = spark.read\n",
    "  .schema(reviewSchema)\n",
    "  .json(reviewsPath)\n",
    "  .withColumn(\"pics\", when (col(\"pics\") isNull, array()) otherwise col(\"pics\"))\n",
    "  .withColumn(\"time\", from_unixtime(col(\"time\") / 1000).cast(\"timestamp\"))\n",
    "  .withColumn(\"resp\", \n",
    "    when (\n",
    "      col(\"resp\") isNotNull, \n",
    "      struct(\n",
    "        from_unixtime(col(\"resp.time\") / 1000).cast(\"timestamp\").alias(\"time\"),\n",
    "        col(\"resp.text\").cast(StringType).alias(\"text\")\n",
    "      )\n",
    "    ) otherwise lit(null)\n",
    "  )\n",
    "  .as[Review]\n",
    "\n",
    "val metadataDf = spark.read\n",
    "  .schema(metadataSchema)\n",
    "  .json(metadataPath)\n",
    "  .withColumn(\"category\", when (col(\"category\") isNull, array()) otherwise col(\"category\"))\n",
    "  .withColumn(\"hours\", when (col(\"hours\") isNull, array()) otherwise col(\"hours\"))\n",
    "  .withColumn(\"relative_results\", when (col(\"relative_results\") isNull, array()) otherwise col(\"relative_results\"))\n",
    "  .withColumn(\"MISC\",\n",
    "    when (\n",
    "      col(\"MISC\") isNotNull,\n",
    "      col(\"MISC\").cast(MapType(StringType, ArrayType(StringType)))\n",
    "    ) otherwise typedLit(Map.empty[String, Seq[String]])\n",
    "  )\n",
    "  .as[Metadata]\n",
    "\n",
    "reviewsDf.printSchema()\n",
    "metadataDf.printSchema()\n",
    "\n",
    "// Unforturnately, it seems that Spark does not support case classes in RDDs. It throws ArrayStoreException\n",
    "// when trying to collect the RDD... [see also [here](https://github.com/adtech-labs/spylon-kernel/issues/40)]\n",
    "val reviewsRdd = reviewsDf.rdd\n",
    "  .map(Review.unapply)\n",
    "  .map(_.get)\n",
    "  .map { case review @ (_, _, _, _, _, _, resp, _) => review.copy(_7 = resp.map(Response.unapply(_).get)) }\n",
    "val metaRdd = metadataDf.rdd.map(Metadata.unapply).map(_.get)"
   ]
  },
  {
   "cell_type": "markdown",
   "id": "61ff822b-bfd3-42c5-b780-920b24e5834d",
   "metadata": {},
   "source": [
    "## Exploration"
   ]
  },
  {
   "cell_type": "markdown",
   "id": "b771377c-904d-4d24-9a76-b2e0fc690454",
   "metadata": {},
   "source": [
    "---\n",
    "\n",
    "**Metadata**: (name, address, <ins>gmap_id</ins>, description, latitude, longitude, category, avg_rating, num_of_reviews, price, hours, misc, state, relative_results, url)\n",
    "\n",
    "**Review**: (user_id, name, time, rating, text, pics, responses, <ins>gmap_id</ins>)\n",
    "\n",
    "---"
   ]
  },
  {
   "cell_type": "code",
   "execution_count": 31,
   "id": "e522837e-5852-4ba2-a58c-64f1c40daa1b",
   "metadata": {},
   "outputs": [
    {
     "data": {
      "text/plain": [
       "res21: Array[(Option[String], Option[String], java.sql.Timestamp, Option[Double], Option[String], Seq[String], Option[(java.sql.Timestamp, Option[String])], String)] = Array()\n"
      ]
     },
     "execution_count": 31,
     "metadata": {},
     "output_type": "execute_result"
    }
   ],
   "source": [
    "reviewsRdd\n",
    "  .filter(_._2.contains(\"Hossein\"))\n",
    "  .collect()"
   ]
  },
  {
   "cell_type": "code",
   "execution_count": 32,
   "id": "dc80f212-6fe5-477e-bafb-703347318ea8",
   "metadata": {},
   "outputs": [
    {
     "data": {
      "text/plain": [
       "res22: Array[(Option[String], Option[String], String, Option[String], Double, Double, Seq[String], Double, Int, Option[String], Seq[Seq[String]], Map[String,Seq[String]], Option[String], Seq[String], String)] = Array()\n"
      ]
     },
     "execution_count": 32,
     "metadata": {},
     "output_type": "execute_result"
    }
   ],
   "source": [
    "metaRdd\n",
    "  .filter(_._3 == \"0x80dcdbd91ac0ff97:0x40cb80cf24283e4d\")\n",
    "  .collect()"
   ]
  },
  {
   "cell_type": "code",
   "execution_count": 33,
   "id": "44d582ec",
   "metadata": {},
   "outputs": [
    {
     "data": {
      "text/plain": [
       "res23: Long = 240140\n"
      ]
     },
     "execution_count": 33,
     "metadata": {},
     "output_type": "execute_result"
    }
   ],
   "source": [
    "// beware `price` can be empty!!\n",
    "metaRdd.filter(_._10.isEmpty).count()"
   ]
  },
  {
   "cell_type": "code",
   "execution_count": 34,
   "id": "143b6918-d76d-4408-aaaa-b04638820d6a",
   "metadata": {},
   "outputs": [
    {
     "data": {
      "text/plain": [
       "res24: Long = 11232\n"
      ]
     },
     "execution_count": 34,
     "metadata": {},
     "output_type": "execute_result"
    }
   ],
   "source": [
    "// beware `rating` can be empty!!\n",
    "reviewsRdd.filter(_._4.isEmpty).count()"
   ]
  },
  {
   "cell_type": "code",
   "execution_count": 35,
   "id": "0bd61a70-40a8-4d6d-ba9a-6a6774367924",
   "metadata": {},
   "outputs": [
    {
     "data": {
      "text/plain": [
       "res25: Long = 11232\n"
      ]
     },
     "execution_count": 35,
     "metadata": {},
     "output_type": "execute_result"
    }
   ],
   "source": [
    "// beware `user_id` can be empty!!\n",
    "reviewsRdd.filter(_._1.isEmpty).count()"
   ]
  },
  {
   "cell_type": "markdown",
   "id": "0ef5939d-0898-4c3b-9968-1f0f53019df4",
   "metadata": {},
   "source": [
    "How many distinct businesses?"
   ]
  },
  {
   "cell_type": "code",
   "execution_count": 36,
   "id": "33ffc65a-8a59-4aba-af1c-7b97170ec984",
   "metadata": {},
   "outputs": [
    {
     "data": {
      "text/plain": [
       "res26: Long = 291314\n"
      ]
     },
     "execution_count": 36,
     "metadata": {},
     "output_type": "execute_result"
    }
   ],
   "source": [
    "metaRdd.map(_._3).distinct().count()"
   ]
  },
  {
   "cell_type": "markdown",
   "id": "95a9f3eb-ab59-4f26-a18b-2b1064b2c32f",
   "metadata": {},
   "source": [
    "How many average ratings per user? [Incomplete data since we are using a sample of the dataset]"
   ]
  },
  {
   "cell_type": "code",
   "execution_count": 37,
   "id": "d0f06063-d933-4a77-bd49-d046e253d2a0",
   "metadata": {},
   "outputs": [
    {
     "data": {
      "text/plain": [
       "avgRatingsPerUser: (Int, Int) = (1809132,1151185)\n",
       "res27: String = Average ratings per user: 1.5715388925324774\n"
      ]
     },
     "execution_count": 37,
     "metadata": {},
     "output_type": "execute_result"
    }
   ],
   "source": [
    "val avgRatingsPerUser = reviewsRdd\n",
    "  .filter(_._1.isDefined) // user_id can be not defined\n",
    "  .map(_._1.get -> 1)\n",
    "  .reduceByKey(_ + _) // [(user_id, #ratings written by user_id)*]\n",
    "  .aggregate((0, 0))((acc, v) => (acc._1 + v._2, acc._2 + 1), (r1, r2) => (r1._1 + r2._1, r1._2 + r2._2))\n",
    "\"Average ratings per user: \" + avgRatingsPerUser._1.toDouble / avgRatingsPerUser._2"
   ]
  },
  {
   "cell_type": "markdown",
   "id": "1e1c64a4-57a8-4cee-8a79-fd3e54d03d36",
   "metadata": {},
   "source": [
    "How many average ratings per business? [Incomplete data since we are using a sample of the dataset]"
   ]
  },
  {
   "cell_type": "code",
   "execution_count": 38,
   "id": "a8ee8b23-89a2-497b-a4c9-85dc974aa13d",
   "metadata": {},
   "outputs": [
    {
     "data": {
      "text/plain": [
       "avgRatingsPerBusiness: (Int, Int) = (1820364,193159)\n",
       "res28: String = Average ratings per business: 9.424173867125011\n"
      ]
     },
     "execution_count": 38,
     "metadata": {},
     "output_type": "execute_result"
    }
   ],
   "source": [
    "val avgRatingsPerBusiness = reviewsRdd\n",
    "  .map(_._8 -> 1)\n",
    "  .reduceByKey(_ + _) // [(gmap_id, #ratings for gmap_id)*]\n",
    "  .aggregate((0, 0))((acc, v) => (acc._1 + v._2, acc._2 + 1), (r1, r2) => (r1._1 + r2._1, r1._2 + r2._2))\n",
    "\"Average ratings per business: \" + avgRatingsPerBusiness._1.toDouble / avgRatingsPerBusiness._2"
   ]
  },
  {
   "cell_type": "markdown",
   "id": "e8a8cbc9-f0ed-43a2-b28a-860c262ca528",
   "metadata": {},
   "source": [
    "Average response rate? [Incomplete data since we are using a sample of the dataset]"
   ]
  },
  {
   "cell_type": "code",
   "execution_count": 39,
   "id": "70d7250c-9877-4516-8d7d-89781b42d0b0",
   "metadata": {},
   "outputs": [
    {
     "data": {
      "text/plain": [
       "avgResponseRate: (Int, Int) = (244450,1820364)\n",
       "res29: String = Average response rate: 13.428632954727734 %\n"
      ]
     },
     "execution_count": 39,
     "metadata": {},
     "output_type": "execute_result"
    }
   ],
   "source": [
    "val avgResponseRate = reviewsRdd\n",
    "  .map(r => r._8 -> (if (r._7.isDefined) 1 else 0))\n",
    "  .aggregate((0, 0))((acc, v) => (acc._1 + v._2, acc._2 + 1), (r1, r2) => (r1._1 + r2._1, r1._2 + r2._2))\n",
    "\"Average response rate: \" + (avgResponseRate._1.toDouble / avgResponseRate._2) * 100 + \" %\""
   ]
  },
  {
   "cell_type": "code",
   "execution_count": 40,
   "id": "80776b98",
   "metadata": {},
   "outputs": [
    {
     "data": {
      "text/plain": [
       "StateRegex: scala.util.matching.Regex = ,\\s*([A-Z]{2})\\s+\\d{5}\n",
       "toState: (address: Option[String])String\n",
       "addr: String = Redbox, 865 Thomas Rd, Warrior, AL 35180\n",
       "res30: String = AL\n"
      ]
     },
     "execution_count": 40,
     "metadata": {},
     "output_type": "execute_result"
    }
   ],
   "source": [
    "val StateRegex = \"\"\",\\s*([A-Z]{2})\\s+\\d{5}\"\"\".r\n",
    "\n",
    "def toState(address: Option[String]): String = address.flatMap { addr =>\n",
    "    // This regex captures the state abbreviation between a comma and the ZIP code\n",
    "    StateRegex.findFirstMatchIn(addr).map(_.group(1))\n",
    "  }.getOrElse(\"Unknown\")\n",
    "\n",
    "val addr = \"Redbox, 865 Thomas Rd, Warrior, AL 35180\"\n",
    "\n",
    "toState(Some(addr))"
   ]
  },
  {
   "cell_type": "markdown",
   "id": "62f29f09",
   "metadata": {},
   "source": [
    "Spurious states are present: there exists metadata also for businesses not located in the states we are interested in."
   ]
  },
  {
   "cell_type": "code",
   "execution_count": 48,
   "id": "3b583dbc",
   "metadata": {},
   "outputs": [
    {
     "name": "stdout",
     "output_type": "stream",
     "text": [
      "(NH,24401)\n",
      "(Unknown,4728)\n",
      "(WA,119096)\n",
      "(AL,73872)\n",
      "(MS,36658)\n",
      "(NM,34133)\n"
     ]
    },
    {
     "data": {
      "text/plain": [
       "states: org.apache.spark.rdd.RDD[(String, Int)] = MapPartitionsRDD[206] at map at <console>:40\n"
      ]
     },
     "execution_count": 48,
     "metadata": {},
     "output_type": "execute_result"
    }
   ],
   "source": [
    "val states = metaRdd.map(m => (toState(m._2), 1))\n",
    "states.reduceByKey(_ + _).collect().foreach(println)"
   ]
  },
  {
   "cell_type": "code",
   "execution_count": 42,
   "id": "382ae277",
   "metadata": {},
   "outputs": [
    {
     "data": {
      "text/plain": [
       "consideredStates: scala.collection.immutable.Map[String,String] = Map(New Mexico -> NM, Washington -> WA, Alabama -> AL, Mississippi -> MS, New Hampshire -> NH)\n"
      ]
     },
     "execution_count": 42,
     "metadata": {},
     "output_type": "execute_result"
    }
   ],
   "source": [
    "val consideredStates = Map(\n",
    "  \"Alabama\" -> \"AL\",\n",
    "  \"Mississippi\" -> \"MS\",\n",
    "  \"New Hampshire\" -> \"NH\",\n",
    "  \"New Mexico\" -> \"NM\",\n",
    "  \"Washington\" -> \"WA\",\n",
    ")"
   ]
  },
  {
   "cell_type": "code",
   "execution_count": 43,
   "id": "1367c1c6",
   "metadata": {},
   "outputs": [
    {
     "name": "stdout",
     "output_type": "stream",
     "text": [
      "Empty addresses: 4582\n",
      "Spurious states: 9143\n"
     ]
    }
   ],
   "source": [
    "println(\"Empty addresses: \" + metaRdd.filter(_._2.isEmpty).count())\n",
    "println(\"Spurious states: \" + metaRdd.map(m => toState(m._2)).filter(s => !consideredStates.values.toSeq.contains(s)).count())"
   ]
  },
  {
   "cell_type": "code",
   "execution_count": 47,
   "id": "cb1a85ad",
   "metadata": {},
   "outputs": [
    {
     "name": "stdout",
     "output_type": "stream",
     "text": [
      "AL\n",
      "Unknown\n",
      "---\n",
      "Empty addresses: 4582\n",
      "Unknown states: 4728\n",
      "Spurious states: 4728\n",
      "---\n",
      "All 'unknown' have no clear state indication:\n",
      "(Some(Pond Creek),Unknown)\n",
      "(Some(Dry Creek),Unknown)\n",
      "(Some(Lake Jackson),Unknown)\n",
      "(Some(Natural Bridge Creek),Unknown)\n",
      "(Some(Conecuh River),Unknown)\n",
      "(Some(North America),Unknown)\n",
      "(Some(Hulsey Branch),Unknown)\n",
      "(Some(Limestone Creek),Unknown)\n",
      "(Some(Shoe Station, 2521 Airport Thruway, Columbus, GA 31904, United States),Unknown)\n",
      "(Some(Bowlero Columbus, 1636 Bradley Park Dr, Columbus, GA 31904, United States),Unknown)\n",
      "(Some(Ice Queen, 6600 Whittlesey Blvd #101, Columbus, GA 31909, United States),Unknown)\n",
      "(Some(Perdido Bay Seafood, 13506 Perdido Key Dr, Pensacola, FL 32507, United States),Unknown)\n",
      "(Some(Walmart Supercenter, 5448 Whittlesey Blvd Ste B, Columbus, GA 31909, United States),Unknown)\n",
      "(Some(FUJI JAPANESE STEAK HOUSE & SUSHI BAR, 6499 Veterans Pkwy #8, Columbus, GA 31909, United States),Unknown)\n",
      "(Some(B.Merrell's, 7600 Veterans Pkwy, Columbus, GA 31909, United States),Unknown)\n",
      "(Some(Firehouse Subs Columbus Park, 2501 Whittlesey Blvd suite h, Columbus, GA 31909, United States),Unknown)\n",
      "(Some(Newk's Eatery, 5555 Whittlesey Blvd, Columbus, GA 31909, United States),Unknown)\n",
      "(Some(Lillian’s Pan Pizza, 14514 Perdido Key Dr, Pensacola, FL 32507, United States),Unknown)\n",
      "(Some(Whitewater Express, 1000 Bay Ave, Columbus, GA 31901, United States),Unknown)\n",
      "(Some(O'Charley’s Restaurant & Bar, 1528 Bradley Park Dr, Columbus, GA 31904, United States),Unknown)\n",
      "(Some(Shrimp Basket Columbus, 6073 Veterans Pkwy, Columbus, GA 31909, United States),Unknown)\n",
      "(Some(Chef Lee's Peking Restaurant, 6100 Bradley Park Dr, Columbus, GA 31904, United States),Unknown)\n",
      "(Some(Johnny's New York Style Pizza, 6770 Veterans Pkwy Suite D, Columbus, GA 31909, United States),Unknown)\n",
      "(Some(Korea House Restaurant, 5507 Veterans Pkwy, Columbus, GA 31904, United States),Unknown)\n",
      "(Some(Flora-Bama, 17401 Perdido Key Dr, Pensacola, FL 32507, United States),Unknown)\n",
      "(Some(Shady Lawn Truck Stop, 1371 Bryson Rd, Ardmore, TN 38449, United States),Unknown)\n",
      "(Some(Innerarity Point Park, 5828 Cruzat Way, Pensacola, FL 32507, United States),Unknown)\n",
      "(Some(Toomsuba Creek),Unknown)\n",
      "(Some(Kinterbish Creek),Unknown)\n",
      "(Some(31904 Georgia, Columbus, Williams Rd, Sunny Wings and Burgers),Unknown)\n",
      "(Some(Lake Harding),Unknown)\n",
      "(Some(Georgia, Columbus, Whittlesey Rd, Tokyo III Japanese Steakhouse邮政编码: 31904),Unknown)\n",
      "(Some(Sucarnoochee River),Unknown)\n",
      "(Some(Luxapallila Creek),Unknown)\n",
      "(Some(Buttahatchee River),Unknown)\n",
      "(Some(Conecuh River),Unknown)\n",
      "(Some(Lake Oliver),Unknown)\n",
      "(Some(Brier Fork Flint River),Unknown)\n",
      "(Some(Chattahoochee River),Unknown)\n",
      "(Some(LongHorn Steakhouse, 5435 Whittlesey Blvd, Columbus, GA 31909, United States),Unknown)\n",
      "(Some(Ole Times Country Buffet, 1900 Manchester Expy, Columbus, GA 31904, United States),Unknown)\n",
      "(Some(El Carrizo Restaurant, 6575 Whittlesey Blvd STE C, Columbus, GA 31909, United States),Unknown)\n",
      "(Some(Sam's Club, 5448 Whittlesey Blvd, Columbus, GA 31909, United States),Unknown)\n",
      "(Some(Olive Garden Italian Restaurant, 5555 G Whittlesey Blvd, Columbus, GA 31909, United States),Unknown)\n",
      "(Some(Krispy Kreme, 6761 Veterans Pkwy, Columbus, GA 31909, United States),Unknown)\n",
      "(Some(Guntersville Lake),Unknown)\n",
      "(Some(Tallapoosa River),Unknown)\n",
      "(Some(Weiss Lake),Unknown)\n",
      "(Some(Choctawhatchee River),Unknown)\n",
      "(Some(Coosa River),Unknown)\n",
      "(Some(Pickwick Lake),Unknown)\n",
      "(Some(Yazoo River),Unknown)\n",
      "(Some(Tunica Lake),Unknown)\n",
      "(Some(Lake Ferguson),Unknown)\n",
      "(Some(38125 Tennessee, Memphis, E Shelby Dr, TNT BEAUTY OUTLET),Unknown)\n",
      "(Some(Clear Creek, 38852),Unknown)\n",
      "(Some(38141 Tennessee, Memphis, Riverdale Rd, Pizza),Unknown)\n",
      "(Some(Burger King, 4650 Millbranch Rd, Memphis, TN 38116, United States),Unknown)\n",
      "(Some(Southern Sons Print Shop, 3331 Winchester Rd, Memphis, TN 38118, United States),Unknown)\n",
      "(Some(McDonald's, 3377 Winchester Rd, Memphis, TN 38118, United States),Unknown)\n",
      "(Some(Norton Jr Leroy OD, 4557 Millbranch Rd, Memphis, TN 38116, United States),Unknown)\n",
      "(Some(Oakhaven Park, 3875 Bishops Bridge Rd, Memphis, TN 38118, United States),Unknown)\n",
      "(Some(Dollar Tree, 5270 S 3rd St, Memphis, TN 38109, United States),Unknown)\n",
      "(Some(Marlowe's Ribs & Restaurant, 4381 Elvis Presley Blvd, Memphis, TN 38116, United States),Unknown)\n",
      "(Some(United Airlines, 2491 Winchester Rd, Memphis, TN 38116, United States),Unknown)\n",
      "(Some(James Pest Management, 4246 Outland Rd, Memphis, TN 38118, United States),Unknown)\n",
      "(Some(Unbeatable Tire Center, 4621 Getwell Rd, Memphis, TN 38118, United States),Unknown)\n",
      "(Some(Harold’s Fish and Chicken, 4510 Millbranch Rd, Memphis, TN 38116, United States),Unknown)\n",
      "(Some(Lawrence Johnson Realtors Inc, 4222 Millbranch Rd, Memphis, TN 38116, United States),Unknown)\n",
      "(Some(Eagle Lake),Unknown)\n",
      "(Some(Chandeleur Sound),Unknown)\n",
      "(Some(Escatawpa river),Unknown)\n",
      "(Some(Lake Borgne),Unknown)\n",
      "(Some(Ponta Creek),Unknown)\n",
      "(Some(ASHTEK VALERO, 1682 E Shelby Dr, Memphis, TN 38116, United States),Unknown)\n",
      "(Some(Exxon, 2675 New Getwell Rd, Memphis, TN 38118, United States),Unknown)\n",
      "(Some(Bogue Chitto),Unknown)\n",
      "(Some(Noxubee River),Unknown)\n",
      "(Some(Pearl River),Unknown)\n",
      "(Some(North Branch Stearns Brook),Unknown)\n",
      "(Some(Moore Reservoir),Unknown)\n",
      "(Some(Milton Pond),Unknown)\n",
      "(Some(Balch Pond),Unknown)\n",
      "(Some(Nashua River),Unknown)\n",
      "(Some(Applebee's Grill + Bar, 56 Plaistow Rd, Haverhill, MA 01830, United States),Unknown)\n",
      "(Some(Valley Vista, 23 Upper Plain, Bradford, VT 05033, United States),Unknown)\n",
      "(Some(Province Lake),Unknown)\n",
      "(Some(Lake Monomonac),Unknown)\n",
      "(Some(Umbagog Lake),Unknown)\n",
      "(Some(Bear Brook),Unknown)\n",
      "(Some(Isles of Shoals),Unknown)\n",
      "(Some(Merrimack River),Unknown)\n",
      "(Some(MFCP - Visit us at 4315 N Nevada Ave, Colorado Springs, CO 80907, 8322 Broadway Blvd SE, Albuquerque, NM 87105),Unknown)\n",
      "(Some(La Plata River),Unknown)\n",
      "(Some(Rio Chama),Unknown)\n",
      "(Some(Navajo River),Unknown)\n",
      "(Some(Corner Bakery Cafe, 655 Sunland Park Dr, El Paso, TX 79912, United States),Unknown)\n",
      "(Some(Basico Bistro Cafe, 6006 N Mesa St #106, El Paso, TX 79912, United States),Unknown)\n",
      "(Some(Planet Fitness, 725 N Resler Dr, El Paso, TX 79912, United States),Unknown)\n",
      "(Some(Barnes & Noble, 705 Sunland Park Dr, El Paso, TX 79912, United States),Unknown)\n",
      "(Some(E.P. Dentistry 4 Kids - Mesa, 5867 N Mesa St, El Paso, TX 79912, United States),Unknown)\n",
      "(Some(McDonald's, 11390 Gateway N Blvd, El Paso, TX 79934, United States),Unknown)\n",
      "(Some(Academy Sports + Outdoors, 801 S Mesa Hills Dr, El Paso, TX 79912, United States),Unknown)\n",
      "(Some(Cracker Barrel Old Country Store, 7540 Remcon Cir, El Paso, TX 79912, United States),Unknown)\n",
      "(Some(Dillard's, 750 Sunland Park Dr, El Paso, TX 79912, United States),Unknown)\n",
      "(Some(Environmental Services Department - Northwest Division, 4090 Doniphan Dr, El Paso, TX 79922, United States),Unknown)\n",
      "(Some(Carnitas Queretaro Mexican Restaurant, 7410 Remcon Cir, El Paso, TX 79912, United States),Unknown)\n",
      "(Some(Red Bluff Reservoir),Unknown)\n",
      "(Some(Montoya Drain),Unknown)\n",
      "(Some(Fort Zachary Cruise Pier, West, FL 33040,, Unnamed Rd, Bloomfield, NM 87413),Unknown)\n",
      "(Some(Pecos River),Unknown)\n",
      "(Some(Rio Grande),Unknown)\n",
      "(Some(Mill Creek),Unknown)\n",
      "(Some(Birch Creek),Unknown)\n",
      "(Some(Historic Trail Marker - Lewis & Clark Return Trip, US-12),Unknown)\n",
      "(Some(Franklin Falls Trail Parking Lot, FS 5840000, North Bend, WA 98045),Unknown)\n",
      "(Some(Oregon, Portland, NE Airport Way, Buyandship邮政编码: 97230),Unknown)\n",
      "(Some(Camper, 575, Bellevue Square BELLEVUE District of Columbia, 98004),Unknown)\n",
      "(Some(Knappa Storage, 42270 Kylester Ln, Astoria, OR 97103, United States),Unknown)\n",
      "(Some(Best Buy, 2055 N Tomahawk Island Dr, Portland, OR 97217, United States),Unknown)\n",
      "(Some(Starbucks, 5826 NE 122nd Ave, Portland, OR 97230, United States),Unknown)\n",
      "(Some(Vetsource, 9500 NE Cascades Pkwy, Portland, OR 97220, United States),Unknown)\n",
      "(Some(Columbia Edgewater Country Club, 2220 NE Marine Dr, Portland, OR 97211, United States),Unknown)\n",
      "(Some(Capitol Hill Station),Unknown)\n",
      "(Some(Groundwork Brewing LLC, 1225 Snake River Ave, Lewiston, ID 83501, United States),Unknown)\n",
      "(Some(United Club, 7000 NE Airport Way, Concourse E, Portland, OR 97218, United States),Unknown)\n",
      "(Some(The Pumpkin Patch on Sauvie Island, 16511 NW Gillihan Rd, Portland, OR 97231, United States),Unknown)\n",
      "(Some(The Home Depot, 1728 N Tomahawk Island Dr, Portland, OR 97217, United States),Unknown)\n",
      "(Some(HomeGoods, 10145 NE Cascades Pkwy, Portland, OR 97220, United States),Unknown)\n",
      "(Some(Panera Bread, 1400 N Tomahawk Island Dr, Portland, OR 97217, United States),Unknown)\n",
      "(Some(Mosier Falls Swimming Hole, 207 3rd Ave, Mosier, OR 97040, United States),Unknown)\n",
      "(Some(Beacon Hill),Unknown)\n",
      "(Some(ParkStone Wood Kitchen + Taps, 9921 NE Cascades Pkwy, Portland, OR 97220, United States),Unknown)\n",
      "(Some(Beaches Restaurant & Bar, Portland International Airport, 7000 NE Airport Way, Portland, OR 97218, United States),Unknown)\n",
      "(Some(Cousins' Restaurant & Saloon, 2114 W 6th St, The Dalles, OR 97058, United States),Unknown)\n",
      "(Some(MOD Pizza, 509 Mt Hood St Suite 100, The Dalles, OR 97058, United States),Unknown)\n",
      "(Some(Hole-in-the-Wall Falls, Starvation Ridge Trail #414, Cascade Locks, OR 97014, United States),Unknown)\n",
      "(Some(Joseph Creek),Unknown)\n",
      "(Some(Pine Creek),Unknown)\n",
      "(Some(ZARA, 184th st sw 3000 Lynnwood District of Columbia, 98037),Unknown)\n",
      "(Some(Hells Gate State Park, 5100 Hells Gate Rd, Lewiston, ID 83501, United States),Unknown)\n",
      "(Some(Union Flat Creek),Unknown)\n",
      "(Some(ZARA, bellevue way ne 575 Bellevue District of Columbia, 98004),Unknown)\n",
      "(Some(Lake Wallula),Unknown)\n",
      "(Some(Lake Celilo),Unknown)\n",
      "(Some(Spokane River),Unknown)\n"
     ]
    },
    {
     "data": {
      "text/plain": [
       "StateNameRegex: scala.util.matching.Regex = \\b(New Mexico|Washington|Alabama|Mississippi|New Hampshire)\\b\n",
       "StateAbbrevRegex: scala.util.matching.Regex = \\b(NM|WA|AL|MS|NH)\\b\n",
       "toState: (address: Option[String])String\n"
      ]
     },
     "execution_count": 47,
     "metadata": {},
     "output_type": "execute_result"
    }
   ],
   "source": [
    "\n",
    "// improved version\n",
    "val StateNameRegex = s\"\"\"\\\\b(${consideredStates.keys.mkString(\"|\")})\\\\b\"\"\".r\n",
    "val StateAbbrevRegex = s\"\"\"\\\\b(${consideredStates.values.mkString(\"|\")})\\\\b\"\"\".r\n",
    "\n",
    "def toState(address: Option[String]): String = address\n",
    "  .flatMap { addr =>\n",
    "    StateRegex\n",
    "      .findFirstMatchIn(addr)\n",
    "      .map(_.group(1))\n",
    "      .orElse(StateNameRegex.findFirstMatchIn(addr).map(stateName => consideredStates(stateName.group(1))))\n",
    "      .orElse(StateAbbrevRegex.findFirstMatchIn(addr).map(_.group(1)))\n",
    "  }\n",
    "  .filter(consideredStates.values.toSeq.contains)\n",
    "  .getOrElse(\"Unknown\")\n",
    "\n",
    "println(toState(Some(\"Main St, AL\")))\n",
    "println(toState(Some(\"Central Avenue, California\")))\n",
    "println(\"---\")\n",
    "println(\"Empty addresses: \" + metaRdd.filter(_._2.isEmpty).count())\n",
    "println(\"Unknown states: \" + metaRdd.map(m => toState(m._2)).filter(_ == \"Unknown\").count())\n",
    "println(\"Spurious states: \" + metaRdd.map(m => toState(m._2)).filter(s => !consideredStates.values.toSeq.contains(s)).count())\n",
    "println(\"---\")\n",
    "println(\"All 'unknown' have no clear state indication:\")\n",
    "metaRdd.map(m => m._2 -> toState(m._2)).filter(s => s._2 == \"Unknown\" && s._1.isDefined).collect().foreach(println)"
   ]
  }
 ],
 "metadata": {
  "kernelspec": {
   "display_name": "spylon-kernel",
   "language": "scala",
   "name": "spylon-kernel"
  },
  "language_info": {
   "codemirror_mode": "text/x-scala",
   "file_extension": ".scala",
   "help_links": [
    {
     "text": "MetaKernel Magics",
     "url": "https://metakernel.readthedocs.io/en/latest/source/README.html"
    }
   ],
   "mimetype": "text/x-scala",
   "name": "scala",
   "pygments_lexer": "scala",
   "version": "0.4.1"
  }
 },
 "nbformat": 4,
 "nbformat_minor": 5
}
