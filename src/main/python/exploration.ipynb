{
 "cells": [
  {
   "cell_type": "markdown",
   "id": "723ce71a-4f64-48af-9566-0e7cc68f5d31",
   "metadata": {},
   "source": [
    "# Data exploration"
   ]
  },
  {
   "cell_type": "code",
   "execution_count": 1,
   "id": "4c702503-49d8-441b-9f19-86597a825ef5",
   "metadata": {},
   "outputs": [
    {
     "data": {
      "text/plain": [
       "Intitializing Scala interpreter ..."
      ]
     },
     "metadata": {},
     "output_type": "display_data"
    },
    {
     "data": {
      "text/plain": [
       "Spark Web UI available at http://macbookpro.homenet.telecomitalia.it:4040\n",
       "SparkContext available as 'sc' (version = 3.5.1, master = local[*], app id = local-1753775449322)\n",
       "SparkSession available as 'spark'\n"
      ]
     },
     "metadata": {},
     "output_type": "display_data"
    },
    {
     "data": {
      "text/plain": [
       "import org.apache.spark\n"
      ]
     },
     "execution_count": 1,
     "metadata": {},
     "output_type": "execute_result"
    }
   ],
   "source": [
    "import org.apache.spark"
   ]
  },
  {
   "cell_type": "markdown",
   "id": "03183f28-fe62-4b4f-92dd-ed3f139cd8fd",
   "metadata": {},
   "source": [
    "### Schema definitions"
   ]
  },
  {
   "cell_type": "code",
   "execution_count": 2,
   "id": "798114e9-cf88-4ba7-aae2-9e024ff2abdd",
   "metadata": {},
   "outputs": [
    {
     "data": {
      "text/plain": [
       "import org.apache.spark.sql.types._\n",
       "reviewSchema: org.apache.spark.sql.types.StructType = StructType(StructField(user_id,StringType,true),StructField(name,StringType,true),StructField(time,LongType,false),StructField(rating,DoubleType,true),StructField(text,StringType,true),StructField(pics,ArrayType(StringType,true),true),StructField(resp,StructType(StructField(time,LongType,false),StructField(text,StringType,true)),true),StructField(gmap_id,StringType,false))\n",
       "defined class Response\n",
       "defined class Review\n"
      ]
     },
     "execution_count": 2,
     "metadata": {},
     "output_type": "execute_result"
    }
   ],
   "source": [
    "import org.apache.spark.sql.types._\n",
    "\n",
    "val reviewSchema = StructType(\n",
    "  Seq(\n",
    "    StructField(\"user_id\",  StringType,            nullable = true),\n",
    "    StructField(\"name\",     StringType,            nullable = true),\n",
    "    StructField(\"time\",     LongType,              nullable = false),\n",
    "    StructField(\"rating\",   DoubleType,            nullable = true),\n",
    "    StructField(\"text\",     StringType,            nullable = true),\n",
    "    StructField(\"pics\",     ArrayType(StringType), nullable = true),\n",
    "    StructField(\"resp\",     StructType(\n",
    "      Seq(\n",
    "        StructField(\"time\", LongType,              nullable = false),\n",
    "        StructField(\"text\", StringType,            nullable = true)\n",
    "      )\n",
    "    ),                                             nullable = true),\n",
    "    StructField(\"gmap_id\",  StringType,            nullable = false),\n",
    "  )\n",
    ")\n",
    "\n",
    "case class Response(time: Long, text: Option[String])\n",
    "\n",
    "case class Review(\n",
    "  user_id: Option[String],\n",
    "  name: Option[String],\n",
    "  time: Long,\n",
    "  rating: Option[Double],\n",
    "  text: Option[String],\n",
    "  pics: Seq[String],\n",
    "  resp: Option[Response],\n",
    "  gmap_id: String\n",
    ")"
   ]
  },
  {
   "cell_type": "code",
   "execution_count": 3,
   "id": "9ee2250d-bf12-4105-9d0b-86fdd8351340",
   "metadata": {},
   "outputs": [
    {
     "data": {
      "text/plain": [
       "metadataSchema: org.apache.spark.sql.types.StructType = StructType(StructField(name,StringType,true),StructField(address,StringType,true),StructField(gmap_id,StringType,false),StructField(description,StringType,true),StructField(latitude,DoubleType,false),StructField(longitude,DoubleType,false),StructField(category,ArrayType(StringType,true),true),StructField(avg_rating,DoubleType,false),StructField(num_of_reviews,IntegerType,false),StructField(price,StringType,false),StructField(hours,ArrayType(ArrayType(StringType,true),true),true),StructField(MISC,MapType(StringType,ArrayType(StringType,true),true),false),StructField(state,StringType,true),StructField(relative_results,ArrayType(StringType,true),true),StructField(url,StringType,false))\n",
       "defined class Metadata\n"
      ]
     },
     "execution_count": 3,
     "metadata": {},
     "output_type": "execute_result"
    }
   ],
   "source": [
    "val metadataSchema = StructType(\n",
    "  Seq(\n",
    "    StructField(\"name\",             StringType,                                 nullable = true),\n",
    "    StructField(\"address\",          StringType,                                 nullable = true),\n",
    "    StructField(\"gmap_id\",          StringType,                                 nullable = false),\n",
    "    StructField(\"description\",      StringType,                                 nullable = true),\n",
    "    StructField(\"latitude\",         DoubleType,                                 nullable = false),\n",
    "    StructField(\"longitude\",        DoubleType,                                 nullable = false),\n",
    "    StructField(\"category\",         ArrayType(StringType),                      nullable = true),\n",
    "    StructField(\"avg_rating\",       DoubleType,                                 nullable = false),\n",
    "    StructField(\"num_of_reviews\",   IntegerType,                                nullable = false),\n",
    "    StructField(\"price\",            StringType,                                 nullable = false),\n",
    "    StructField(\"hours\",            ArrayType(ArrayType(StringType)),           nullable = true),\n",
    "    StructField(\"MISC\",             MapType(StringType, ArrayType(StringType)), nullable = false),\n",
    "    StructField(\"state\",            StringType,                                 nullable = true),\n",
    "    StructField(\"relative_results\", ArrayType(StringType),                      nullable = true),\n",
    "    StructField(\"url\",              StringType,                                 nullable = false),\n",
    "  )\n",
    ")\n",
    "\n",
    "case class Metadata(\n",
    "  name: Option[String],\n",
    "  address: Option[String],\n",
    "  gmap_id: String,\n",
    "  description: Option[String],\n",
    "  latitude: Double,\n",
    "  longitude: Double,\n",
    "  category: Seq[String],\n",
    "  avg_rating: Double,\n",
    "  num_of_reviews: Int,\n",
    "  price: String,\n",
    "  hours: Seq[Seq[String]],\n",
    "  MISC: Map[String, Seq[String]],\n",
    "  state: Option[String],\n",
    "  relative_results: Seq[String],\n",
    "  url: String\n",
    ")"
   ]
  },
  {
   "cell_type": "markdown",
   "id": "a9a86865-375b-401a-801f-85ff30340834",
   "metadata": {},
   "source": [
    "### Dataset load and parse"
   ]
  },
  {
   "cell_type": "code",
   "execution_count": 4,
   "id": "2b53a5d8-31cc-43bb-b6b1-4eb6fada65d6",
   "metadata": {},
   "outputs": [
    {
     "name": "stdout",
     "output_type": "stream",
     "text": [
      "root\n",
      " |-- user_id: string (nullable = true)\n",
      " |-- name: string (nullable = true)\n",
      " |-- time: long (nullable = true)\n",
      " |-- rating: double (nullable = true)\n",
      " |-- text: string (nullable = true)\n",
      " |-- pics: array (nullable = true)\n",
      " |    |-- element: string (containsNull = true)\n",
      " |-- resp: struct (nullable = true)\n",
      " |    |-- time: long (nullable = true)\n",
      " |    |-- text: string (nullable = true)\n",
      " |-- gmap_id: string (nullable = true)\n",
      "\n",
      "root\n",
      " |-- name: string (nullable = true)\n",
      " |-- address: string (nullable = true)\n",
      " |-- gmap_id: string (nullable = true)\n",
      " |-- description: string (nullable = true)\n",
      " |-- latitude: double (nullable = true)\n",
      " |-- longitude: double (nullable = true)\n",
      " |-- category: array (nullable = true)\n",
      " |    |-- element: string (containsNull = true)\n",
      " |-- avg_rating: double (nullable = true)\n",
      " |-- num_of_reviews: integer (nullable = true)\n",
      " |-- price: string (nullable = true)\n",
      " |-- hours: array (nullable = true)\n",
      " |    |-- element: array (containsNull = true)\n",
      " |    |    |-- element: string (containsNull = true)\n",
      " |-- MISC: map (nullable = true)\n",
      " |    |-- key: string\n",
      " |    |-- value: array (valueContainsNull = true)\n",
      " |    |    |-- element: string (containsNull = true)\n",
      " |-- state: string (nullable = true)\n",
      " |-- relative_results: array (nullable = true)\n",
      " |    |-- element: string (containsNull = true)\n",
      " |-- url: string (nullable = true)\n",
      "\n"
     ]
    },
    {
     "data": {
      "text/plain": [
       "warning: four feature warnings; for details, enable `:setting -feature' or `:replay -feature'\n",
       "import java.nio.file.Paths\n",
       "projectDir: java.nio.file.Path = /Users/lucatassi/Projects/big-data/big-data-project\n",
       "reviewsPath: String = /Users/lucatassi/Projects/big-data/big-data-project/dataset/sample-reviews.ndjson\n",
       "metadataPath: String = /Users/lucatassi/Projects/big-data/big-data-project/dataset/metadata.ndjson\n",
       "import org.apache.spark.sql.SparkSession\n",
       "spark: org.apache.spark.sql.SparkSession = org.apache.spark.sql.SparkSession@64bc9df9\n",
       "reviewsDf: org.apache.spark.sql.Dataset[Review] = [user_id: string, name: string ... 6 more fields]\n",
       "metadataDf: org.apache.spark.sql.Dataset[Metadata] = [name: string, address: string ... 13 more fields]\n",
       "reviewsRdd: org.apache.spark.rdd.RDD[(Option[String], Option[String], Long, Option[Double], Option[String], Seq[String], Option[Response], String)] = M...\n"
      ]
     },
     "execution_count": 4,
     "metadata": {},
     "output_type": "execute_result"
    }
   ],
   "source": [
    "import java.nio.file.Paths\n",
    "\n",
    "val projectDir = Paths.get(System.getProperty(\"user.dir\")).getParent.getParent.getParent\n",
    "val reviewsPath = s\"$projectDir/dataset/sample-reviews.ndjson\"\n",
    "val metadataPath = s\"$projectDir/dataset/metadata.ndjson\"\n",
    "\n",
    "import org.apache.spark.sql.SparkSession\n",
    "\n",
    "val spark = SparkSession.builder()\n",
    "  .appName(\"NDJSON Reader\")\n",
    "  .master(\"local[*]\") // Needed in local mode\n",
    "  .getOrCreate()\n",
    "\n",
    "val reviewsDf = spark.read\n",
    "  .schema(reviewSchema)\n",
    "  .json(reviewsPath)\n",
    "  .withColumn(\"pics\", when (col(\"pics\") isNull, array()) otherwise col(\"pics\"))\n",
    "  .as[Review]\n",
    "\n",
    "val metadataDf = spark.read\n",
    "  .schema(metadataSchema)\n",
    "  .json(metadataPath)\n",
    "  .withColumn(\"category\", when (col(\"category\") isNull, array()) otherwise col(\"category\"))\n",
    "  .withColumn(\"hours\", when (col(\"hours\") isNull, array()) otherwise col(\"hours\"))\n",
    "  .withColumn(\"relative_results\", when (col(\"relative_results\") isNull, array()) otherwise col(\"relative_results\"))\n",
    "  .as[Metadata]\n",
    "\n",
    "reviewsDf.printSchema()\n",
    "metadataDf.printSchema()\n",
    "\n",
    "val reviewsRdd = reviewsDf.rdd.map(Review.unapply).map(_.get)\n",
    "val metaRdd = metadataDf.rdd.map(Metadata.unapply).map(_.get)"
   ]
  },
  {
   "cell_type": "markdown",
   "id": "61ff822b-bfd3-42c5-b780-920b24e5834d",
   "metadata": {},
   "source": [
    "## Exploration"
   ]
  },
  {
   "cell_type": "markdown",
   "id": "b771377c-904d-4d24-9a76-b2e0fc690454",
   "metadata": {},
   "source": [
    "---\n",
    "\n",
    "**Metadata**: (name, address, <ins>gmap_id</ins>, description, latitude, longitude, category, avg_rating, num_of_reviews, price, hours, misc, state, relative_results, url)\n",
    "\n",
    "**Review**: (user_id, name, time, rating, text, pics, responses, <ins>gmap_id</ins>)\n",
    "\n",
    "---"
   ]
  },
  {
   "cell_type": "code",
   "execution_count": 5,
   "id": "e522837e-5852-4ba2-a58c-64f1c40daa1b",
   "metadata": {},
   "outputs": [
    {
     "data": {
      "text/plain": [
       "res0: Array[(Option[String], Option[String], Long, Option[Double], Option[String], Seq[String], Option[Response], String)] = Array((Some(113587357589866776535),Some(Hossein),1617400126306,Some(5.0),None,List(),None,0x808fbb350a474eb9:0x20e475f4d549a0b7), (Some(113587357589866776535),Some(Hossein),1573824465526,Some(4.0),None,List(),None,0x808fc76a4f691325:0x530bc2080d135950))\n"
      ]
     },
     "execution_count": 5,
     "metadata": {},
     "output_type": "execute_result"
    }
   ],
   "source": [
    "reviewsRdd\n",
    "  .filter(_._2.contains(\"Hossein\"))\n",
    "  .collect()"
   ]
  },
  {
   "cell_type": "code",
   "execution_count": 6,
   "id": "dc80f212-6fe5-477e-bafb-703347318ea8",
   "metadata": {},
   "outputs": [
    {
     "data": {
      "text/plain": [
       "res1: Array[(Option[String], Option[String], String, Option[String], Double, Double, Seq[String], Double, Int, String, Seq[Seq[String]], Map[String,Seq[String]], Option[String], Seq[String], String)] = Array((Some(Shell),Some(Shell, 395 W First St, Tustin, CA 92780),0x80dcdbd91ac0ff97:0x40cb80cf24283e4d,None,33.7459242,-117.82758,List(Gas station, Alternative fuel station, ATM, Convenience store, Electric vehicle charging station),4.0,34,$$,List(),Map(Accessibility -> List(Wheelchair accessible entrance)),Some(Open now),List(0x80dcdbe3deac39db:0x624e68a174a293b7, 0x80dcd95ef4e83e17:0xb0a6b7bf134626d5, 0x80dcdc214dd2ddc5:0x933178bf1e6f113a, 0x80dd2674301aa6ab:0x7dfb81933c80facb, 0x80dcda2ad3aee46b:0x9de6be25417d4cb),https://www.google.com/maps/place//data=!4m2!3m1!1s0x80dcdbd91ac0ff97:0x...\n"
      ]
     },
     "execution_count": 6,
     "metadata": {},
     "output_type": "execute_result"
    }
   ],
   "source": [
    "metaRdd\n",
    "  .filter(_._3 == \"0x80dcdbd91ac0ff97:0x40cb80cf24283e4d\")\n",
    "  .collect()"
   ]
  },
  {
   "cell_type": "code",
   "execution_count": 7,
   "id": "143b6918-d76d-4408-aaaa-b04638820d6a",
   "metadata": {},
   "outputs": [
    {
     "data": {
      "text/plain": [
       "res2: Long = 9745\n"
      ]
     },
     "execution_count": 7,
     "metadata": {},
     "output_type": "execute_result"
    }
   ],
   "source": [
    "// beware `rating` can be empty!!\n",
    "reviewsRdd.filter(_._4.isEmpty).count()"
   ]
  },
  {
   "cell_type": "code",
   "execution_count": 8,
   "id": "0bd61a70-40a8-4d6d-ba9a-6a6774367924",
   "metadata": {},
   "outputs": [
    {
     "data": {
      "text/plain": [
       "res3: Long = 9745\n"
      ]
     },
     "execution_count": 8,
     "metadata": {},
     "output_type": "execute_result"
    }
   ],
   "source": [
    "// beware `user_id` can be empty!!\n",
    "reviewsRdd.filter(_._1.isEmpty).count()"
   ]
  },
  {
   "cell_type": "markdown",
   "id": "0ef5939d-0898-4c3b-9968-1f0f53019df4",
   "metadata": {},
   "source": [
    "How many distinct businesses? 1.228.804"
   ]
  },
  {
   "cell_type": "code",
   "execution_count": 9,
   "id": "33ffc65a-8a59-4aba-af1c-7b97170ec984",
   "metadata": {},
   "outputs": [
    {
     "data": {
      "text/plain": [
       "res4: Long = 1228804\n"
      ]
     },
     "execution_count": 9,
     "metadata": {},
     "output_type": "execute_result"
    }
   ],
   "source": [
    "metaRdd.map(_._3).distinct().count()"
   ]
  },
  {
   "cell_type": "markdown",
   "id": "95a9f3eb-ab59-4f26-a18b-2b1064b2c32f",
   "metadata": {},
   "source": [
    "How many average ratings per user? [Incomplete data since we are using a sample of the dataset]"
   ]
  },
  {
   "cell_type": "code",
   "execution_count": 10,
   "id": "d0f06063-d933-4a77-bd49-d046e253d2a0",
   "metadata": {},
   "outputs": [
    {
     "data": {
      "text/plain": [
       "avgRatingsPerUser: (Int, Int) = (1696279,1422429)\n",
       "res5: String = Average ratings per user: 1.1925227902412001\n"
      ]
     },
     "execution_count": 10,
     "metadata": {},
     "output_type": "execute_result"
    }
   ],
   "source": [
    "val avgRatingsPerUser = reviewsRdd\n",
    "  .filter(_._1.isDefined) // user_id can be not defined\n",
    "  .map(_._1.get -> 1)\n",
    "  .reduceByKey(_ + _) // [(user_id, #ratings written by user_id)*]\n",
    "  .aggregate((0, 0))((acc, v) => (acc._1 + v._2, acc._2 + 1), (r1, r2) => (r1._1 + r2._1, r1._2 + r2._2))\n",
    "\"Average ratings per user: \" + avgRatingsPerUser._1.toDouble / avgRatingsPerUser._2"
   ]
  },
  {
   "cell_type": "markdown",
   "id": "1e1c64a4-57a8-4cee-8a79-fd3e54d03d36",
   "metadata": {},
   "source": [
    "How many average ratings per business? [Incomplete data since we are using a sample of the dataset]"
   ]
  },
  {
   "cell_type": "code",
   "execution_count": 11,
   "id": "a8ee8b23-89a2-497b-a4c9-85dc974aa13d",
   "metadata": {},
   "outputs": [
    {
     "data": {
      "text/plain": [
       "avgRatingsPerBusiness: (Int, Int) = (1706024,486237)\n",
       "res6: String = Average ratings per business: 3.508626451709763\n"
      ]
     },
     "execution_count": 11,
     "metadata": {},
     "output_type": "execute_result"
    }
   ],
   "source": [
    "val avgRatingsPerBusiness = reviewsRdd\n",
    "  .map(_._8 -> 1)\n",
    "  .reduceByKey(_ + _) // [(gmap_id, #ratings for gmap_id)*]\n",
    "  .aggregate((0, 0))((acc, v) => (acc._1 + v._2, acc._2 + 1), (r1, r2) => (r1._1 + r2._1, r1._2 + r2._2))\n",
    "\"Average ratings per business: \" + avgRatingsPerBusiness._1.toDouble / avgRatingsPerBusiness._2"
   ]
  },
  {
   "cell_type": "markdown",
   "id": "e8a8cbc9-f0ed-43a2-b28a-860c262ca528",
   "metadata": {},
   "source": [
    "Average response rate? [Incomplete data since we are using a sample of the dataset]"
   ]
  },
  {
   "cell_type": "code",
   "execution_count": 15,
   "id": "70d7250c-9877-4516-8d7d-89781b42d0b0",
   "metadata": {},
   "outputs": [
    {
     "data": {
      "text/plain": [
       "avgResponseRate: (Int, Int) = (218759,1706024)\n",
       "res10: String = Average response rate: 12.8227387187988 %\n"
      ]
     },
     "execution_count": 15,
     "metadata": {},
     "output_type": "execute_result"
    }
   ],
   "source": [
    "val avgResponseRate = reviewsRdd\n",
    "  .map(r => r._8 -> (if (r._7.isDefined) 1 else 0))\n",
    "  .aggregate((0, 0))((acc, v) => (acc._1 + v._2, acc._2 + 1), (r1, r2) => (r1._1 + r2._1, r1._2 + r2._2))\n",
    "\"Average response rate: \" + (avgResponseRate._1.toDouble / avgResponseRate._2) * 100 + \" %\""
   ]
  }
 ],
 "metadata": {
  "kernelspec": {
   "display_name": "spylon-kernel",
   "language": "scala",
   "name": "spylon-kernel"
  },
  "language_info": {
   "codemirror_mode": "text/x-scala",
   "file_extension": ".scala",
   "help_links": [
    {
     "text": "MetaKernel Magics",
     "url": "https://metakernel.readthedocs.io/en/latest/source/README.html"
    }
   ],
   "mimetype": "text/x-scala",
   "name": "scala",
   "pygments_lexer": "scala",
   "version": "0.4.1"
  }
 },
 "nbformat": 4,
 "nbformat_minor": 5
}
