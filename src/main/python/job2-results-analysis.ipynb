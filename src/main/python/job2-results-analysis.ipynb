{
 "cells": [
  {
   "cell_type": "markdown",
   "id": "28f09f92",
   "metadata": {},
   "source": [
    "# Job 2 - Results analysis"
   ]
  },
  {
   "cell_type": "code",
   "execution_count": 22,
   "id": "f9994af8",
   "metadata": {},
   "outputs": [],
   "source": [
    "import os\n",
    "import pathlib\n",
    "\n",
    "projectDir = str(pathlib.Path(os.getcwd()).parent.parent.parent)"
   ]
  },
  {
   "cell_type": "code",
   "execution_count": 23,
   "id": "ecbcfcb0",
   "metadata": {},
   "outputs": [],
   "source": [
    "import pandas as pd\n",
    "import matplotlib.pyplot as plt\n",
    "import seaborn as sns\n",
    "import plotly.express as px\n",
    "\n",
    "# Configure matplotlib for better Jupyter compatibility\n",
    "plt.rcParams['figure.dpi'] = 100\n",
    "%config InlineBackend.figure_format = 'retina'\n",
    "\n",
    "CSV_FILE = f\"{projectDir}/full-output/job2-results.csv\"\n",
    "\n",
    "# Load csv data\n",
    "df = pd.read_csv(CSV_FILE)\n",
    "\n",
    "df['year'] = df['year'].astype(int)\n",
    "df['avg_rating'] = df['avg_rating'].astype(float)\n",
    "price_mapping = {\n",
    "    '*': 'Low',\n",
    "    '**': 'Medium',\n",
    "    '***': 'High',\n",
    "    '****': 'Premium',\n",
    "}\n",
    "df['price'] = df['price']#.replace(price_mapping)"
   ]
  },
  {
   "cell_type": "markdown",
   "id": "5c39819e",
   "metadata": {},
   "source": [
    "### 1. HEATMAP: States vs Prices\n"
   ]
  },
  {
   "cell_type": "code",
   "execution_count": 24,
   "id": "c7dba749",
   "metadata": {},
   "outputs": [
    {
     "data": {
      "application/vnd.jupyter.widget-view+json": {
       "model_id": "acf001c3902643ca86446929aebce445",
       "version_major": 2,
       "version_minor": 0
      },
      "text/plain": [
       "Dropdown(description='Category:', options=('ATM', 'ATV dealer', 'ATV repair shop', 'Abrasives supplier', 'Acup…"
      ]
     },
     "metadata": {},
     "output_type": "display_data"
    },
    {
     "data": {
      "application/vnd.jupyter.widget-view+json": {
       "model_id": "c92f2e81b8b342c4af0ec43dd989c083",
       "version_major": 2,
       "version_minor": 0
      },
      "text/plain": [
       "Output()"
      ]
     },
     "metadata": {},
     "output_type": "display_data"
    }
   ],
   "source": [
    "import ipywidgets as widgets\n",
    "from IPython.display import display, clear_output\n",
    "import matplotlib.pyplot as plt\n",
    "\n",
    "# Ensure matplotlib backend is set for Jupyter\n",
    "%matplotlib inline\n",
    "\n",
    "heatmap_dropdown = widgets.Dropdown(\n",
    "    options=df['category'].sort_values().unique().tolist(),\n",
    "    description='Category:'\n",
    ")\n",
    "\n",
    "heatmap_output = widgets.Output()\n",
    "\n",
    "def update_heatmap(category):\n",
    "    with heatmap_output:\n",
    "        clear_output(wait=True)\n",
    "        plt.figure(figsize=(10, 6))\n",
    "        cat_df = df[df['category'] == category]\n",
    "        heatmap_data = cat_df.groupby(['state', 'price'])['avg_rating'].mean().unstack()\n",
    "        sns.heatmap(heatmap_data, annot=True, cmap='YlGnBu', fmt=\".2f\")\n",
    "        plt.title(f'Media of the reviews by state and price range of the category {category}')\n",
    "        plt.xlabel('Price')\n",
    "        plt.ylabel('State')\n",
    "        plt.tight_layout()\n",
    "        plt.show()\n",
    "\n",
    "heatmap_dropdown.observe(lambda change: update_heatmap(change['new']), names='value')\n",
    "\n",
    "# Display the widget and output\n",
    "display(heatmap_dropdown)\n",
    "display(heatmap_output)\n",
    "\n",
    "# Initialize with first value\n",
    "update_heatmap(heatmap_dropdown.value)"
   ]
  },
  {
   "cell_type": "markdown",
   "id": "97976eb7",
   "metadata": {},
   "source": [
    "### 2. Temporal trend of categories"
   ]
  },
  {
   "cell_type": "code",
   "execution_count": 25,
   "id": "f6656ff0",
   "metadata": {},
   "outputs": [
    {
     "data": {
      "application/vnd.jupyter.widget-view+json": {
       "model_id": "6ec718011c6c45979f43cfa9a0b469fe",
       "version_major": 2,
       "version_minor": 0
      },
      "text/plain": [
       "SelectMultiple(description='Categories:', index=(0,), options=('ATM', 'ATV dealer', 'ATV repair shop', 'Abrasi…"
      ]
     },
     "metadata": {},
     "output_type": "display_data"
    },
    {
     "data": {
      "application/vnd.jupyter.widget-view+json": {
       "model_id": "05823e8a9e6e4d16b99dbdd18aad1bda",
       "version_major": 2,
       "version_minor": 0
      },
      "text/plain": [
       "Output()"
      ]
     },
     "metadata": {},
     "output_type": "display_data"
    }
   ],
   "source": [
    "from IPython.display import display, clear_output\n",
    "\n",
    "categories = sorted(df['category'].unique())\n",
    "\n",
    "multi_select = widgets.SelectMultiple(\n",
    "    options=categories,\n",
    "    value=[categories[0]],  # initial selected value\n",
    "    description='Categories:',\n",
    "    rows=10,\n",
    "    disabled=False\n",
    ")\n",
    "\n",
    "output = widgets.Output()\n",
    "\n",
    "def plot_categories(change):\n",
    "    with output:\n",
    "        clear_output(wait=True)\n",
    "        selected = list(change['new'])\n",
    "        if not selected:\n",
    "            print(\"Please select at least one category\")\n",
    "            return\n",
    "        \n",
    "        plt.figure(figsize=(12, 6))\n",
    "        filtered_df = df[df['category'].isin(selected)]\n",
    "        sns.lineplot(data=filtered_df, x='year', y='avg_rating', hue='category', marker='o')\n",
    "        plt.title(f'Temporal trend of the average assessments for selected categories')\n",
    "        plt.ylabel('Average Rating')\n",
    "        plt.xlabel('Year')\n",
    "        plt.xticks(rotation=45)\n",
    "        plt.legend(title='Category', loc='lower left')\n",
    "        plt.grid(True, alpha=0.3)\n",
    "        plt.tight_layout()\n",
    "        plt.show()\n",
    "\n",
    "multi_select.observe(plot_categories, names='value')\n",
    "\n",
    "# Display widgets\n",
    "display(multi_select)\n",
    "display(output)\n",
    "\n",
    "# Initialize with first value\n",
    "plot_categories({'new': multi_select.value})"
   ]
  },
  {
   "cell_type": "markdown",
   "id": "6f344d48",
   "metadata": {},
   "source": [
    "### 3. CHOROPLETH MAP: Average Rating by State\n",
    "Shows in which state of the USA the selected business category has the highest average reviews."
   ]
  },
  {
   "cell_type": "code",
   "execution_count": 26,
   "id": "e6adedf1",
   "metadata": {},
   "outputs": [
    {
     "data": {
      "application/vnd.jupyter.widget-view+json": {
       "model_id": "a27fbe8867cb405cb8ebdf3399fc2b8f",
       "version_major": 2,
       "version_minor": 0
      },
      "text/plain": [
       "Dropdown(description='Category:', options=('ATM', 'ATV dealer', 'ATV repair shop', 'Abrasives supplier', 'Acup…"
      ]
     },
     "metadata": {},
     "output_type": "display_data"
    },
    {
     "data": {
      "application/vnd.jupyter.widget-view+json": {
       "model_id": "e7ca0685bf0840b98fd09afa89cc94a6",
       "version_major": 2,
       "version_minor": 0
      },
      "text/plain": [
       "Output()"
      ]
     },
     "metadata": {},
     "output_type": "display_data"
    }
   ],
   "source": [
    "import ipywidgets as widgets\n",
    "from IPython.display import display, clear_output\n",
    "\n",
    "chmap_dropdown = widgets.Dropdown(\n",
    "    options=df['category'].sort_values().unique().tolist(),\n",
    "    description='Category:'\n",
    ")\n",
    "\n",
    "chmap_output = widgets.Output()\n",
    "\n",
    "def update_choroplethmap(category):\n",
    "    with chmap_output:\n",
    "        clear_output(wait=True)\n",
    "        cat_df = df[df['category'] == category]\n",
    "        state_avg = cat_df.groupby(['state'], as_index=False)['avg_rating'].mean()\n",
    "        fig = px.choropleth(\n",
    "            state_avg,\n",
    "            locations='state',\n",
    "            locationmode='USA-states',\n",
    "            color='avg_rating',\n",
    "            color_continuous_scale='RdYlGn',\n",
    "            scope='usa',\n",
    "            title=f'Average evaluation by state for {category}'\n",
    "        )\n",
    "        fig.show()\n",
    "\n",
    "chmap_dropdown.observe(lambda change: update_choroplethmap(change['new']), names='value')\n",
    "\n",
    "# Display widgets\n",
    "display(chmap_dropdown)\n",
    "display(chmap_output)\n",
    "\n",
    "# Initialize with first value\n",
    "update_choroplethmap(chmap_dropdown.value)"
   ]
  },
  {
   "cell_type": "code",
   "execution_count": null,
   "id": "2f83c8bb-a5c0-4098-8fdd-fb6d5accff76",
   "metadata": {},
   "outputs": [],
   "source": []
  }
 ],
 "metadata": {
  "kernelspec": {
   "display_name": "Python 3 (ipykernel)",
   "language": "python",
   "name": "python3"
  },
  "language_info": {
   "codemirror_mode": {
    "name": "ipython",
    "version": 3
   },
   "file_extension": ".py",
   "mimetype": "text/x-python",
   "name": "python",
   "nbconvert_exporter": "python",
   "pygments_lexer": "ipython3",
   "version": "3.11.9"
  }
 },
 "nbformat": 4,
 "nbformat_minor": 5
}
