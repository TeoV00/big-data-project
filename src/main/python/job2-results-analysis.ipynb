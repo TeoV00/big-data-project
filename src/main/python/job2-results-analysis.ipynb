{
 "cells": [
  {
   "cell_type": "markdown",
   "id": "28f09f92",
   "metadata": {},
   "source": [
    "# Job 2 - Results analysis"
   ]
  },
  {
   "cell_type": "code",
   "execution_count": 2,
   "id": "f9994af8",
   "metadata": {},
   "outputs": [
    {
     "name": "stdout",
     "output_type": "stream",
     "text": [
      "/Users/teo/Universita/Magistrale/BIG_DATA/bd-project25/output/job2-output/part-00000-e416f88f-3de2-4fe4-a9b4-8f375896fea6-c000.csv\n"
     ]
    }
   ],
   "source": [
    "%%python\n",
    "import os\n",
    "import re\n",
    "import pathlib\n",
    "\n",
    "projectDir = str(pathlib.Path(os.getcwd()).parent.parent.parent)\n",
    "\n",
    "outputDirPath = f\"{projectDir}/output\"\n",
    "outputPath = f\"{outputDirPath}/job2-output\"\n",
    "fileNameRegex = re.compile(r\"part-\\d{5}.*\\.csv\")\n",
    "\n",
    "fileName = next(\n",
    "  (f for f in os.listdir(outputPath) if fileNameRegex.match(f)),\n",
    "  None\n",
    ")\n",
    "outputFilePath = f\"{outputPath}/{fileName}\"\n",
    "print(outputFilePath)"
   ]
  },
  {
   "cell_type": "code",
   "execution_count": 3,
   "id": "ecbcfcb0",
   "metadata": {},
   "outputs": [
    {
     "name": "stdout",
     "output_type": "stream",
     "text": [
      "0           Low\n",
      "1           Low\n",
      "2        Medium\n",
      "3           Low\n",
      "4        Medium\n",
      "          ...  \n",
      "29430    Medium\n",
      "29431       Low\n",
      "29432       Low\n",
      "29433    Medium\n",
      "29434    Medium\n",
      "Name: price, Length: 29435, dtype: object\n"
     ]
    },
    {
     "data": {
      "text/plain": [
       "{'application/vnd.plotly.v1+json': {'data': [{'coloraxis': 'coloraxis', 'geo': 'geo', 'hovertemplate': 'state=%{location}<br>avg_rating=%{z}<extra></extra>', 'locationmode': 'USA-states', 'locations': ['AL', 'MS', 'NH', 'NM', 'Unknown', 'WA'], 'name': '', 'z': {'dtype': 'f8', 'bdata': 'QLqVGqPBEEA4UNjTz5EQQMuAF40kkxBABSyrFCFxEEDzXhPkAKoQQKlTWmBSwRBA'}, 'type': 'choropleth'}], 'layout': {'template': {'data': {'histogram2dcontour': [{'type': 'histogram2dcontour', 'colorbar': {'outlinewidth': 0, 'ticks': ''}, 'colorscale': [[0.0, '#0d0887'], [0.1111111111111111, '#46039f'], [0.2222222222222222, '#7201a8'], [0.3333333333333333, '#9c179e'], [0.4444444444444444, '#bd3786'], [0.5555555555555556, '#d8576b'], [0.6666666666666666, '#ed7953'], [0.7777777777777778, '#fb9f3a'], [0.8888888888888888, '#fdca26'], [1.0, '#f0f921']]}], 'choropleth': [{'type': 'choropleth', 'colorbar': {'outlinewidth': 0, 'ticks': ''}}], 'histogram2d': [{'type': 'histogram2d', 'colorbar': {'outlinewidth': 0, 'ticks': ''}, 'colorscale': [[0.0, '#0d0887'], [0.1111111111111111, '#46039f'], [0.2222222222222222, '#7201a8'], [0.3333333333333333, '#9c179e'], [0.4444444444444444, '#bd3786'], [0.5555555555555556, '#d8576b'], [0.6666666666666666, '#ed7953'], [0.7777777777777778, '#fb9f3a'], [0.8888888888888888, '#fdca26'], [1.0, '#f0f921']]}], 'heatmap': [{'type': 'heatmap', 'colorbar': {'outlinewidth': 0, 'ticks': ''}, 'colorscale': [[0.0, '#0d0887'], [0.1111111111111111, '#46039f'], [0.2222222222222222, '#7201a8'], [0.3333333333333333, '#9c179e'], [0.4444444444444444, '#bd3786'], [0.5555555555555556, '#d8576b'], [0.6666666666666666, '#ed7953'], [0.7777777777777778, '#fb9f3a'], [0.8888888888888888, '#fdca26'], [1.0, '#f0f921']]}], 'contourcarpet': [{'type': 'contourcarpet', 'colorbar': {'outlinewidth': 0, 'ticks': ''}}], 'contour': [{'type': 'contour', 'colorbar': {'outlinewidth': 0, 'ticks': ''}, 'colorscale': [[0.0, '#0d0887'], [0.1111111111111111, '#46039f'], [0.2222222222222222, '#7201a8'], [0.3333333333333333, '#9c179e'], [0.4444444444444444, '#bd3786'], [0.5555555555555556, '#d8576b'], [0.6666666666666666, '#ed7953'], [0.7777777777777778, '#fb9f3a'], [0.8888888888888888, '#fdca26'], [1.0, '#f0f921']]}], 'surface': [{'type': 'surface', 'colorbar': {'outlinewidth': 0, 'ticks': ''}, 'colorscale': [[0.0, '#0d0887'], [0.1111111111111111, '#46039f'], [0.2222222222222222, '#7201a8'], [0.3333333333333333, '#9c179e'], [0.4444444444444444, '#bd3786'], [0.5555555555555556, '#d8576b'], [0.6666666666666666, '#ed7953'], [0.7777777777777778, '#fb9f3a'], [0.8888888888888888, '#fdca26'], [1.0, '#f0f921']]}], 'mesh3d': [{'type': 'mesh3d', 'colorbar': {'outlinewidth': 0, 'ticks': ''}}], 'scatter': [{'fillpattern': {'fillmode': 'overlay', 'size': 10, 'solidity': 0.2}, 'type': 'scatter'}], 'parcoords': [{'type': 'parcoords', 'line': {'colorbar': {'outlinewidth': 0, 'ticks': ''}}}], 'scatterpolargl': [{'type': 'scatterpolargl', 'marker': {'colorbar': {'outlinewidth': 0, 'ticks': ''}}}], 'bar': [{'error_x': {'color': '#2a3f5f'}, 'error_y': {'color': '#2a3f5f'}, 'marker': {'line': {'color': '#E5ECF6', 'width': 0.5}, 'pattern': {'fillmode': 'overlay', 'size': 10, 'solidity': 0.2}}, 'type': 'bar'}], 'scattergeo': [{'type': 'scattergeo', 'marker': {'colorbar': {'outlinewidth': 0, 'ticks': ''}}}], 'scatterpolar': [{'type': 'scatterpolar', 'marker': {'colorbar': {'outlinewidth': 0, 'ticks': ''}}}], 'histogram': [{'marker': {'pattern': {'fillmode': 'overlay', 'size': 10, 'solidity': 0.2}}, 'type': 'histogram'}], 'scattergl': [{'type': 'scattergl', 'marker': {'colorbar': {'outlinewidth': 0, 'ticks': ''}}}], 'scatter3d': [{'type': 'scatter3d', 'line': {'colorbar': {'outlinewidth': 0, 'ticks': ''}}, 'marker': {'colorbar': {'outlinewidth': 0, 'ticks': ''}}}], 'scattermap': [{'type': 'scattermap', 'marker': {'colorbar': {'outlinewidth': 0, 'ticks': ''}}}], 'scattermapbox': [{'type': 'scattermapbox', 'marker': {'colorbar': {'outlinewidth': 0, 'ticks': ''}}}], 'scatterternary': [{'type': 'scatterternary', 'marker': {'colorbar': {'outlinewidth': 0, 'ticks': ''}}}], 'scattercarpet': [{'type': 'scattercarpet', 'marker': {'colorbar': {'outlinewidth': 0, 'ticks': ''}}}], 'carpet': [{'aaxis': {'endlinecolor': '#2a3f5f', 'gridcolor': 'white', 'linecolor': 'white', 'minorgridcolor': 'white', 'startlinecolor': '#2a3f5f'}, 'baxis': {'endlinecolor': '#2a3f5f', 'gridcolor': 'white', 'linecolor': 'white', 'minorgridcolor': 'white', 'startlinecolor': '#2a3f5f'}, 'type': 'carpet'}], 'table': [{'cells': {'fill': {'color': '#EBF0F8'}, 'line': {'color': 'white'}}, 'header': {'fill': {'color': '#C8D4E3'}, 'line': {'color': 'white'}}, 'type': 'table'}], 'barpolar': [{'marker': {'line': {'color': '#E5ECF6', 'width': 0.5}, 'pattern': {'fillmode': 'overlay', 'size': 10, 'solidity': 0.2}}, 'type': 'barpolar'}], 'pie': [{'automargin': True, 'type': 'pie'}]}, 'layout': {'autotypenumbers': 'strict', 'colorway': ['#636efa', '#EF553B', '#00cc96', '#ab63fa', '#FFA15A', '#19d3f3', '#FF6692', '#B6E880', '#FF97FF', '#FECB52'], 'font': {'color': '#2a3f5f'}, 'hovermode': 'closest', 'hoverlabel': {'align': 'left'}, 'paper_bgcolor': 'white', 'plot_bgcolor': '#E5ECF6', 'polar': {'bgcolor': '#E5ECF6', 'angularaxis': {'gridcolor': 'white', 'linecolor': 'white', 'ticks': ''}, 'radialaxis': {'gridcolor': 'white', 'linecolor': 'white', 'ticks': ''}}, 'ternary': {'bgcolor': '#E5ECF6', 'aaxis': {'gridcolor': 'white', 'linecolor': 'white', 'ticks': ''}, 'baxis': {'gridcolor': 'white', 'linecolor': 'white', 'ticks': ''}, 'caxis': {'gridcolor': 'white', 'linecolor': 'white', 'ticks': ''}}, 'coloraxis': {'colorbar': {'outlinewidth': 0, 'ticks': ''}}, 'colorscale': {'sequential': [[0.0, '#0d0887'], [0.1111111111111111, '#46039f'], [0.2222222222222222, '#7201a8'], [0.3333333333333333, '#9c179e'], [0.4444444444444444, '#bd3786'], [0.5555555555555556, '#d8576b'], [0.6666666666666666, '#ed7953'], [0.7777777777777778, '#fb9f3a'], [0.8888888888888888, '#fdca26'], [1.0, '#f0f921']], 'sequentialminus': [[0.0, '#0d0887'], [0.1111111111111111, '#46039f'], [0.2222222222222222, '#7201a8'], [0.3333333333333333, '#9c179e'], [0.4444444444444444, '#bd3786'], [0.5555555555555556, '#d8576b'], [0.6666666666666666, '#ed7953'], [0.7777777777777778, '#fb9f3a'], [0.8888888888888888, '#fdca26'], [1.0, '#f0f921']], 'diverging': [[0, '#8e0152'], [0.1, '#c51b7d'], [0.2, '#de77ae'], [0.3, '#f1b6da'], [0.4, '#fde0ef'], [0.5, '#f7f7f7'], [0.6, '#e6f5d0'], [0.7, '#b8e186'], [0.8, '#7fbc41'], [0.9, '#4d9221'], [1, '#276419']]}, 'xaxis': {'gridcolor': 'white', 'linecolor': 'white', 'ticks': '', 'title': {'standoff': 15}, 'zerolinecolor': 'white', 'automargin': True, 'zerolinewidth': 2}, 'yaxis': {'gridcolor': 'white', 'linecolor': 'white', 'ticks': '', 'title': {'standoff': 15}, 'zerolinecolor': 'white', 'automargin': True, 'zerolinewidth': 2}, 'scene': {'xaxis': {'backgroundcolor': '#E5ECF6', 'gridcolor': 'white', 'linecolor': 'white', 'showbackground': True, 'ticks': '', 'zerolinecolor': 'white', 'gridwidth': 2}, 'yaxis': {'backgroundcolor': '#E5ECF6', 'gridcolor': 'white', 'linecolor': 'white', 'showbackground': True, 'ticks': '', 'zerolinecolor': 'white', 'gridwidth': 2}, 'zaxis': {'backgroundcolor': '#E5ECF6', 'gridcolor': 'white', 'linecolor': 'white', 'showbackground': True, 'ticks': '', 'zerolinecolor': 'white', 'gridwidth': 2}}, 'shapedefaults': {'line': {'color': '#2a3f5f'}}, 'annotationdefaults': {'arrowcolor': '#2a3f5f', 'arrowhead': 0, 'arrowwidth': 1}, 'geo': {'bgcolor': 'white', 'landcolor': '#E5ECF6', 'subunitcolor': 'white', 'showland': True, 'showlakes': True, 'lakecolor': 'white'}, 'title': {'x': 0.05}, 'mapbox': {'style': 'light'}}}, 'geo': {'domain': {'x': [0.0, 1.0], 'y': [0.0, 1.0]}, 'center': {}, 'scope': 'usa'}, 'coloraxis': {'colorbar': {'title': {'text': 'avg_rating'}}, 'colorscale': [[0.0, '#440154'], [0.1111111111111111, '#482878'], [0.2222222222222222, '#3e4989'], [0.3333333333333333, '#31688e'], [0.4444444444444444, '#26828e'], [0.5555555555555556, '#1f9e89'], [0.6666666666666666, '#35b779'], [0.7777777777777778, '#6ece58'], [0.8888888888888888, '#b5de2b'], [1.0, '#fde725']]}, 'legend': {'tracegroupgap': 0}, 'title': {'text': 'Valutazione media per Stato'}}, 'config': {'plotlyServerURL': 'https://plot.ly'}}}"
      ]
     },
     "metadata": {},
     "output_type": "display_data"
    },
    {
     "name": "stdout",
     "output_type": "stream",
     "text": [
      "Grafici generati e salvati:\n",
      "- grafico_heatmap.png\n",
      "- grafico_linechart_temporale.png\n",
      "- grafico_boxplot_prezzo.png\n",
      "- grafico_mappa_stati.html\n"
     ]
    }
   ],
   "source": [
    "%%python\n",
    "\n",
    "import pandas as pd\n",
    "import matplotlib.pyplot as plt\n",
    "import seaborn as sns\n",
    "import plotly.express as px\n",
    "\n",
    "# === CONFIG ===\n",
    "CSV_FILE = outputFilePath  # Cambia se il tuo file ha un altro nome\n",
    "PRICE_ORDER = ['*', '**', '***','****']  # Ordine logico delle fasce di prezzo\n",
    "\n",
    "# === CARICAMENTO DATI ===\n",
    "df = pd.read_csv(CSV_FILE)\n",
    "\n",
    "# Assicura che le colonne siano nei tipi corretti\n",
    "df['year'] = df['year'].astype(int)\n",
    "df['avg_rating'] = df['avg_rating'].astype(float)\n",
    "price_mapping = {\n",
    "    '*': 'Low',\n",
    "    '**': 'Medium',\n",
    "    '***': 'High',\n",
    "    '****': 'Premium',\n",
    "}\n",
    "df['price'] = df['price'].replace(price_mapping)\n",
    "print(df['price'])\n",
    "\n",
    "\n",
    "# === GRAFICO 1: HEATMAP Stato vs Prezzo ===\n",
    "plt.figure(figsize=(10, 6))\n",
    "heatmap_data = df.groupby(['state', df['price']])['avg_rating'].mean().unstack()\n",
    "sns.heatmap(heatmap_data, annot=True, cmap='YlGnBu', fmt=\".2f\")\n",
    "plt.title('📊 Media delle valutazioni per Stato e Fascia di Prezzo')\n",
    "plt.xlabel('Fascia di Prezzo')\n",
    "plt.ylabel('Stato')\n",
    "plt.tight_layout()\n",
    "plt.savefig('grafico_heatmap.png')\n",
    "plt.show()\n",
    "\n",
    "# === GRAFICO 2: Andamento temporale ===\n",
    "plt.figure(figsize=(10, 6))\n",
    "sns.lineplot(data=df, x='year', y='avg_rating', estimator='mean', ci=None)\n",
    "plt.title('📈 Andamento temporale delle valutazioni medie')\n",
    "plt.ylabel('Valutazione Media')\n",
    "plt.xlabel('Anno')\n",
    "plt.xticks(rotation=45)\n",
    "plt.tight_layout()\n",
    "plt.savefig('grafico_linechart_temporale.png')\n",
    "plt.show()\n",
    "\n",
    "# === GRAFICO 3: Boxplot per fascia di prezzo ===\n",
    "plt.figure(figsize=(8, 6))\n",
    "sns.boxplot(data=df, x='price', y='avg_rating')\n",
    "plt.title('Distribuzione delle valutazioni per Fascia di Prezzo')\n",
    "plt.xlabel('Fascia di Prezzo')\n",
    "plt.ylabel('Valutazione Media')\n",
    "plt.tight_layout()\n",
    "plt.savefig('grafico_boxplot_prezzo.png')\n",
    "plt.show()\n",
    "\n",
    "# === GRAFICO 4: Mappa coropletica per stato ===\n",
    "state_avg = df.groupby('state', as_index=False)['avg_rating'].mean()\n",
    "fig = px.choropleth(\n",
    "    state_avg,\n",
    "    locations='state',\n",
    "    locationmode='USA-states',\n",
    "    color='avg_rating',\n",
    "    color_continuous_scale='Viridis',\n",
    "    scope='usa',\n",
    "    title='Valutazione media per Stato'\n",
    ")\n",
    "fig.write_html('grafico_mappa_stati.html')\n",
    "fig.show()\n",
    "\n",
    "print(\"Grafici generati e salvati:\")\n",
    "print(\"- grafico_heatmap.png\")\n",
    "print(\"- grafico_linechart_temporale.png\")\n",
    "print(\"- grafico_boxplot_prezzo.png\")\n",
    "print(\"- grafico_mappa_stati.html\")\n"
   ]
  },
  {
   "cell_type": "markdown",
   "id": "6137ec7f",
   "metadata": {},
   "source": []
  }
 ],
 "metadata": {
  "kernelspec": {
   "display_name": "spylon-kernel",
   "language": "scala",
   "name": "spylon-kernel"
  },
  "language_info": {
   "codemirror_mode": "text/x-scala",
   "file_extension": ".scala",
   "help_links": [
    {
     "text": "MetaKernel Magics",
     "url": "https://metakernel.readthedocs.io/en/latest/source/README.html"
    }
   ],
   "mimetype": "text/x-scala",
   "name": "scala",
   "pygments_lexer": "scala",
   "version": "0.4.1"
  }
 },
 "nbformat": 4,
 "nbformat_minor": 5
}
