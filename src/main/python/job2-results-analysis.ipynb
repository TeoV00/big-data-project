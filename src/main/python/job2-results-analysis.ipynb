{
 "cells": [
  {
   "cell_type": "markdown",
   "id": "28f09f92",
   "metadata": {},
   "source": [
    "# Job 2 - Results analysis"
   ]
  },
  {
   "cell_type": "code",
   "execution_count": null,
   "id": "f9994af8",
   "metadata": {},
   "outputs": [],
   "source": [
    "import os\n",
    "import re\n",
    "import pathlib\n",
    "\n",
    "projectDir = str(pathlib.Path(os.getcwd()).parent.parent.parent)\n",
    "\n",
    "outputDirPath = f\"{projectDir}/output\"\n",
    "outputPath = f\"{outputDirPath}/job2-output\"\n",
    "fileNameRegex = re.compile(r\"part-\\d{5}.*\\.csv\")\n",
    "\n",
    "fileName = next(\n",
    "  (f for f in os.listdir(outputPath) if fileNameRegex.match(f)),\n",
    "  None\n",
    ")\n",
    "outputFilePath = f\"{outputPath}/{fileName}\"\n",
    "print(outputFilePath)"
   ]
  },
  {
   "cell_type": "code",
   "execution_count": null,
   "id": "ecbcfcb0",
   "metadata": {},
   "outputs": [],
   "source": [
    "import pandas as pd\n",
    "import matplotlib.pyplot as plt\n",
    "import seaborn as sns\n",
    "import plotly.express as px\n",
    "\n",
    "FILE_VER = \"optimized\" # \"basic\"\n",
    "CSV_FILE = f\"{projectDir}/full-output/job2-{FILE_VER}-results.csv\"\n",
    "\n",
    "# Load csv data\n",
    "df = pd.read_csv(CSV_FILE)\n",
    "\n",
    "df['year'] = df['year'].astype(int)\n",
    "df['avg_rating'] = df['avg_rating'].astype(float)\n",
    "price_mapping = {\n",
    "    '*': 'Low',\n",
    "    '**': 'Medium',\n",
    "    '***': 'High',\n",
    "    '****': 'Premium',\n",
    "}\n",
    "df['price'] = df['price']#.replace(price_mapping)"
   ]
  },
  {
   "cell_type": "markdown",
   "id": "5c39819e",
   "metadata": {},
   "source": [
    "### 1. HEATMAP: States vs Prices\n"
   ]
  },
  {
   "cell_type": "code",
   "execution_count": null,
   "id": "c7dba749",
   "metadata": {},
   "outputs": [],
   "source": [
    "import ipywidgets as widgets\n",
    "from IPython.display import display, clear_output\n",
    "\n",
    "dropdown = widgets.Dropdown(\n",
    "    options=df['category'].sort_values().unique().tolist(),\n",
    "    description='Category:'\n",
    ")\n",
    "\n",
    "def update_heatmap(category):\n",
    "  clear_output(wait=True)\n",
    "  display(dropdown)\n",
    "  plt.figure(figsize=(10, 6))\n",
    "  cat_df = df[df['category'] == category]\n",
    "  heatmap_data = cat_df.groupby(['state', 'price'])['avg_rating'].mean().unstack()\n",
    "  sns.heatmap(heatmap_data, annot=True, cmap='YlGnBu', fmt=\".2f\")\n",
    "  plt.title(f'Media of the reviews by state and price range of the category {category}')\n",
    "  plt.xlabel('Price')\n",
    "  plt.ylabel('State')\n",
    "  plt.tight_layout()\n",
    "  plt.show()\n",
    "\n",
    "dropdown.observe(lambda change: update_heatmap(change['new']), names='value')\n",
    "update_heatmap(dropdown.value)"
   ]
  },
  {
   "cell_type": "markdown",
   "id": "97976eb7",
   "metadata": {},
   "source": [
    "### 2. Temporal trend of categories"
   ]
  },
  {
   "cell_type": "code",
   "execution_count": 82,
   "id": "f6656ff0",
   "metadata": {},
   "outputs": [
    {
     "data": {
      "application/vnd.jupyter.widget-view+json": {
       "model_id": "961e807856f7454bb98e11adfa39bca6",
       "version_major": 2,
       "version_minor": 0
      },
      "text/plain": [
       "SelectMultiple(description='Categorie', index=(0,), options=('ATM', 'ATV dealer', 'ATV repair shop', 'Abrasive…"
      ]
     },
     "metadata": {},
     "output_type": "display_data"
    },
    {
     "data": {
      "application/vnd.jupyter.widget-view+json": {
       "model_id": "4c12c874f9604f78b83cdcf0ad8fc0f3",
       "version_major": 2,
       "version_minor": 0
      },
      "text/plain": [
       "Output()"
      ]
     },
     "metadata": {},
     "output_type": "display_data"
    }
   ],
   "source": [
    "\n",
    "from IPython.display import display, clear_output\n",
    "\n",
    "categories = sorted(df['category'].unique())\n",
    "\n",
    "multi_select = widgets.SelectMultiple(\n",
    "    options=categories,\n",
    "    value=[categories[0]],  # valore iniziale selezionato\n",
    "    description='Categorie',\n",
    "    rows=10,\n",
    "    disabled=False\n",
    ")\n",
    "\n",
    "output = widgets.Output()\n",
    "\n",
    "def plot_categories(change):\n",
    "    with output:\n",
    "        clear_output(wait=True)\n",
    "        selected = list(change['new'])\n",
    "        if not selected:\n",
    "            return\n",
    "        \n",
    "        plt.figure(figsize=(12, 6))\n",
    "        sns.lineplot(data=df[df['category'].isin(selected)], x='year', y='avg_rating', hue='category')\n",
    "        plt.title(f'Temporal trend of the average assessments for selected categories')\n",
    "        plt.ylabel('Average Rating')\n",
    "        plt.xlabel('Year')\n",
    "        plt.xticks(rotation=45)\n",
    "        plt.legend(title='Category', loc='lower left')\n",
    "        plt.tight_layout()\n",
    "        plt.show()\n",
    "\n",
    "multi_select.observe(plot_categories, names='value')\n",
    "\n",
    "display(multi_select)\n",
    "plot_categories({'new': multi_select.value})\n",
    "display(output)\n"
   ]
  },
  {
   "cell_type": "markdown",
   "id": "6f344d48",
   "metadata": {},
   "source": [
    "### 3. CHOROPLETH MAP: Average Rating by State\n",
    "Shows in which state of the USA the selected business category has the highest average reviews."
   ]
  },
  {
   "cell_type": "code",
   "execution_count": null,
   "id": "e6adedf1",
   "metadata": {},
   "outputs": [],
   "source": [
    "import ipywidgets as widgets\n",
    "from IPython.display import display, clear_output\n",
    "\n",
    "dropdown = widgets.Dropdown(\n",
    "    options=df['category'].sort_values().unique().tolist(),\n",
    "    description='Category:'\n",
    ")\n",
    "\n",
    "def update_heatmap(category):\n",
    "    clear_output(wait=True)\n",
    "    display(dropdown)\n",
    "    cat_df = df[df['category'] == category]\n",
    "    state_avg = cat_df.groupby(['state'], as_index=False)['avg_rating'].mean()\n",
    "    fig = px.choropleth(\n",
    "        state_avg,\n",
    "        locations='state',\n",
    "        locationmode='USA-states',\n",
    "        color='avg_rating',\n",
    "        color_continuous_scale='RdYlGn',\n",
    "        scope='usa',\n",
    "        title='Average evaluation by state'\n",
    "    )\n",
    "    fig.show()\n",
    "\n",
    "dropdown.observe(lambda change: update_heatmap(change['new']), names='value')\n",
    "update_heatmap(dropdown.value)"
   ]
  },
  {
   "cell_type": "markdown",
   "id": "6137ec7f",
   "metadata": {},
   "source": []
  }
 ],
 "metadata": {
  "kernelspec": {
   "display_name": "Python (My Project)",
   "language": "python",
   "name": "my-custom-kernel"
  },
  "language_info": {
   "codemirror_mode": {
    "name": "ipython",
    "version": 3
   },
   "file_extension": ".py",
   "mimetype": "text/x-python",
   "name": "python",
   "nbconvert_exporter": "python",
   "pygments_lexer": "ipython3",
   "version": "3.9.23"
  }
 },
 "nbformat": 4,
 "nbformat_minor": 5
}
