{
 "cells": [
  {
   "cell_type": "markdown",
   "id": "6bb04350",
   "metadata": {},
   "source": [
    "# Job 1"
   ]
  },
  {
   "cell_type": "code",
   "execution_count": 1,
   "id": "07f8f02c",
   "metadata": {},
   "outputs": [
    {
     "data": {
      "text/plain": [
       "Intitializing Scala interpreter ..."
      ]
     },
     "metadata": {},
     "output_type": "display_data"
    },
    {
     "data": {
      "text/plain": [
       "Spark Web UI available at http://192.168.1.195:4040\n",
       "SparkContext available as 'sc' (version = 3.5.1, master = local[*], app id = local-1757948657946)\n",
       "SparkSession available as 'spark'\n"
      ]
     },
     "metadata": {},
     "output_type": "display_data"
    },
    {
     "data": {
      "text/plain": [
       "import org.apache.spark\n"
      ]
     },
     "execution_count": 1,
     "metadata": {},
     "output_type": "execute_result"
    }
   ],
   "source": [
    "import org.apache.spark"
   ]
  },
  {
   "cell_type": "markdown",
   "id": "809f3475",
   "metadata": {},
   "source": [
    "### Schema definitions"
   ]
  },
  {
   "cell_type": "code",
   "execution_count": 2,
   "id": "0f1971a4",
   "metadata": {},
   "outputs": [
    {
     "data": {
      "text/plain": [
       "import org.apache.spark.sql.types._\n",
       "import java.sql.Timestamp\n",
       "reviewSchema: org.apache.spark.sql.types.StructType = StructType(StructField(user_id,StringType,true),StructField(name,StringType,true),StructField(time,LongType,false),StructField(rating,DoubleType,true),StructField(text,StringType,true),StructField(pics,ArrayType(StringType,true),true),StructField(resp,StructType(StructField(time,LongType,false),StructField(text,StringType,true)),true),StructField(gmap_id,StringType,false))\n",
       "defined class Response\n",
       "defined class Review\n"
      ]
     },
     "execution_count": 2,
     "metadata": {},
     "output_type": "execute_result"
    }
   ],
   "source": [
    "import org.apache.spark.sql.types._\n",
    "import java.sql.Timestamp\n",
    "\n",
    "val reviewSchema = StructType(\n",
    "  Seq(\n",
    "    StructField(\"user_id\",  StringType,            nullable = true),\n",
    "    StructField(\"name\",     StringType,            nullable = true),\n",
    "    StructField(\"time\",     LongType,              nullable = false),\n",
    "    StructField(\"rating\",   DoubleType,            nullable = true),\n",
    "    StructField(\"text\",     StringType,            nullable = true),\n",
    "    StructField(\"pics\",     ArrayType(StringType), nullable = true),\n",
    "    StructField(\"resp\",     StructType(\n",
    "      Seq(\n",
    "        StructField(\"time\", LongType,              nullable = false),\n",
    "        StructField(\"text\", StringType,            nullable = true)\n",
    "      )\n",
    "    ),                                             nullable = true),\n",
    "    StructField(\"gmap_id\",  StringType,            nullable = false),\n",
    "  )\n",
    ")\n",
    "\n",
    "case class Response(time: Timestamp, text: Option[String])\n",
    "\n",
    "case class Review(\n",
    "  user_id: Option[String],\n",
    "  name: Option[String],\n",
    "  time: Timestamp,\n",
    "  rating: Option[Double],\n",
    "  text: Option[String],\n",
    "  pics: Seq[String],\n",
    "  resp: Option[Response],\n",
    "  gmap_id: String\n",
    ")"
   ]
  },
  {
   "cell_type": "code",
   "execution_count": 3,
   "id": "3cf8ea0d",
   "metadata": {},
   "outputs": [
    {
     "data": {
      "text/plain": [
       "metadataSchema: org.apache.spark.sql.types.StructType = StructType(StructField(name,StringType,true),StructField(address,StringType,true),StructField(gmap_id,StringType,false),StructField(description,StringType,true),StructField(latitude,DoubleType,false),StructField(longitude,DoubleType,false),StructField(category,ArrayType(StringType,true),true),StructField(avg_rating,DoubleType,false),StructField(num_of_reviews,IntegerType,false),StructField(price,StringType,true),StructField(hours,ArrayType(ArrayType(StringType,true),true),true),StructField(MISC,MapType(StringType,ArrayType(StringType,true),true),true),StructField(state,StringType,true),StructField(relative_results,ArrayType(StringType,true),true),StructField(url,StringType,false))\n",
       "defined class Metadata\n"
      ]
     },
     "execution_count": 3,
     "metadata": {},
     "output_type": "execute_result"
    }
   ],
   "source": [
    "val metadataSchema = StructType(\n",
    "  Seq(\n",
    "    StructField(\"name\",             StringType,                                 nullable = true),\n",
    "    StructField(\"address\",          StringType,                                 nullable = true),\n",
    "    StructField(\"gmap_id\",          StringType,                                 nullable = false),\n",
    "    StructField(\"description\",      StringType,                                 nullable = true),\n",
    "    StructField(\"latitude\",         DoubleType,                                 nullable = false),\n",
    "    StructField(\"longitude\",        DoubleType,                                 nullable = false),\n",
    "    StructField(\"category\",         ArrayType(StringType),                      nullable = true),\n",
    "    StructField(\"avg_rating\",       DoubleType,                                 nullable = false),\n",
    "    StructField(\"num_of_reviews\",   IntegerType,                                nullable = false),\n",
    "    StructField(\"price\",            StringType,                                 nullable = true),\n",
    "    StructField(\"hours\",            ArrayType(ArrayType(StringType)),           nullable = true),\n",
    "    StructField(\"MISC\",             MapType(StringType, ArrayType(StringType)), nullable = true),\n",
    "    StructField(\"state\",            StringType,                                 nullable = true),\n",
    "    StructField(\"relative_results\", ArrayType(StringType),                      nullable = true),\n",
    "    StructField(\"url\",              StringType,                                 nullable = false),\n",
    "  )\n",
    ")\n",
    "\n",
    "case class Metadata(\n",
    "  name: Option[String],\n",
    "  address: Option[String],\n",
    "  gmap_id: String,\n",
    "  description: Option[String],\n",
    "  latitude: Double,\n",
    "  longitude: Double,\n",
    "  category: Seq[String],\n",
    "  avg_rating: Double,\n",
    "  num_of_reviews: Int,\n",
    "  price: Option[String],\n",
    "  hours: Seq[Seq[String]],\n",
    "  MISC: Map[String, Seq[String]],\n",
    "  state: Option[String],\n",
    "  relative_results: Seq[String],\n",
    "  url: String\n",
    ")"
   ]
  },
  {
   "cell_type": "markdown",
   "id": "f94003df",
   "metadata": {},
   "source": [
    "### Dataset load and parse"
   ]
  },
  {
   "cell_type": "code",
   "execution_count": 4,
   "id": "2e2d175b",
   "metadata": {},
   "outputs": [
    {
     "name": "stdout",
     "output_type": "stream",
     "text": [
      "root\n",
      " |-- user_id: string (nullable = true)\n",
      " |-- name: string (nullable = true)\n",
      " |-- time: timestamp (nullable = true)\n",
      " |-- rating: double (nullable = true)\n",
      " |-- text: string (nullable = true)\n",
      " |-- pics: array (nullable = true)\n",
      " |    |-- element: string (containsNull = true)\n",
      " |-- resp: struct (nullable = true)\n",
      " |    |-- time: timestamp (nullable = true)\n",
      " |    |-- text: string (nullable = true)\n",
      " |-- gmap_id: string (nullable = true)\n",
      "\n",
      "root\n",
      " |-- name: string (nullable = true)\n",
      " |-- address: string (nullable = true)\n",
      " |-- gmap_id: string (nullable = true)\n",
      " |-- description: string (nullable = true)\n",
      " |-- latitude: double (nullable = true)\n",
      " |-- longitude: double (nullable = true)\n",
      " |-- category: array (nullable = true)\n",
      " |    |-- element: string (containsNull = true)\n",
      " |-- avg_rating: double (nullable = true)\n",
      " |-- num_of_reviews: integer (nullable = true)\n",
      " |-- price: string (nullable = true)\n",
      " |-- hours: array (nullable = true)\n",
      " |    |-- element: array (containsNull = true)\n",
      " |    |    |-- element: string (containsNull = true)\n",
      " |-- MISC: map (nullable = true)\n",
      " |    |-- key: string\n",
      " |    |-- value: array (valueContainsNull = true)\n",
      " |    |    |-- element: string (containsNull = true)\n",
      " |-- state: string (nullable = true)\n",
      " |-- relative_results: array (nullable = true)\n",
      " |    |-- element: string (containsNull = true)\n",
      " |-- url: string (nullable = true)\n",
      "\n"
     ]
    },
    {
     "data": {
      "text/plain": [
       "warning: 6 feature warnings; for details, enable `:setting -feature' or `:replay -feature'\n",
       "import java.nio.file.Paths\n",
       "projectDir: String = /Users/lucatassi/Projects/big-data/big-data-project\n",
       "reviewsPath: String = /Users/lucatassi/Projects/big-data/big-data-project/dataset/sample-reviews.ndjson\n",
       "metadataPath: String = /Users/lucatassi/Projects/big-data/big-data-project/dataset/metadata.ndjson\n",
       "import org.apache.spark.sql.SparkSession\n",
       "spark: org.apache.spark.sql.SparkSession = org.apache.spark.sql.SparkSession@17f15c95\n",
       "reviewsDf: org.apache.spark.sql.Dataset[Review] = [user_id: string, name: string ... 6 more fields]\n",
       "metadataDf: org.apache.spark.sql.Dataset[Metadata] = [name: string, address: string ... 13 more fields]\n",
       "reviewsRdd: org.apache.spark.rdd.RDD[(Option[String], Option[String], java.sql.Timestamp, Option[Double], Option[String], Seq[String], Option[(java.sql.Timestamp, ...\n"
      ]
     },
     "execution_count": 4,
     "metadata": {},
     "output_type": "execute_result"
    }
   ],
   "source": [
    "import java.nio.file.Paths\n",
    "\n",
    "val projectDir: String = Paths.get(System.getProperty(\"user.dir\")).getParent.getParent.getParent.toString\n",
    "val reviewsPath = s\"$projectDir/dataset/sample-reviews.ndjson\"\n",
    "val metadataPath = s\"$projectDir/dataset/metadata.ndjson\"\n",
    "\n",
    "import org.apache.spark.sql.SparkSession\n",
    "\n",
    "val spark = SparkSession.builder()\n",
    "  .appName(\"NDJSON Reader\")\n",
    "  .master(\"local[*]\") // Needed in local mode\n",
    "  .getOrCreate()\n",
    "\n",
    "val reviewsDf = spark.read\n",
    "  .schema(reviewSchema)\n",
    "  .json(reviewsPath)\n",
    "  .withColumn(\"pics\", when (col(\"pics\") isNull, array()) otherwise col(\"pics\"))\n",
    "  .withColumn(\"time\", from_unixtime(col(\"time\") / 1000).cast(\"timestamp\"))\n",
    "  .withColumn(\"resp\", \n",
    "    when (\n",
    "      col(\"resp\") isNotNull, \n",
    "      struct(\n",
    "        from_unixtime(col(\"resp.time\") / 1000).cast(\"timestamp\").alias(\"time\"),\n",
    "        col(\"resp.text\").cast(StringType).alias(\"text\")\n",
    "      )\n",
    "    ) otherwise lit(null)\n",
    "  )\n",
    "  .as[Review]\n",
    "\n",
    "val metadataDf = spark.read\n",
    "  .schema(metadataSchema)\n",
    "  .json(metadataPath)\n",
    "  .withColumn(\"category\", when (col(\"category\") isNull, array()) otherwise col(\"category\"))\n",
    "  .withColumn(\"hours\", when (col(\"hours\") isNull, array()) otherwise col(\"hours\"))\n",
    "  .withColumn(\"relative_results\", when (col(\"relative_results\") isNull, array()) otherwise col(\"relative_results\"))\n",
    "  .withColumn(\"MISC\",\n",
    "    when (\n",
    "      col(\"MISC\") isNotNull,\n",
    "      col(\"MISC\").cast(MapType(StringType, ArrayType(StringType)))\n",
    "    ) otherwise typedLit(Map.empty[String, Seq[String]])\n",
    "  )\n",
    "  .as[Metadata]\n",
    "\n",
    "reviewsDf.printSchema()\n",
    "metadataDf.printSchema()\n",
    "\n",
    "// Unforturnately, it seems that Spark does not support case classes in RDDs. It throws ArrayStoreException\n",
    "// when trying to collect the RDD... [see also [here](https://github.com/adtech-labs/spylon-kernel/issues/40)]\n",
    "val reviewsRdd = reviewsDf.rdd\n",
    "  .map(Review.unapply)\n",
    "  .map(_.get)\n",
    "  .map { case review @ (_, _, _, _, _, _, resp, _) => review.copy(_7 = resp.map(Response.unapply(_).get)) }\n",
    "val metaRdd = metadataDf.rdd.map(Metadata.unapply).map(_.get)"
   ]
  },
  {
   "cell_type": "markdown",
   "id": "f7e6a15e",
   "metadata": {},
   "source": [
    "The goal of this job is to understand, year by year, whether greater frequency in responding to reviews has an impact on the average rating received.\n",
    "\n",
    "Specifically:\n",
    "\n",
    "- For each year and business, the average rating, rate, and average response time are calculated;\n",
    "- Based on the rate and average response time, an additional attribute \"response strategy\" is calculated that categorizes the business in a particular year into four categories (\"Rapid and frequent,\" \"Slow but frequent,\" \"Occasional,\" or \"Rare or none\");\n",
    "- Aggregation based on the \"response strategy,\" year, and state to get the average rate and number of businesses within the category."
   ]
  },
  {
   "cell_type": "markdown",
   "id": "a24fa176-261b-458a-a387-10a25e8f07ff",
   "metadata": {},
   "source": [
    "---\n",
    "\n",
    "**Metadata**: (name, address, <ins>gmap_id</ins>, description, latitude, longitude, category, avg_rating, num_of_reviews, price, hours, misc, state, relative_results, url)\n",
    "\n",
    "**Review**: (user_id, name, time, rating, text, pics, responses, <ins>gmap_id</ins>)\n",
    "\n",
    "---"
   ]
  },
  {
   "cell_type": "code",
   "execution_count": 5,
   "id": "3299cb18",
   "metadata": {},
   "outputs": [
    {
     "data": {
      "text/plain": [
       "import java.util.concurrent.TimeUnit\n",
       "import org.apache.spark.sql.SaveMode\n"
      ]
     },
     "execution_count": 5,
     "metadata": {},
     "output_type": "execute_result"
    }
   ],
   "source": [
    "import java.util.concurrent.TimeUnit\n",
    "import org.apache.spark.sql.SaveMode"
   ]
  },
  {
   "cell_type": "code",
   "execution_count": 6,
   "id": "a50bde606979f383",
   "metadata": {},
   "outputs": [
    {
     "data": {
      "text/plain": [
       "responseStrategy: (avgResponseRate: Double, avgResponseTime: Double)String\n"
      ]
     },
     "execution_count": 6,
     "metadata": {},
     "output_type": "execute_result"
    }
   ],
   "source": [
    "/**\n",
    " * Determines the response strategy, namely a string-based indicator of how businesses respond to reviews based on the\n",
    " * provided `avgResponseRate`` and `avgResponseTime`.\n",
    " */\n",
    "def responseStrategy(avgResponseRate: Double, avgResponseTime: Double): String =\n",
    "  (avgResponseRate, avgResponseTime) match {\n",
    "    case (rr, rt) if rr >= 0.5 && rt <= 4 * 24 => \"Rapid and frequent\"\n",
    "    case (rr, rt) if rr >= 0.5 => \"Slow but frequent\"\n",
    "    case (rr, _)  if rr >= 0.15 => \"Occasional\"\n",
    "    case _ => \"Rare or none\"\n",
    "  }"
   ]
  },
  {
   "cell_type": "code",
   "execution_count": 7,
   "id": "3ce42b22d5bd8fa4",
   "metadata": {},
   "outputs": [
    {
     "data": {
      "text/plain": [
       "consideredStates: scala.collection.immutable.Map[String,String] = Map(New Mexico -> NM, Washington -> WA, Alabama -> AL, Mississippi -> MS, New Hampshire -> NH)\n",
       "StateNameRegex: scala.util.matching.Regex = \\b(New Mexico|Washington|Alabama|Mississippi|New Hampshire)\\b\n",
       "StateAbbrevRegex: scala.util.matching.Regex = \\b(NM|WA|AL|MS|NH)\\b\n",
       "toState: (address: Option[String])String\n"
      ]
     },
     "execution_count": 7,
     "metadata": {},
     "output_type": "execute_result"
    }
   ],
   "source": [
    "/** This regex captures the state abbreviation between a comma and the ZIP code. */\n",
    "private val StateRegex = \"\"\",\\s*([A-Z]{2})\\s+\\d{5}\"\"\".r\n",
    "\n",
    "/** The map of states that are considered for the analysis. */\n",
    "val consideredStates = Map(\n",
    "  \"Alabama\" -> \"AL\",\n",
    "  \"Mississippi\" -> \"MS\",\n",
    "  \"New Hampshire\" -> \"NH\",\n",
    "  \"New Mexico\" -> \"NM\",\n",
    "  \"Washington\" -> \"WA\",\n",
    ")\n",
    "\n",
    "/** Regex to match state names in the address. */\n",
    "val StateNameRegex = s\"\"\"\\\\b(${consideredStates.keys.mkString(\"|\")})\\\\b\"\"\".r\n",
    "\n",
    "/** Regex to match state abbreviations in the address. */\n",
    "val StateAbbrevRegex = s\"\"\"\\\\b(${consideredStates.values.mkString(\"|\")})\\\\b\"\"\".r\n",
    "\n",
    "/**\n",
    " * Extracts the state from the given address.\n",
    " * @param address\n",
    " *   the optional address string\n",
    " * @return\n",
    " *   the state abbreviation or \"Unknown\" if no valid state is found\n",
    " * @see\n",
    " *   [[consideredStates]]\n",
    " */\n",
    "def toState(address: Option[String]): String = address\n",
    "  .flatMap { addr =>\n",
    "    StateRegex\n",
    "      .findFirstMatchIn(addr)\n",
    "      .map(_.group(1))\n",
    "      .orElse(StateNameRegex.findFirstMatchIn(addr).map(stateName => consideredStates(stateName.group(1))))\n",
    "      .orElse(StateAbbrevRegex.findFirstMatchIn(addr).map(_.group(1)))\n",
    "  }\n",
    "  .filter(consideredStates.values.toSeq.contains)\n",
    "  .getOrElse(\"Unknown\")"
   ]
  },
  {
   "cell_type": "code",
   "execution_count": 8,
   "id": "eb6b5207",
   "metadata": {},
   "outputs": [
    {
     "data": {
      "text/plain": [
       "businessesStates: org.apache.spark.rdd.RDD[(String, String)] = MapPartitionsRDD[17] at map at <console>:34\n"
      ]
     },
     "execution_count": 8,
     "metadata": {},
     "output_type": "execute_result"
    }
   ],
   "source": [
    "val businessesStates = metaRdd.map(b => b._3 -> toState(b._2)) // [(gmap_id, state)*]"
   ]
  },
  {
   "cell_type": "code",
   "execution_count": 9,
   "id": "7ca8593f",
   "metadata": {},
   "outputs": [
    {
     "data": {
      "text/plain": [
       "reviewsInfo: org.apache.spark.rdd.RDD[((Int, String, String), (Double, Double, Double, String))] = MapPartitionsRDD[26] at mapValues at <console>:60\n"
      ]
     },
     "execution_count": 9,
     "metadata": {},
     "output_type": "execute_result"
    }
   ],
   "source": [
    "val reviewsInfo = reviewsRdd\n",
    "  .filter(_._4.isDefined) // filter out reviews without a rating\n",
    "  .map { case (_, _, time, rating, _, _, resp, id) => id -> (time, rating.get, resp) }\n",
    "  .join(businessesStates) // [(gmap_id, ((timestamp, rating, response), state))*]\n",
    "  .map { case (id, ((time, rating, resp), state)) => (time.toLocalDateTime.getYear, id, state) -> (time, rating, resp) }\n",
    "  .aggregateByKey((0.0, 0, 0L, 0))( // (ratings sum, #responses, sum of response time differences, #reviews)\n",
    "    (acc, v) => {\n",
    "      val (sumRatings, numResponses, sumResponseTimes, totalReviews) = acc\n",
    "      val (time, rating, response) = v\n",
    "      (\n",
    "        sumRatings + rating,\n",
    "        numResponses + (if (response.isDefined) 1 else 0),\n",
    "        sumResponseTimes + (if (response.isDefined) response.get._1.getTime - time.getTime else 0L),\n",
    "        totalReviews + 1\n",
    "      )\n",
    "    },\n",
    "    (r1, r2) => (r1._1 + r2._1, r1._2 + r2._2, r1._3 + r2._3, r1._4 + r2._4)\n",
    "  )\n",
    "  .mapValues { case (sumRatings, numResponses, sumResponseTimes, totalReviews) => \n",
    "    (\n",
    "      sumRatings / totalReviews,\n",
    "      numResponses.toDouble / totalReviews,\n",
    "      if (numResponses > 0) TimeUnit.MILLISECONDS.toHours(sumResponseTimes / numResponses) else Double.PositiveInfinity\n",
    "    )\n",
    "  } // [((year, gmap_id, state), (avg_rating, response_rate, avg_response_time))*]\n",
    "  .mapValues { case (avgRating, responseRate, avgResponseTime) => \n",
    "    (avgRating, responseRate, avgResponseTime, responseStrategy(responseRate, avgResponseTime)) \n",
    "  } // [((year, gmap_id, state), (avg_rating, response_rate, avg_response_time, response_strategy))*]"
   ]
  },
  {
   "cell_type": "code",
   "execution_count": 10,
   "id": "1c34ec5f",
   "metadata": {},
   "outputs": [
    {
     "data": {
      "text/plain": [
       "outcome: org.apache.spark.rdd.RDD[((Int, String, String), Double)] = MapPartitionsRDD[29] at mapValues at <console>:37\n"
      ]
     },
     "execution_count": 10,
     "metadata": {},
     "output_type": "execute_result"
    }
   ],
   "source": [
    "val outcome = reviewsInfo\n",
    "  .map { case ((year, _, state), (avgRating, _, _, responseStrategy)) => (year, state, responseStrategy) -> avgRating }\n",
    "  .aggregateByKey((0.0, 0))((acc, v) => (acc._1 + v, acc._2 + 1), (r1, r2) => (r1._1 + r2._1, r1._2 + r2._2))\n",
    "  .mapValues { case (sumRatings, totalBusinesses) => sumRatings / totalBusinesses }"
   ]
  },
  {
   "cell_type": "code",
   "execution_count": 11,
   "id": "d64dfc0e",
   "metadata": {},
   "outputs": [
    {
     "data": {
      "text/plain": [
       "outputDirPath: String = /Users/lucatassi/Projects/big-data/big-data-project/output\n",
       "outputPath: String = /Users/lucatassi/Projects/big-data/big-data-project/output/job1-output\n"
      ]
     },
     "execution_count": 11,
     "metadata": {},
     "output_type": "execute_result"
    }
   ],
   "source": [
    "val outputDirPath = s\"$projectDir/output\"\n",
    "val outputPath = s\"$outputDirPath/job1-output\""
   ]
  },
  {
   "cell_type": "code",
   "execution_count": 12,
   "id": "ccd594af",
   "metadata": {},
   "outputs": [],
   "source": [
    "outcome.map { case ((year, state, responseStrategy), avgRating) => (year, state, responseStrategy, avgRating) }\n",
    "  .coalesce(1)\n",
    "  .toDF(\"year\", \"state\", \"response_strategy\", \"avg_rating\")\n",
    "  .write.format(\"csv\").option(\"header\", \"true\")\n",
    "  .mode(SaveMode.Overwrite)\n",
    "  .save(s\"file://$outputPath\")"
   ]
  }
 ],
 "metadata": {
  "kernelspec": {
   "display_name": "spylon-kernel",
   "language": "scala",
   "name": "spylon-kernel"
  },
  "language_info": {
   "codemirror_mode": "text/x-scala",
   "file_extension": ".scala",
   "help_links": [
    {
     "text": "MetaKernel Magics",
     "url": "https://metakernel.readthedocs.io/en/latest/source/README.html"
    }
   ],
   "mimetype": "text/x-scala",
   "name": "scala",
   "pygments_lexer": "scala",
   "version": "0.4.1"
  }
 },
 "nbformat": 4,
 "nbformat_minor": 5
}
