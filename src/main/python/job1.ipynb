{
 "cells": [
  {
   "cell_type": "markdown",
   "id": "6bb04350",
   "metadata": {},
   "source": [
    "# Job 1\n",
    "\n",
    "L'obiettivo di questo job è capire, anno per anno, se una maggiore frequenza nella risposta alle recensioni ha un impatto sulla valutazione media ricevuta.\n",
    "In particolare:\n",
    "- Per ogni anno e business si calcola la media delle recensioni, il rate e il tempo medio di risposta;\n",
    "- Sulla base del rate e del tempo medio di risposta viene calcolata un attributo aggiuntivo “response strategy” che categorizza il business in un particolare anno in 4 categorie (“Rapid and frequent”, “Slow but frequent”, “Occasional” o “Rare or none”);\n",
    "- Aggregazione in base alla \"response strategy\", l'anno e lo stato per ottenere il rate medio e il numero di business all'interno della categoria."
   ]
  },
  {
   "cell_type": "code",
   "execution_count": null,
   "id": "07f8f02c",
   "metadata": {},
   "outputs": [],
   "source": [
    "import org.apache.spark"
   ]
  },
  {
   "cell_type": "markdown",
   "id": "809f3475",
   "metadata": {},
   "source": [
    "### Definizione degli schemi e classi dei dati dei dataset"
   ]
  },
  {
   "cell_type": "code",
   "execution_count": null,
   "id": "0f1971a4",
   "metadata": {},
   "outputs": [],
   "source": [
    "import org.apache.spark.sql.types._\n",
    "\n",
    "val reviewSchema = StructType(\n",
    "  Seq(\n",
    "    StructField(\"user_id\", StringType, nullable = false),\n",
    "    StructField(\"name\", StringType, nullable = true),\n",
    "    StructField(\"time\", LongType, nullable = false),\n",
    "    StructField(\"rating\", DoubleType, nullable = false),\n",
    "    StructField(\"text\", StringType, nullable = true),\n",
    "    StructField(\"pics\", ArrayType(StringType), nullable = true),\n",
    "    StructField(\"resp\", StructType(Seq(\n",
    "      StructField(\"time\", LongType, nullable = false),\n",
    "      StructField(\"text\", StringType, nullable = true)\n",
    "    ))),\n",
    "    StructField(\"gmap_id\", StringType, nullable = false),\n",
    "  )\n",
    ")\n",
    "\n",
    "case class Resp(\n",
    "    time: Long,\n",
    "    text: Option[String]\n",
    "  )\n",
    "\n",
    "case class Review(\n",
    "  user_id: String,\n",
    "  name: String,\n",
    "  time: Long,\n",
    "  rating: Option[Double],\n",
    "  text: Option[String],\n",
    "  pics: Option[Seq[String]],\n",
    "  resp: Option[Resp],\n",
    "  gmap_id: String\n",
    ")"
   ]
  },
  {
   "cell_type": "code",
   "execution_count": null,
   "id": "3cf8ea0d",
   "metadata": {},
   "outputs": [],
   "source": [
    "val metadataSchema = StructType(\n",
    "  Seq(\n",
    "    StructField(\"name\", StringType, false),\n",
    "    StructField(\"address\", StringType, false),\n",
    "    StructField(\"gmap_id\", StringType, false),\n",
    "    StructField(\"description\", StringType, true),\n",
    "    StructField(\"latitude\", DoubleType, false),\n",
    "    StructField(\"longitude\", DoubleType, false),\n",
    "    StructField(\"category\", ArrayType(StringType), false),\n",
    "    StructField(\"avg_rating\", DoubleType, false),\n",
    "    StructField(\"num_of_reviews\", IntegerType, false),\n",
    "    StructField(\"price\", StringType, false),\n",
    "    StructField(\"hours\", ArrayType(ArrayType(StringType)), true),\n",
    "    StructField(\"MISC\", MapType(StringType, ArrayType(StringType)), false),\n",
    "    StructField(\"state\", StringType, false),\n",
    "    StructField(\"relative_results\", ArrayType(StringType), false),\n",
    "    StructField(\"url\", StringType, false)\n",
    "  )\n",
    ")\n",
    "\n",
    "case class Metadata(\n",
    "  name: String,\n",
    "  address: String,\n",
    "  gmap_id: String,\n",
    "  description: Option[String],\n",
    "  latitude: Double,\n",
    "  longitude: Double,\n",
    "  category: Seq[String],\n",
    "  avg_rating: Double,\n",
    "  num_of_reviews: Int,\n",
    "  price: String,\n",
    "  hours: Option[Seq[Seq[String]]],\n",
    "  MISC: Map[String, Seq[String]],\n",
    "  state: String,\n",
    "  relative_results: Seq[String],\n",
    "  url: String\n",
    ")\n"
   ]
  },
  {
   "cell_type": "markdown",
   "id": "f94003df",
   "metadata": {},
   "source": [
    "### Caricamento dataset"
   ]
  },
  {
   "cell_type": "code",
   "execution_count": null,
   "id": "2e2d175b",
   "metadata": {},
   "outputs": [],
   "source": [
    "val reviewsPath = \"/Users/teo/Universita/Magistrale/BIG_DATA/bd-project25/big-data-dataset-exam/sample-reviews.ndjson\"\n",
    "val metadataPath = \"/Users/teo/Universita/Magistrale/BIG_DATA/bd-project25/big-data-dataset-exam/metadata.ndjson\"\n",
    "\n",
    "import org.apache.spark.sql.SparkSession\n",
    "\n",
    "val spark = SparkSession.builder()\n",
    "  .appName(\"NDJSON Reader\")\n",
    "  .master(\"local[*]\")  // Needed in local mode\n",
    "  .getOrCreate()\n",
    "\n",
    "val reviewsDf = spark.read\n",
    "  .schema(reviewSchema)\n",
    "  .json(reviewsPath)\n",
    "\n",
    "val metadataDf = spark.read\n",
    "  .schema(metadataSchema)\n",
    "  .json(metadataPath)\n",
    "\n",
    "val reviewsRdd = reviewsDf.as[Review]\n",
    "val metaRdd = metadataDf.as[Metadata]\n",
    "\n",
    "reviewsDf.printSchema()\n",
    "metaRdd.printSchema()\n"
   ]
  },
  {
   "cell_type": "code",
   "execution_count": null,
   "id": "c6698c8c",
   "metadata": {},
   "outputs": [],
   "source": [
    "metaRdd.\n",
    "filter(_.gmap_id == \"0x80dcdbd91ac0ff97:0x40cb80cf24283e4d\")\n",
    ".collect()"
   ]
  },
  {
   "cell_type": "code",
   "execution_count": null,
   "id": "11518f98",
   "metadata": {},
   "outputs": [],
   "source": [
    "reviewsRdd\n",
    ".filter(_.name.contains(\"Hossein\"))\n",
    ".collect()\n"
   ]
  }
 ],
 "metadata": {
  "kernelspec": {
   "display_name": "spylon-kernel",
   "language": "scala",
   "name": "spylon-kernel"
  },
  "language_info": {
   "codemirror_mode": "text/x-scala",
   "file_extension": ".scala",
   "help_links": [
    {
     "text": "MetaKernel Magics",
     "url": "https://metakernel.readthedocs.io/en/latest/source/README.html"
    }
   ],
   "mimetype": "text/x-scala",
   "name": "scala",
   "pygments_lexer": "scala",
   "version": "0.4.1"
  }
 },
 "nbformat": 4,
 "nbformat_minor": 5
}
