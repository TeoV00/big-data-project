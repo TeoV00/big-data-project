{
 "cells": [
  {
   "cell_type": "markdown",
   "id": "6bb04350",
   "metadata": {},
   "source": [
    "# Job 1"
   ]
  },
  {
   "cell_type": "code",
   "execution_count": 1,
   "id": "07f8f02c",
   "metadata": {},
   "outputs": [
    {
     "data": {
      "text/plain": [
       "Intitializing Scala interpreter ..."
      ]
     },
     "metadata": {},
     "output_type": "display_data"
    },
    {
     "data": {
      "text/plain": [
       "Spark Web UI available at http://192.168.1.80:4040\n",
       "SparkContext available as 'sc' (version = 3.5.1, master = local[*], app id = local-1754294787964)\n",
       "SparkSession available as 'spark'\n"
      ]
     },
     "metadata": {},
     "output_type": "display_data"
    },
    {
     "data": {
      "text/plain": [
       "import org.apache.spark\n"
      ]
     },
     "execution_count": 1,
     "metadata": {},
     "output_type": "execute_result"
    }
   ],
   "source": [
    "import org.apache.spark"
   ]
  },
  {
   "cell_type": "markdown",
   "id": "809f3475",
   "metadata": {},
   "source": [
    "### Schema definitions"
   ]
  },
  {
   "cell_type": "code",
   "execution_count": 2,
   "id": "0f1971a4",
   "metadata": {},
   "outputs": [
    {
     "data": {
      "text/plain": [
       "import org.apache.spark.sql.types._\n",
       "import java.sql.Timestamp\n",
       "reviewSchema: org.apache.spark.sql.types.StructType = StructType(StructField(user_id,StringType,true),StructField(name,StringType,true),StructField(time,LongType,false),StructField(rating,DoubleType,true),StructField(text,StringType,true),StructField(pics,ArrayType(StringType,true),true),StructField(resp,StructType(StructField(time,LongType,false),StructField(text,StringType,true)),true),StructField(gmap_id,StringType,false))\n",
       "defined class Response\n",
       "defined class Review\n"
      ]
     },
     "execution_count": 2,
     "metadata": {},
     "output_type": "execute_result"
    }
   ],
   "source": [
    "import org.apache.spark.sql.types._\n",
    "import java.sql.Timestamp\n",
    "\n",
    "val reviewSchema = StructType(\n",
    "  Seq(\n",
    "    StructField(\"user_id\",  StringType,            nullable = true),\n",
    "    StructField(\"name\",     StringType,            nullable = true),\n",
    "    StructField(\"time\",     LongType,              nullable = false),\n",
    "    StructField(\"rating\",   DoubleType,            nullable = true),\n",
    "    StructField(\"text\",     StringType,            nullable = true),\n",
    "    StructField(\"pics\",     ArrayType(StringType), nullable = true),\n",
    "    StructField(\"resp\",     StructType(\n",
    "      Seq(\n",
    "        StructField(\"time\", LongType,              nullable = false),\n",
    "        StructField(\"text\", StringType,            nullable = true)\n",
    "      )\n",
    "    ),                                             nullable = true),\n",
    "    StructField(\"gmap_id\",  StringType,            nullable = false),\n",
    "  )\n",
    ")\n",
    "\n",
    "case class Response(time: Timestamp, text: Option[String])\n",
    "\n",
    "case class Review(\n",
    "  user_id: Option[String],\n",
    "  name: Option[String],\n",
    "  time: Timestamp,\n",
    "  rating: Option[Double],\n",
    "  text: Option[String],\n",
    "  pics: Seq[String],\n",
    "  resp: Option[Response],\n",
    "  gmap_id: String\n",
    ")"
   ]
  },
  {
   "cell_type": "code",
   "execution_count": 3,
   "id": "3cf8ea0d",
   "metadata": {},
   "outputs": [
    {
     "data": {
      "text/plain": [
       "metadataSchema: org.apache.spark.sql.types.StructType = StructType(StructField(name,StringType,true),StructField(address,StringType,true),StructField(gmap_id,StringType,false),StructField(description,StringType,true),StructField(latitude,DoubleType,false),StructField(longitude,DoubleType,false),StructField(category,ArrayType(StringType,true),true),StructField(avg_rating,DoubleType,false),StructField(num_of_reviews,IntegerType,false),StructField(price,StringType,false),StructField(hours,ArrayType(ArrayType(StringType,true),true),true),StructField(MISC,MapType(StringType,ArrayType(StringType,true),true),false),StructField(state,StringType,true),StructField(relative_results,ArrayType(StringType,true),true),StructField(url,StringType,false))\n",
       "defined class Metadata\n"
      ]
     },
     "execution_count": 3,
     "metadata": {},
     "output_type": "execute_result"
    }
   ],
   "source": [
    "val metadataSchema = StructType(\n",
    "  Seq(\n",
    "    StructField(\"name\",             StringType,                                 nullable = true),\n",
    "    StructField(\"address\",          StringType,                                 nullable = true),\n",
    "    StructField(\"gmap_id\",          StringType,                                 nullable = false),\n",
    "    StructField(\"description\",      StringType,                                 nullable = true),\n",
    "    StructField(\"latitude\",         DoubleType,                                 nullable = false),\n",
    "    StructField(\"longitude\",        DoubleType,                                 nullable = false),\n",
    "    StructField(\"category\",         ArrayType(StringType),                      nullable = true),\n",
    "    StructField(\"avg_rating\",       DoubleType,                                 nullable = false),\n",
    "    StructField(\"num_of_reviews\",   IntegerType,                                nullable = false),\n",
    "    StructField(\"price\",            StringType,                                 nullable = false),\n",
    "    StructField(\"hours\",            ArrayType(ArrayType(StringType)),           nullable = true),\n",
    "    StructField(\"MISC\",             MapType(StringType, ArrayType(StringType)), nullable = false),\n",
    "    StructField(\"state\",            StringType,                                 nullable = true),\n",
    "    StructField(\"relative_results\", ArrayType(StringType),                      nullable = true),\n",
    "    StructField(\"url\",              StringType,                                 nullable = false),\n",
    "  )\n",
    ")\n",
    "\n",
    "case class Metadata(\n",
    "  name: Option[String],\n",
    "  address: Option[String],\n",
    "  gmap_id: String,\n",
    "  description: Option[String],\n",
    "  latitude: Double,\n",
    "  longitude: Double,\n",
    "  category: Seq[String],\n",
    "  avg_rating: Double,\n",
    "  num_of_reviews: Int,\n",
    "  price: String,\n",
    "  hours: Seq[Seq[String]],\n",
    "  MISC: Map[String, Seq[String]],\n",
    "  state: Option[String],\n",
    "  relative_results: Seq[String],\n",
    "  url: String\n",
    ")"
   ]
  },
  {
   "cell_type": "markdown",
   "id": "f94003df",
   "metadata": {},
   "source": [
    "### Dataset load and parse"
   ]
  },
  {
   "cell_type": "code",
   "execution_count": 4,
   "id": "2e2d175b",
   "metadata": {},
   "outputs": [
    {
     "name": "stdout",
     "output_type": "stream",
     "text": [
      "root\n",
      " |-- user_id: string (nullable = true)\n",
      " |-- name: string (nullable = true)\n",
      " |-- time: timestamp (nullable = true)\n",
      " |-- rating: double (nullable = true)\n",
      " |-- text: string (nullable = true)\n",
      " |-- pics: array (nullable = true)\n",
      " |    |-- element: string (containsNull = true)\n",
      " |-- resp: struct (nullable = true)\n",
      " |    |-- time: timestamp (nullable = true)\n",
      " |    |-- text: string (nullable = true)\n",
      " |-- gmap_id: string (nullable = true)\n",
      "\n",
      "root\n",
      " |-- name: string (nullable = true)\n",
      " |-- address: string (nullable = true)\n",
      " |-- gmap_id: string (nullable = true)\n",
      " |-- description: string (nullable = true)\n",
      " |-- latitude: double (nullable = true)\n",
      " |-- longitude: double (nullable = true)\n",
      " |-- category: array (nullable = true)\n",
      " |    |-- element: string (containsNull = true)\n",
      " |-- avg_rating: double (nullable = true)\n",
      " |-- num_of_reviews: integer (nullable = true)\n",
      " |-- price: string (nullable = true)\n",
      " |-- hours: array (nullable = true)\n",
      " |    |-- element: array (containsNull = true)\n",
      " |    |    |-- element: string (containsNull = true)\n",
      " |-- MISC: map (nullable = true)\n",
      " |    |-- key: string\n",
      " |    |-- value: array (valueContainsNull = true)\n",
      " |    |    |-- element: string (containsNull = true)\n",
      " |-- state: string (nullable = true)\n",
      " |-- relative_results: array (nullable = true)\n",
      " |    |-- element: string (containsNull = true)\n",
      " |-- url: string (nullable = true)\n",
      "\n"
     ]
    },
    {
     "data": {
      "text/plain": [
       "warning: 5 feature warnings; for details, enable `:setting -feature' or `:replay -feature'\n",
       "import java.nio.file.Paths\n",
       "import org.apache.spark.sql.SparkSession\n",
       "import org.apache.spark.sql.functions.from_unixtime\n",
       "projectDir: String = /Users/lucatassi/Projects/big-data/big-data-project\n",
       "reviewsPath: String = /Users/lucatassi/Projects/big-data/big-data-project/dataset/sample-reviews.ndjson\n",
       "metadataPath: String = /Users/lucatassi/Projects/big-data/big-data-project/dataset/metadata.ndjson\n",
       "spark: org.apache.spark.sql.SparkSession = org.apache.spark.sql.SparkSession@5e232ba9\n",
       "reviewsDf: org.apache.spark.sql.Dataset[Review] = [user_id: string, name: string ... 6 more fields]\n",
       "metadataDf: org.apache.spark.sql.Dataset[Metadata] = [name: string, address: string ... 13 more fields]\n",
       "reviewsRdd: org.apache.spark.rdd.RDD[(Option[String], Option[String], java.sql.Timestamp, Option[Double], Optio...\n"
      ]
     },
     "execution_count": 4,
     "metadata": {},
     "output_type": "execute_result"
    }
   ],
   "source": [
    "import java.nio.file.Paths\n",
    "import org.apache.spark.sql.SparkSession\n",
    "import org.apache.spark.sql.functions.from_unixtime\n",
    "\n",
    "val projectDir: String = Paths.get(System.getProperty(\"user.dir\")).getParent.getParent.getParent.toString\n",
    "val reviewsPath = s\"$projectDir/dataset/sample-reviews.ndjson\"\n",
    "val metadataPath = s\"$projectDir/dataset/metadata.ndjson\"\n",
    "\n",
    "val spark = SparkSession.builder()\n",
    "  .appName(\"NDJSON Reader\")\n",
    "  .master(\"local[*]\") // Needed in local mode\n",
    "  .getOrCreate()\n",
    "\n",
    "val reviewsDf = spark.read\n",
    "  .schema(reviewSchema)\n",
    "  .json(reviewsPath)\n",
    "  .withColumn(\"pics\", when (col(\"pics\") isNull, array()) otherwise col(\"pics\"))\n",
    "  .withColumn(\"time\", from_unixtime(col(\"time\") / 1000).cast(\"timestamp\"))\n",
    "  .withColumn(\"resp\", \n",
    "    when (\n",
    "      col(\"resp\") isNotNull, \n",
    "      struct(\n",
    "        from_unixtime(col(\"resp.time\") / 1000).cast(\"timestamp\").alias(\"time\"),\n",
    "        col(\"resp.text\").cast(StringType).alias(\"text\")\n",
    "      )\n",
    "    ) otherwise lit(null)\n",
    "  )\n",
    "  .as[Review]\n",
    "\n",
    "val metadataDf = spark.read\n",
    "  .schema(metadataSchema)\n",
    "  .json(metadataPath)\n",
    "  .withColumn(\"category\", when (col(\"category\") isNull, array()) otherwise col(\"category\"))\n",
    "  .withColumn(\"hours\", when (col(\"hours\") isNull, array()) otherwise col(\"hours\"))\n",
    "  .withColumn(\"relative_results\", when (col(\"relative_results\") isNull, array()) otherwise col(\"relative_results\"))\n",
    "  .as[Metadata]\n",
    "\n",
    "reviewsDf.printSchema()\n",
    "metadataDf.printSchema()\n",
    "\n",
    "// Unforturnately, it seems that Spark does not support case classes in RDDs. It throws ArrayStoreException\n",
    "// when trying to collect the RDD... [see also [here](https://github.com/adtech-labs/spylon-kernel/issues/40)]\n",
    "val reviewsRdd = reviewsDf.rdd\n",
    "  .map(Review.unapply(_).get)\n",
    "  .map { case review @ (_, _, _, _, _, _, resp, _) => review.copy(_7 = resp.map(Response.unapply(_).get)) }\n",
    "val metaRdd = metadataDf.rdd.map(Metadata.unapply).map(_.get)"
   ]
  },
  {
   "cell_type": "markdown",
   "id": "f7e6a15e",
   "metadata": {},
   "source": [
    "L'obiettivo di questo job è capire, anno per anno, se una maggiore frequenza nella risposta alle recensioni ha un impatto sulla valutazione media ricevuta.\n",
    "In particolare:\n",
    "- Per ogni anno e business si calcola la media delle recensioni, il rate e il tempo medio di risposta;\n",
    "- Sulla base del rate e del tempo medio di risposta viene calcolata un attributo aggiuntivo “response strategy” che categorizza il business in un particolare anno in 4 categorie (“Rapid and frequent”, “Slow but frequent”, “Occasional” o “Rare or none”);\n",
    "- Aggregazione in base alla \"response strategy\", l'anno e lo stato per ottenere il rate medio e il numero di business all'interno della categoria.\n",
    "\n",
    "---\n",
    "\n",
    "The goal of this job is to understand, year by year, whether greater frequency in responding to reviews has an impact on the average rating received.\n",
    "\n",
    "Specifically:\n",
    "\n",
    "- For each year and business, the average rating, rate, and average response time are calculated;\n",
    "- Based on the rate and average response time, an additional attribute \"response strategy\" is calculated that categorizes the business in a particular year into four categories (\"Rapid and frequent,\" \"Slow but frequent,\" \"Occasional,\" or \"Rare or none\");\n",
    "- Aggregation based on the \"response strategy,\" year, and state to get the average rate and number of businesses within the category."
   ]
  },
  {
   "cell_type": "markdown",
   "id": "a24fa176-261b-458a-a387-10a25e8f07ff",
   "metadata": {},
   "source": [
    "---\n",
    "\n",
    "**Metadata**: (name, address, <ins>gmap_id</ins>, description, latitude, longitude, category, avg_rating, num_of_reviews, price, hours, misc, state, relative_results, url)\n",
    "\n",
    "**Review**: (user_id, name, time, rating, text, pics, responses, <ins>gmap_id</ins>)\n",
    "\n",
    "---"
   ]
  },
  {
   "cell_type": "code",
   "execution_count": 5,
   "id": "3299cb18",
   "metadata": {},
   "outputs": [
    {
     "data": {
      "text/plain": [
       "import java.util.concurrent.TimeUnit\n",
       "import org.apache.spark.sql.SaveMode\n"
      ]
     },
     "execution_count": 5,
     "metadata": {},
     "output_type": "execute_result"
    }
   ],
   "source": [
    "import java.util.concurrent.TimeUnit\n",
    "import org.apache.spark.sql.SaveMode"
   ]
  },
  {
   "cell_type": "code",
   "execution_count": 6,
   "id": "e1c28cae",
   "metadata": {},
   "outputs": [
    {
     "data": {
      "text/plain": [
       "responseStrategy: (avgResponseRate: Double, avgResponseTime: Double)String\n"
      ]
     },
     "execution_count": 6,
     "metadata": {},
     "output_type": "execute_result"
    }
   ],
   "source": [
    "def responseStrategy(avgResponseRate: Double, avgResponseTime: Double): String =\n",
    "  (avgResponseRate, avgResponseTime) match {\n",
    "    case (rr, rt) if rr >= 0.5 && rt <= 4 * 24 => \"Rapid and frequent\"\n",
    "    case (rr, rt) if rr >= 0.5 => \"Slow but frequent\"\n",
    "    case (rr, _)  if rr >= 0.15 => \"Occasional\"\n",
    "    case _ => \"Rare or none\"\n",
    "  }"
   ]
  },
  {
   "cell_type": "code",
   "execution_count": 7,
   "id": "b7502276",
   "metadata": {},
   "outputs": [
    {
     "data": {
      "text/plain": [
       "toState: (address: Option[String])String\n"
      ]
     },
     "execution_count": 7,
     "metadata": {},
     "output_type": "execute_result"
    }
   ],
   "source": [
    "\n",
    "def toState(address: Option[String]): String = \n",
    "  address.flatMap { addr =>\n",
    "    // This regex captures the state abbreviation between a comma and the ZIP code\n",
    "    val StateRegex = \"\"\",\\s*([A-Z]{2})\\s+\\d{5}\"\"\".r\n",
    "    StateRegex.findFirstMatchIn(addr).map(_.group(1))\n",
    "  }.getOrElse(\"Unknown\")"
   ]
  },
  {
   "cell_type": "code",
   "execution_count": 8,
   "id": "eb6b5207",
   "metadata": {},
   "outputs": [
    {
     "data": {
      "text/plain": [
       "businessesStates: org.apache.spark.rdd.RDD[(String, String)] = MapPartitionsRDD[16] at map at <console>:36\n"
      ]
     },
     "execution_count": 8,
     "metadata": {},
     "output_type": "execute_result"
    }
   ],
   "source": [
    "val businessesStates = metaRdd\n",
    "  .map(b => b._3 -> toState(b._2))"
   ]
  },
  {
   "cell_type": "code",
   "execution_count": 9,
   "id": "7ca8593f",
   "metadata": {},
   "outputs": [
    {
     "data": {
      "text/plain": [
       "reviewsInfo: org.apache.spark.rdd.RDD[((Int, String), (Double, Double, Double, String))] = MapPartitionsRDD[21] at mapValues at <console>:60\n"
      ]
     },
     "execution_count": 9,
     "metadata": {},
     "output_type": "execute_result"
    }
   ],
   "source": [
    "val reviewsInfo = reviewsRdd\n",
    "  .filter(_._4.isDefined) // filter out reviews without a rating\n",
    "  .map { case (_, _, time, rating, _, _, resp, id) => (time.toLocalDateTime.getYear, id) -> (time, rating.get, resp) }\n",
    "  .aggregateByKey(\n",
    "    (0.0, 0, 0L, 0) // (sum of ratings, num of responses, sum of response times (unix timestamp), num of reviews)\n",
    "  )(\n",
    "    (acc, v) => {\n",
    "      val (sumRatings, numResponses, sumResponseTimes, totalReviews) = acc\n",
    "      val (time, rating, response) = v\n",
    "      (\n",
    "        sumRatings + rating,\n",
    "        numResponses + (if (response.isDefined) 1 else 0),\n",
    "        sumResponseTimes + (if (response.isDefined) response.get._1.getTime - time.getTime else 0L),\n",
    "        totalReviews + 1\n",
    "      )\n",
    "    },\n",
    "    (r1, r2) => (r1._1 + r2._1, r1._2 + r2._2, r1._3 + r2._3, r1._4 + r2._4)\n",
    "  )\n",
    "  .mapValues { case (sumRatings, numResponses, sumResponseTimes, totalReviews) => \n",
    "    (\n",
    "      sumRatings / totalReviews,\n",
    "      numResponses.toDouble / totalReviews,\n",
    "      if (numResponses > 0) TimeUnit.MILLISECONDS.toHours(sumResponseTimes / numResponses) else Double.PositiveInfinity\n",
    "    )\n",
    "  } // [((year, gmap_id), (avg_rating, response_rate, avg_response_time))*]\n",
    "  .mapValues { case (avgRating, responseRate, avgResponseTime) => \n",
    "    (avgRating, responseRate, avgResponseTime, responseStrategy(responseRate, avgResponseTime)) \n",
    "  } // [((year, gmap_id), (avg_rating, response_rate, avg_response_time, response_strategy))*]"
   ]
  },
  {
   "cell_type": "code",
   "execution_count": 10,
   "id": "1c34ec5f",
   "metadata": {},
   "outputs": [
    {
     "data": {
      "text/plain": [
       "outcome: org.apache.spark.rdd.RDD[((Int, String, String), Double)] = MapPartitionsRDD[28] at mapValues at <console>:41\n"
      ]
     },
     "execution_count": 10,
     "metadata": {},
     "output_type": "execute_result"
    }
   ],
   "source": [
    "val outcome = reviewsInfo\n",
    "  .map { case ((year, id), (avgRating, _, _, responseStrategy)) => id -> (year, responseStrategy, avgRating) }\n",
    "  .join(businessesStates) // [(gmap_id, ((year, response_strategy, avg_rating), state))*]\n",
    "  .map { case (_, ((year, responseStrategy, avgRating), state)) => (year, state, responseStrategy) -> avgRating }\n",
    "  .aggregateByKey((0.0, 0))((acc, v) => (acc._1 + v, acc._2 + 1), (r1, r2) => (r1._1 + r2._1, r1._2 + r2._2))\n",
    "  .mapValues { case (sumRatings, totalBusinesses) => sumRatings / totalBusinesses }"
   ]
  },
  {
   "cell_type": "code",
   "execution_count": 11,
   "id": "d64dfc0e",
   "metadata": {},
   "outputs": [
    {
     "data": {
      "text/plain": [
       "outputDirPath: String = /Users/lucatassi/Projects/big-data/big-data-project/output\n",
       "outputPath: String = /Users/lucatassi/Projects/big-data/big-data-project/output/job1-output\n"
      ]
     },
     "execution_count": 11,
     "metadata": {},
     "output_type": "execute_result"
    }
   ],
   "source": [
    "val outputDirPath = s\"$projectDir/output\"\n",
    "val outputPath = s\"$outputDirPath/job1-output\""
   ]
  },
  {
   "cell_type": "code",
   "execution_count": 12,
   "id": "ccd594af",
   "metadata": {},
   "outputs": [],
   "source": [
    "outcome.map { case ((year, state, responseStrategy), avgRating) => (year, state, responseStrategy, avgRating) }\n",
    "  .coalesce(1)\n",
    "  .toDF(\"year\", \"state\", \"response_strategy\", \"avg_rating\")\n",
    "  .write.format(\"csv\").option(\"header\", \"true\")\n",
    "  .mode(SaveMode.Overwrite)\n",
    "  .save(s\"file://$outputPath\")"
   ]
  },
  {
   "cell_type": "markdown",
   "id": "f054b640",
   "metadata": {},
   "source": [
    "### Results"
   ]
  },
  {
   "cell_type": "code",
   "execution_count": 1,
   "id": "b98afb64",
   "metadata": {},
   "outputs": [],
   "source": [
    "%%python\n",
    "import glob\n",
    "import pandas as pd\n",
    "import seaborn as sns\n",
    "import matplotlib.pyplot as plt\n",
    "\n",
    "files = glob.glob(\"/Users/lucatassi/Projects/big-data/big-data-project/output/job1-output/*.csv\")\n",
    "\n",
    "if not files:\n",
    "    raise FileNotFoundError(\"No CSV files found\")\n",
    "\n",
    "df = pd.read_csv(files[0])\n",
    "\n",
    "# Set seaborn style\n",
    "sns.set(style=\"whitegrid\")\n",
    "\n",
    "# --- 1. Faceted bar charts by state ---\n",
    "g = sns.catplot(\n",
    "    data=df,\n",
    "    x=\"response_strategy\",\n",
    "    y=\"avg_rating\",\n",
    "    hue=\"year\",\n",
    "    col=\"state\",\n",
    "    kind=\"bar\",\n",
    "    col_wrap=4,\n",
    "    height=4,\n",
    "    sharey=False,\n",
    "    palette=\"muted\"\n",
    ")\n",
    "g.set_xticklabels(rotation=30)\n",
    "g.fig.suptitle(\"Average Rating by Response Strategy, Year & State\", y=1.03)\n",
    "plt.show()"
   ]
  },
  {
   "cell_type": "code",
   "execution_count": 2,
   "id": "c63c4c16",
   "metadata": {},
   "outputs": [],
   "source": [
    "%%python\n",
    "\n",
    "# --- 2. Heatmap: average rating by state and response_strategy ---\n",
    "pivot_df = df.pivot_table(\n",
    "    index=\"state\",\n",
    "    columns=\"response_strategy\",\n",
    "    values=\"avg_rating\",\n",
    "    aggfunc='mean'\n",
    ")\n",
    "\n",
    "plt.figure(figsize=(12,8))\n",
    "sns.heatmap(\n",
    "    pivot_df,\n",
    "    annot=True,\n",
    "    fmt=\".2f\",\n",
    "    cmap=\"coolwarm\",\n",
    "    center=df[\"avg_rating\"].mean()\n",
    ")\n",
    "plt.title(\"Heatmap: Average Rating by State and Response Strategy\")\n",
    "plt.ylabel(\"State\")\n",
    "plt.xlabel(\"Response Strategy\")\n",
    "plt.xticks(rotation=30)\n",
    "plt.show()"
   ]
  },
  {
   "cell_type": "code",
   "execution_count": 8,
   "id": "2285beab",
   "metadata": {},
   "outputs": [],
   "source": [
    "%%python\n",
    "\n",
    "# --- 3. Boxplot: distribution of avg_rating by state and response_strategy ---\n",
    "plt.figure(figsize=(16,6))\n",
    "sns.boxplot(\n",
    "    data=df,\n",
    "    x=\"state\",\n",
    "    y=\"avg_rating\",\n",
    "    hue=\"response_strategy\",\n",
    "    palette=\"Set2\"\n",
    ")\n",
    "plt.xticks(rotation=90)\n",
    "plt.title(\"Boxplot of Average Ratings by State and Response Strategy\")\n",
    "plt.legend(title=\"Response Strategy\", bbox_to_anchor=(1.05, 1), loc=2)\n",
    "plt.tight_layout()\n",
    "plt.show()"
   ]
  },
  {
   "cell_type": "code",
   "execution_count": 5,
   "id": "17be1924",
   "metadata": {},
   "outputs": [
    {
     "data": {
      "text/plain": [
       "{'application/vnd.plotly.v1+json': {'data': [{'coloraxis': 'coloraxis', 'geo': 'geo', 'hovertemplate': 'year=2021<br>state=%{location}<br>avg_rating=%{z}<extra></extra>', 'locationmode': 'USA-states', 'locations': ['NM', 'NH', 'TX', 'WA', 'NM', 'AL', 'Unknown', 'GA', 'AL', 'TX', 'Unknown', 'FL', 'GA', 'WA', 'MS', 'AL', 'MA', 'NM', 'Unknown', 'OR', 'WA', 'Unknown', 'TN', 'NH', 'ID', 'GA', 'MS', 'NM', 'MS', 'GA', 'NH', 'NH', 'AL', 'OR', 'OR', 'MS', 'WA', 'TN'], 'name': '', 'z': {'dtype': 'f8', 'bdata': '5ZpoSYeeEUCuR9eks8wRQKEaGwgAQxBA/KM18cVrEUAS6MFEEaAQQIutv2F83xBAR9RSqex4EkCrRC14T9oRQCgco+7BOhFAMzMzMzMzE0Ae4zEe47ESQHTRRRddNBFAVVVVVVVVDUCQztAouk0RQEr2pF1n6RBAT3lsb3onEUAAAAAAAAAQQEFUdBYrKBFAHgiKm3kEEkAAAAAAAAATQLSZGI4pExJAb/mWb/mWE0CrqqqqqqoSQIBwFGPbnRFAVlVVVVVVE0AAAAAAAAAUQPZ+uQNkbxBA9g+sYDj3EECuE1Mqp5YRQOM4juM4jhFAKwf/l4csEkDS9X3smb8RQHfFpXgj0BFAAAAAAAAAFEAWX/EVX/ESQNTmhJjj2BBAS470fj88EUDDMAzDMIwJQA=='}, 'type': 'choropleth'}], 'layout': {'template': {'data': {'histogram2dcontour': [{'type': 'histogram2dcontour', 'colorbar': {'outlinewidth': 0, 'ticks': ''}, 'colorscale': [[0.0, '#0d0887'], [0.1111111111111111, '#46039f'], [0.2222222222222222, '#7201a8'], [0.3333333333333333, '#9c179e'], [0.4444444444444444, '#bd3786'], [0.5555555555555556, '#d8576b'], [0.6666666666666666, '#ed7953'], [0.7777777777777778, '#fb9f3a'], [0.8888888888888888, '#fdca26'], [1.0, '#f0f921']]}], 'choropleth': [{'type': 'choropleth', 'colorbar': {'outlinewidth': 0, 'ticks': ''}}], 'histogram2d': [{'type': 'histogram2d', 'colorbar': {'outlinewidth': 0, 'ticks': ''}, 'colorscale': [[0.0, '#0d0887'], [0.1111111111111111, '#46039f'], [0.2222222222222222, '#7201a8'], [0.3333333333333333, '#9c179e'], [0.4444444444444444, '#bd3786'], [0.5555555555555556, '#d8576b'], [0.6666666666666666, '#ed7953'], [0.7777777777777778, '#fb9f3a'], [0.8888888888888888, '#fdca26'], [1.0, '#f0f921']]}], 'heatmap': [{'type': 'heatmap', 'colorbar': {'outlinewidth': 0, 'ticks': ''}, 'colorscale': [[0.0, '#0d0887'], [0.1111111111111111, '#46039f'], [0.2222222222222222, '#7201a8'], [0.3333333333333333, '#9c179e'], [0.4444444444444444, '#bd3786'], [0.5555555555555556, '#d8576b'], [0.6666666666666666, '#ed7953'], [0.7777777777777778, '#fb9f3a'], [0.8888888888888888, '#fdca26'], [1.0, '#f0f921']]}], 'contourcarpet': [{'type': 'contourcarpet', 'colorbar': {'outlinewidth': 0, 'ticks': ''}}], 'contour': [{'type': 'contour', 'colorbar': {'outlinewidth': 0, 'ticks': ''}, 'colorscale': [[0.0, '#0d0887'], [0.1111111111111111, '#46039f'], [0.2222222222222222, '#7201a8'], [0.3333333333333333, '#9c179e'], [0.4444444444444444, '#bd3786'], [0.5555555555555556, '#d8576b'], [0.6666666666666666, '#ed7953'], [0.7777777777777778, '#fb9f3a'], [0.8888888888888888, '#fdca26'], [1.0, '#f0f921']]}], 'surface': [{'type': 'surface', 'colorbar': {'outlinewidth': 0, 'ticks': ''}, 'colorscale': [[0.0, '#0d0887'], [0.1111111111111111, '#46039f'], [0.2222222222222222, '#7201a8'], [0.3333333333333333, '#9c179e'], [0.4444444444444444, '#bd3786'], [0.5555555555555556, '#d8576b'], [0.6666666666666666, '#ed7953'], [0.7777777777777778, '#fb9f3a'], [0.8888888888888888, '#fdca26'], [1.0, '#f0f921']]}], 'mesh3d': [{'type': 'mesh3d', 'colorbar': {'outlinewidth': 0, 'ticks': ''}}], 'scatter': [{'fillpattern': {'fillmode': 'overlay', 'size': 10, 'solidity': 0.2}, 'type': 'scatter'}], 'parcoords': [{'type': 'parcoords', 'line': {'colorbar': {'outlinewidth': 0, 'ticks': ''}}}], 'scatterpolargl': [{'type': 'scatterpolargl', 'marker': {'colorbar': {'outlinewidth': 0, 'ticks': ''}}}], 'bar': [{'error_x': {'color': '#2a3f5f'}, 'error_y': {'color': '#2a3f5f'}, 'marker': {'line': {'color': '#E5ECF6', 'width': 0.5}, 'pattern': {'fillmode': 'overlay', 'size': 10, 'solidity': 0.2}}, 'type': 'bar'}], 'scattergeo': [{'type': 'scattergeo', 'marker': {'colorbar': {'outlinewidth': 0, 'ticks': ''}}}], 'scatterpolar': [{'type': 'scatterpolar', 'marker': {'colorbar': {'outlinewidth': 0, 'ticks': ''}}}], 'histogram': [{'marker': {'pattern': {'fillmode': 'overlay', 'size': 10, 'solidity': 0.2}}, 'type': 'histogram'}], 'scattergl': [{'type': 'scattergl', 'marker': {'colorbar': {'outlinewidth': 0, 'ticks': ''}}}], 'scatter3d': [{'type': 'scatter3d', 'line': {'colorbar': {'outlinewidth': 0, 'ticks': ''}}, 'marker': {'colorbar': {'outlinewidth': 0, 'ticks': ''}}}], 'scattermap': [{'type': 'scattermap', 'marker': {'colorbar': {'outlinewidth': 0, 'ticks': ''}}}], 'scattermapbox': [{'type': 'scattermapbox', 'marker': {'colorbar': {'outlinewidth': 0, 'ticks': ''}}}], 'scatterternary': [{'type': 'scatterternary', 'marker': {'colorbar': {'outlinewidth': 0, 'ticks': ''}}}], 'scattercarpet': [{'type': 'scattercarpet', 'marker': {'colorbar': {'outlinewidth': 0, 'ticks': ''}}}], 'carpet': [{'aaxis': {'endlinecolor': '#2a3f5f', 'gridcolor': 'white', 'linecolor': 'white', 'minorgridcolor': 'white', 'startlinecolor': '#2a3f5f'}, 'baxis': {'endlinecolor': '#2a3f5f', 'gridcolor': 'white', 'linecolor': 'white', 'minorgridcolor': 'white', 'startlinecolor': '#2a3f5f'}, 'type': 'carpet'}], 'table': [{'cells': {'fill': {'color': '#EBF0F8'}, 'line': {'color': 'white'}}, 'header': {'fill': {'color': '#C8D4E3'}, 'line': {'color': 'white'}}, 'type': 'table'}], 'barpolar': [{'marker': {'line': {'color': '#E5ECF6', 'width': 0.5}, 'pattern': {'fillmode': 'overlay', 'size': 10, 'solidity': 0.2}}, 'type': 'barpolar'}], 'pie': [{'automargin': True, 'type': 'pie'}]}, 'layout': {'autotypenumbers': 'strict', 'colorway': ['#636efa', '#EF553B', '#00cc96', '#ab63fa', '#FFA15A', '#19d3f3', '#FF6692', '#B6E880', '#FF97FF', '#FECB52'], 'font': {'color': '#2a3f5f'}, 'hovermode': 'closest', 'hoverlabel': {'align': 'left'}, 'paper_bgcolor': 'white', 'plot_bgcolor': '#E5ECF6', 'polar': {'bgcolor': '#E5ECF6', 'angularaxis': {'gridcolor': 'white', 'linecolor': 'white', 'ticks': ''}, 'radialaxis': {'gridcolor': 'white', 'linecolor': 'white', 'ticks': ''}}, 'ternary': {'bgcolor': '#E5ECF6', 'aaxis': {'gridcolor': 'white', 'linecolor': 'white', 'ticks': ''}, 'baxis': {'gridcolor': 'white', 'linecolor': 'white', 'ticks': ''}, 'caxis': {'gridcolor': 'white', 'linecolor': 'white', 'ticks': ''}}, 'coloraxis': {'colorbar': {'outlinewidth': 0, 'ticks': ''}}, 'colorscale': {'sequential': [[0.0, '#0d0887'], [0.1111111111111111, '#46039f'], [0.2222222222222222, '#7201a8'], [0.3333333333333333, '#9c179e'], [0.4444444444444444, '#bd3786'], [0.5555555555555556, '#d8576b'], [0.6666666666666666, '#ed7953'], [0.7777777777777778, '#fb9f3a'], [0.8888888888888888, '#fdca26'], [1.0, '#f0f921']], 'sequentialminus': [[0.0, '#0d0887'], [0.1111111111111111, '#46039f'], [0.2222222222222222, '#7201a8'], [0.3333333333333333, '#9c179e'], [0.4444444444444444, '#bd3786'], [0.5555555555555556, '#d8576b'], [0.6666666666666666, '#ed7953'], [0.7777777777777778, '#fb9f3a'], [0.8888888888888888, '#fdca26'], [1.0, '#f0f921']], 'diverging': [[0, '#8e0152'], [0.1, '#c51b7d'], [0.2, '#de77ae'], [0.3, '#f1b6da'], [0.4, '#fde0ef'], [0.5, '#f7f7f7'], [0.6, '#e6f5d0'], [0.7, '#b8e186'], [0.8, '#7fbc41'], [0.9, '#4d9221'], [1, '#276419']]}, 'xaxis': {'gridcolor': 'white', 'linecolor': 'white', 'ticks': '', 'title': {'standoff': 15}, 'zerolinecolor': 'white', 'automargin': True, 'zerolinewidth': 2}, 'yaxis': {'gridcolor': 'white', 'linecolor': 'white', 'ticks': '', 'title': {'standoff': 15}, 'zerolinecolor': 'white', 'automargin': True, 'zerolinewidth': 2}, 'scene': {'xaxis': {'backgroundcolor': '#E5ECF6', 'gridcolor': 'white', 'linecolor': 'white', 'showbackground': True, 'ticks': '', 'zerolinecolor': 'white', 'gridwidth': 2}, 'yaxis': {'backgroundcolor': '#E5ECF6', 'gridcolor': 'white', 'linecolor': 'white', 'showbackground': True, 'ticks': '', 'zerolinecolor': 'white', 'gridwidth': 2}, 'zaxis': {'backgroundcolor': '#E5ECF6', 'gridcolor': 'white', 'linecolor': 'white', 'showbackground': True, 'ticks': '', 'zerolinecolor': 'white', 'gridwidth': 2}}, 'shapedefaults': {'line': {'color': '#2a3f5f'}}, 'annotationdefaults': {'arrowcolor': '#2a3f5f', 'arrowhead': 0, 'arrowwidth': 1}, 'geo': {'bgcolor': 'white', 'landcolor': '#E5ECF6', 'subunitcolor': 'white', 'showland': True, 'showlakes': True, 'lakecolor': 'white'}, 'title': {'x': 0.05}, 'mapbox': {'style': 'light'}}}, 'geo': {'domain': {'x': [0.0, 1.0], 'y': [0.0, 1.0]}, 'center': {}, 'scope': 'usa'}, 'coloraxis': {'colorbar': {'title': {'text': 'avg_rating'}}, 'colorscale': [[0.0, '#0d0887'], [0.1111111111111111, '#46039f'], [0.2222222222222222, '#7201a8'], [0.3333333333333333, '#9c179e'], [0.4444444444444444, '#bd3786'], [0.5555555555555556, '#d8576b'], [0.6666666666666666, '#ed7953'], [0.7777777777777778, '#fb9f3a'], [0.8888888888888888, '#fdca26'], [1.0, '#f0f921']]}, 'legend': {'tracegroupgap': 0}, 'title': {'text': 'Choropleth: Avg Rating by State'}, 'updatemenus': [{'buttons': [{'args': [None, {'frame': {'duration': 500, 'redraw': True}, 'mode': 'immediate', 'fromcurrent': True, 'transition': {'duration': 500, 'easing': 'linear'}}], 'label': '&#9654;', 'method': 'animate'}, {'args': [[None], {'frame': {'duration': 0, 'redraw': True}, 'mode': 'immediate', 'fromcurrent': True, 'transition': {'duration': 0, 'easing': 'linear'}}], 'label': '&#9724;', 'method': 'animate'}], 'direction': 'left', 'pad': {'r': 10, 't': 70}, 'showactive': False, 'type': 'buttons', 'x': 0.1, 'xanchor': 'right', 'y': 0, 'yanchor': 'top'}], 'sliders': [{'active': 0, 'currentvalue': {'prefix': 'year='}, 'len': 0.9, 'pad': {'b': 10, 't': 60}, 'steps': [{'args': [['2021'], {'frame': {'duration': 0, 'redraw': True}, 'mode': 'immediate', 'fromcurrent': True, 'transition': {'duration': 0, 'easing': 'linear'}}], 'label': '2021', 'method': 'animate'}, {'args': [['2019'], {'frame': {'duration': 0, 'redraw': True}, 'mode': 'immediate', 'fromcurrent': True, 'transition': {'duration': 0, 'easing': 'linear'}}], 'label': '2019', 'method': 'animate'}, {'args': [['2020'], {'frame': {'duration': 0, 'redraw': True}, 'mode': 'immediate', 'fromcurrent': True, 'transition': {'duration': 0, 'easing': 'linear'}}], 'label': '2020', 'method': 'animate'}, {'args': [['2016'], {'frame': {'duration': 0, 'redraw': True}, 'mode': 'immediate', 'fromcurrent': True, 'transition': {'duration': 0, 'easing': 'linear'}}], 'label': '2016', 'method': 'animate'}, {'args': [['2018'], {'frame': {'duration': 0, 'redraw': True}, 'mode': 'immediate', 'fromcurrent': True, 'transition': {'duration': 0, 'easing': 'linear'}}], 'label': '2018', 'method': 'animate'}, {'args': [['2017'], {'frame': {'duration': 0, 'redraw': True}, 'mode': 'immediate', 'fromcurrent': True, 'transition': {'duration': 0, 'easing': 'linear'}}], 'label': '2017', 'method': 'animate'}, {'args': [['2015'], {'frame': {'duration': 0, 'redraw': True}, 'mode': 'immediate', 'fromcurrent': True, 'transition': {'duration': 0, 'easing': 'linear'}}], 'label': '2015', 'method': 'animate'}], 'x': 0.1, 'xanchor': 'left', 'y': 0, 'yanchor': 'top'}]}, 'frames': [{'data': [{'coloraxis': 'coloraxis', 'geo': 'geo', 'hovertemplate': 'year=2021<br>state=%{location}<br>avg_rating=%{z}<extra></extra>', 'locationmode': 'USA-states', 'locations': ['NM', 'NH', 'TX', 'WA', 'NM', 'AL', 'Unknown', 'GA', 'AL', 'TX', 'Unknown', 'FL', 'GA', 'WA', 'MS', 'AL', 'MA', 'NM', 'Unknown', 'OR', 'WA', 'Unknown', 'TN', 'NH', 'ID', 'GA', 'MS', 'NM', 'MS', 'GA', 'NH', 'NH', 'AL', 'OR', 'OR', 'MS', 'WA', 'TN'], 'name': '', 'z': {'dtype': 'f8', 'bdata': '5ZpoSYeeEUCuR9eks8wRQKEaGwgAQxBA/KM18cVrEUAS6MFEEaAQQIutv2F83xBAR9RSqex4EkCrRC14T9oRQCgco+7BOhFAMzMzMzMzE0Ae4zEe47ESQHTRRRddNBFAVVVVVVVVDUCQztAouk0RQEr2pF1n6RBAT3lsb3onEUAAAAAAAAAQQEFUdBYrKBFAHgiKm3kEEkAAAAAAAAATQLSZGI4pExJAb/mWb/mWE0CrqqqqqqoSQIBwFGPbnRFAVlVVVVVVE0AAAAAAAAAUQPZ+uQNkbxBA9g+sYDj3EECuE1Mqp5YRQOM4juM4jhFAKwf/l4csEkDS9X3smb8RQHfFpXgj0BFAAAAAAAAAFEAWX/EVX/ESQNTmhJjj2BBAS470fj88EUDDMAzDMIwJQA=='}, 'type': 'choropleth'}], 'name': '2021'}, {'data': [{'coloraxis': 'coloraxis', 'geo': 'geo', 'hovertemplate': 'year=2019<br>state=%{location}<br>avg_rating=%{z}<extra></extra>', 'locationmode': 'USA-states', 'locations': ['MS', 'TX', 'Unknown', 'WA', 'MS', 'VT', 'OR', 'AL', 'TN', 'NH', 'MS', 'MA', 'OR', 'AL', 'ID', 'TN', 'TX', 'GA', 'NH', 'GA', 'NM', 'WA', 'Unknown', 'NM', 'WA', 'AL', 'OR', 'GA', 'NH', 'Unknown', 'NM', 'AL', 'TX', 'WA', 'MS', 'TN', 'NM', 'FL', 'Unknown', 'NH'], 'name': '', 'z': {'dtype': 'f8', 'bdata': 'WvmweAMcEUAAAAAAAAATQPplq6o3ZRJA6CNCsHU8EUAx0VgsIQMRQAAAAAAAABRAAAAAAAAAEkDgH/GrpyARQDMzMzMzMxNAAx5fLChbEUBSYX06CUQRQAAAAAAAABJA1qdACk6UEUDnoSYK8dYQQAAAAAAAABJAJUmSJEmSEUBiIgjHWEcRQKpX+3ud+hFAKd5HBWOeEUCrqqqqqqoSQOxrOq4YPRFAhBBglQmbEUCwINKTWSASQHx5BDkmExFAmzdaDuMKEUCESd6cUUQRQDLGGGOMMRJAHMdxHMfxEEDyRj5JZZgRQPkoAOQNYRJAOebwDOLjEEB/5G5V254RQFZVVVVV1RBAgnnZvU8uEUBCtZ4gqv8QQOLh4eHhYRFAoRVfHw3SEEA9z/M8zzMSQL5RPTHUAxJApP5YwF+QEUA='}, 'type': 'choropleth'}], 'name': '2019'}, {'data': [{'coloraxis': 'coloraxis', 'geo': 'geo', 'hovertemplate': 'year=2020<br>state=%{location}<br>avg_rating=%{z}<extra></extra>', 'locationmode': 'USA-states', 'locations': ['ID', 'GA', 'OR', 'MS', 'Unknown', 'WA', 'AL', 'MS', 'Unknown', 'TX', 'TN', 'TX', 'MA', 'GA', 'WA', 'NM', 'NM', 'OR', 'FL', 'NH', 'TX', 'NH', 'AL', 'NH', 'MS', 'WA', 'GA', 'Unknown', 'MS', 'OR', 'AL', 'NM', 'FL', 'NH', 'WA', 'AL', 'Unknown', 'NM', 'TN'], 'name': '', 'z': {'dtype': 'f8', 'bdata': 'AAAAAAAAE0AksZ5R6/YRQLETO7ETOxFAfhobkygZEUCsg+lI8/gSQFQRmSFRRhFAfD1/08XjEEB9F0HbNw0RQNFRC77TMBNAt23btm3bEkAAAAAAAAASQPvQWB8aaxBAq6qqqqqqEkAAAAAAAAAUQLZ61NCqXxFACqam9RP3EECwXsGCFbYQQLNJkxXd4A9A7+7u7u7uEkBdQ7akCn4RQIYsZCELWRBACfCwBLjPEUBBe6huIjoRQDmzJke7aBFAes0JTuK1EUCKMspzbvkRQHlKkKcE+Q5AaSTgm1fTEUAv3jAIsMYQQAAAAAAAAAtAfcQHZ18vEUCV1rNkCagRQAAAAAAAABRAamb5JA+QEUCbhNkmigIRQOC2pHjY5hFAf0ut6uJLEkD8K5IQ/fwQQBERERERERBA'}, 'type': 'choropleth'}], 'name': '2020'}, {'data': [{'coloraxis': 'coloraxis', 'geo': 'geo', 'hovertemplate': 'year=2016<br>state=%{location}<br>avg_rating=%{z}<extra></extra>', 'locationmode': 'USA-states', 'locations': ['NM', 'FL', 'GA', 'WA', 'AL', 'NH', 'WA', 'TX', 'NM', 'Unknown', 'AL', 'NM', 'NH', 'FL', 'Unknown', 'GA', 'MS', 'OR', 'TN', 'MS', 'MS', 'Unknown', 'NH', 'NM', 'AL', 'WA', 'MA', 'NH', 'AL', 'OR', 'WA', 'MS'], 'name': '', 'z': {'dtype': 'f8', 'bdata': 'NWEfAi4gEEAAAAAAAEARQI/jOI7jOBFAc7N5f5hfEEDEEcK+EjQQQMNA1s8lDBFAaZOTrarwD0CrqqqqqqoSQMHRHGKOIxBAL85Dx/DiEkCBkRoco0oQQHxnnrt1DBBAANsAbAOwEEAAAAAAAAAUQDMzMzMzMxNAAAAAAAAACEAKQdOu92UQQKqqqqqqqhJAAAAAAAAABEAHL/NMRtAQQO468E+t9RBA2uQcrpUoEkC9yFkRwrEQQHclN0RvVxBAfbpEv8KFEEC+q3mjFFYQQAAAAAAAAPA/IoDc2XoeEEAnUckCCDcQQBRFURRFURBAXr5L+3N5EEDzPLW8DBIQQA=='}, 'type': 'choropleth'}], 'name': '2016'}, {'data': [{'coloraxis': 'coloraxis', 'geo': 'geo', 'hovertemplate': 'year=2018<br>state=%{location}<br>avg_rating=%{z}<extra></extra>', 'locationmode': 'USA-states', 'locations': ['GA', 'NH', 'Unknown', 'NM', 'NM', 'AL', 'GA', 'GA', 'OR', 'TX', 'Unknown', 'Unknown', 'NH', 'TX', 'NM', 'WA', 'MS', 'OR', 'WA', 'TN', 'OR', 'AL', 'WA', 'NM', 'MS', 'ID', 'WA', 'MS', 'OR', 'FL', 'AL', 'NH', 'MA', 'Unknown', 'AL', 'NH', 'MS'], 'name': '', 'z': {'dtype': 'f8', 'bdata': 'XOLU77klEUBJD8ojHTgRQPPwPwt3oRJANGyVvR+hEEA3FGIPM8sQQB2JhWTWXRFA1bKjYjdJEUAAAAAAAAAEQN5oXQS3mhBA0iAN0iCNEUAT1C1fjAoSQIhp5RpF2RBA4w4SiUKaEUAqVlvFwg0RQNJdCTQ0khFAyDAOxLz8EED4iTKSRBYRQAAAAAAAAAxAPSmqEYcIEUD4c/Qa/pwRQAAAAAAAAAxA0OZYHsjwEECCZnINxWERQPFmMtIO2RBAbiXXKUeMEEAAAAAAAAATQFKuI3n5BhFACDBwMqaGEUCkcD0K16MQQK0jG9y7zRBAk6Dlw8k3EUClV7pBOCcRQDMzMzMzMxFAsy3Gy6+bEkBT4hIiQa4QQDYqWVgWRRFAeEfPkj3YEEA='}, 'type': 'choropleth'}], 'name': '2018'}, {'data': [{'coloraxis': 'coloraxis', 'geo': 'geo', 'hovertemplate': 'year=2017<br>state=%{location}<br>avg_rating=%{z}<extra></extra>', 'locationmode': 'USA-states', 'locations': ['Unknown', 'TN', 'GA', 'NH', 'FL', 'WA', 'NH', 'NH', 'NM', 'OR', 'TX', 'AL', 'WA', 'NM', 'MA', 'OR', 'WA', 'AL', 'AL', 'AL', 'FL', 'Unknown', 'WA', 'Unknown', 'OR', 'ID', 'GA', 'NH', 'NM', 'MS', 'Unknown', 'MS', 'NM', 'GA', 'MS', 'TN', 'MS', 'TX'], 'name': '', 'z': {'dtype': 'f8', 'bdata': 'waY8KdbdEkCamZmZmZkRQDMzMzMzMxFAnIy611+9EEBFF1100UURQIz5va8N4xBAfrt792XTEEBmD6KPCTERQJ4fsOf8XBBAoQ7qoA7qDEAWX/EVX1EQQK61djAK0hBAsuxpNvTPEEDvINw6SgERQAAAAAAAAA1AMzMzMzMzB0DGUWN6vdAQQOd43ykOhRFA8FH7y/HCEECNH5Wns50QQAAAAAAAQBJAsiEYEXSgEUDRZVfkBqEQQKn2JgXQDhJAmpmZmZmZEUAAAAAAAAASQOnPgEm9HBFApfXKf0NKEUDjLo89i0oQQOXmRVlxJBBAREREREREEkDEekqxbZAQQA+lvtN/hRBAAAAAAACAE0DZhASuJfoQQOzr6+vr6/s/J7rR4oaaEEAAAAAAAAAQQA=='}, 'type': 'choropleth'}], 'name': '2017'}, {'data': [{'coloraxis': 'coloraxis', 'geo': 'geo', 'hovertemplate': 'year=2015<br>state=%{location}<br>avg_rating=%{z}<extra></extra>', 'locationmode': 'USA-states', 'locations': ['TN', 'WA', 'OR', 'AL', 'NM', 'WA', 'TX', 'MS', 'TX', 'Unknown', 'FL', 'Unknown', 'AL', 'OR', 'AL', 'TN', 'NM', 'NH', 'WA', 'MS', 'NM', 'GA', 'AL', 'NH', 'NH', 'NM', 'MS', 'Unknown', 'NH', 'WA', 'Unknown', 'MS'], 'name': '', 'z': {'dtype': 'f8', 'bdata': 'AAAAAAAAFEDlYPn+4m4PQAAAAAAAAAxAb3rTm970D0BpA5020GkNQIT/xByZXhBAAAAAAAAAFEAInHxCtuoOQKuqqqqqqvo/27Zt27ZtE0AAAAAAAAASQFVVVVVVVQ1ArZ7wIkbGD0AAAAAAAAAQQKuqqqqqqhBAAAAAAAAAAEDe3d3d3d0RQL6E9hLabRBA2Z4GCMsNEEAAAAAAAAAQQIz3ZvjBAQ9Aq6qqqqqqEkDYmYDBY3kPQFVVVVVVVQ1AchzHcRzHEEANwzAMwzAPQAAAAAAAABFAER4CpnBMEkA8emVsv6MRQGdmZmZmphBAAAAAAADAEkCnaZqmaZoOQA=='}, 'type': 'choropleth'}], 'name': '2015'}], 'config': {'plotlyServerURL': 'https://plot.ly'}}}"
      ]
     },
     "metadata": {},
     "output_type": "display_data"
    },
    {
     "data": {
      "text/plain": [
       "{'application/vnd.plotly.v1+json': {'data': [{'hovertemplate': 'state=%{x}<br>avg_rating=%{y}<extra></extra>', 'legendgroup': '', 'marker': {'color': '#636efa', 'pattern': {'shape': ''}}, 'name': '', 'orientation': 'v', 'showlegend': False, 'textposition': 'auto', 'x': ['AL', 'FL', 'GA', 'ID', 'MA', 'MS', 'NH', 'NM', 'OR', 'TN', 'TX', 'Unknown', 'VT', 'WA'], 'xaxis': 'x', 'y': {'dtype': 'f8', 'bdata': 'p2gKUHzgEEBCFJDbEDESQIEnhv9fAxFAq6qqqqqqEkBLn/RJn3QNQAiozm3qwBBAtt5XWaUuEUBdQQptSK4QQKxTOmffaRBAruH9ADK/DkAU9ctaidQQQJlvDdTMThJAAAAAAAAAFECWsaxjAPAQQA=='}, 'yaxis': 'y', 'type': 'bar'}], 'layout': {'template': {'data': {'histogram2dcontour': [{'type': 'histogram2dcontour', 'colorbar': {'outlinewidth': 0, 'ticks': ''}, 'colorscale': [[0.0, '#0d0887'], [0.1111111111111111, '#46039f'], [0.2222222222222222, '#7201a8'], [0.3333333333333333, '#9c179e'], [0.4444444444444444, '#bd3786'], [0.5555555555555556, '#d8576b'], [0.6666666666666666, '#ed7953'], [0.7777777777777778, '#fb9f3a'], [0.8888888888888888, '#fdca26'], [1.0, '#f0f921']]}], 'choropleth': [{'type': 'choropleth', 'colorbar': {'outlinewidth': 0, 'ticks': ''}}], 'histogram2d': [{'type': 'histogram2d', 'colorbar': {'outlinewidth': 0, 'ticks': ''}, 'colorscale': [[0.0, '#0d0887'], [0.1111111111111111, '#46039f'], [0.2222222222222222, '#7201a8'], [0.3333333333333333, '#9c179e'], [0.4444444444444444, '#bd3786'], [0.5555555555555556, '#d8576b'], [0.6666666666666666, '#ed7953'], [0.7777777777777778, '#fb9f3a'], [0.8888888888888888, '#fdca26'], [1.0, '#f0f921']]}], 'heatmap': [{'type': 'heatmap', 'colorbar': {'outlinewidth': 0, 'ticks': ''}, 'colorscale': [[0.0, '#0d0887'], [0.1111111111111111, '#46039f'], [0.2222222222222222, '#7201a8'], [0.3333333333333333, '#9c179e'], [0.4444444444444444, '#bd3786'], [0.5555555555555556, '#d8576b'], [0.6666666666666666, '#ed7953'], [0.7777777777777778, '#fb9f3a'], [0.8888888888888888, '#fdca26'], [1.0, '#f0f921']]}], 'contourcarpet': [{'type': 'contourcarpet', 'colorbar': {'outlinewidth': 0, 'ticks': ''}}], 'contour': [{'type': 'contour', 'colorbar': {'outlinewidth': 0, 'ticks': ''}, 'colorscale': [[0.0, '#0d0887'], [0.1111111111111111, '#46039f'], [0.2222222222222222, '#7201a8'], [0.3333333333333333, '#9c179e'], [0.4444444444444444, '#bd3786'], [0.5555555555555556, '#d8576b'], [0.6666666666666666, '#ed7953'], [0.7777777777777778, '#fb9f3a'], [0.8888888888888888, '#fdca26'], [1.0, '#f0f921']]}], 'surface': [{'type': 'surface', 'colorbar': {'outlinewidth': 0, 'ticks': ''}, 'colorscale': [[0.0, '#0d0887'], [0.1111111111111111, '#46039f'], [0.2222222222222222, '#7201a8'], [0.3333333333333333, '#9c179e'], [0.4444444444444444, '#bd3786'], [0.5555555555555556, '#d8576b'], [0.6666666666666666, '#ed7953'], [0.7777777777777778, '#fb9f3a'], [0.8888888888888888, '#fdca26'], [1.0, '#f0f921']]}], 'mesh3d': [{'type': 'mesh3d', 'colorbar': {'outlinewidth': 0, 'ticks': ''}}], 'scatter': [{'fillpattern': {'fillmode': 'overlay', 'size': 10, 'solidity': 0.2}, 'type': 'scatter'}], 'parcoords': [{'type': 'parcoords', 'line': {'colorbar': {'outlinewidth': 0, 'ticks': ''}}}], 'scatterpolargl': [{'type': 'scatterpolargl', 'marker': {'colorbar': {'outlinewidth': 0, 'ticks': ''}}}], 'bar': [{'error_x': {'color': '#2a3f5f'}, 'error_y': {'color': '#2a3f5f'}, 'marker': {'line': {'color': '#E5ECF6', 'width': 0.5}, 'pattern': {'fillmode': 'overlay', 'size': 10, 'solidity': 0.2}}, 'type': 'bar'}], 'scattergeo': [{'type': 'scattergeo', 'marker': {'colorbar': {'outlinewidth': 0, 'ticks': ''}}}], 'scatterpolar': [{'type': 'scatterpolar', 'marker': {'colorbar': {'outlinewidth': 0, 'ticks': ''}}}], 'histogram': [{'marker': {'pattern': {'fillmode': 'overlay', 'size': 10, 'solidity': 0.2}}, 'type': 'histogram'}], 'scattergl': [{'type': 'scattergl', 'marker': {'colorbar': {'outlinewidth': 0, 'ticks': ''}}}], 'scatter3d': [{'type': 'scatter3d', 'line': {'colorbar': {'outlinewidth': 0, 'ticks': ''}}, 'marker': {'colorbar': {'outlinewidth': 0, 'ticks': ''}}}], 'scattermap': [{'type': 'scattermap', 'marker': {'colorbar': {'outlinewidth': 0, 'ticks': ''}}}], 'scattermapbox': [{'type': 'scattermapbox', 'marker': {'colorbar': {'outlinewidth': 0, 'ticks': ''}}}], 'scatterternary': [{'type': 'scatterternary', 'marker': {'colorbar': {'outlinewidth': 0, 'ticks': ''}}}], 'scattercarpet': [{'type': 'scattercarpet', 'marker': {'colorbar': {'outlinewidth': 0, 'ticks': ''}}}], 'carpet': [{'aaxis': {'endlinecolor': '#2a3f5f', 'gridcolor': 'white', 'linecolor': 'white', 'minorgridcolor': 'white', 'startlinecolor': '#2a3f5f'}, 'baxis': {'endlinecolor': '#2a3f5f', 'gridcolor': 'white', 'linecolor': 'white', 'minorgridcolor': 'white', 'startlinecolor': '#2a3f5f'}, 'type': 'carpet'}], 'table': [{'cells': {'fill': {'color': '#EBF0F8'}, 'line': {'color': 'white'}}, 'header': {'fill': {'color': '#C8D4E3'}, 'line': {'color': 'white'}}, 'type': 'table'}], 'barpolar': [{'marker': {'line': {'color': '#E5ECF6', 'width': 0.5}, 'pattern': {'fillmode': 'overlay', 'size': 10, 'solidity': 0.2}}, 'type': 'barpolar'}], 'pie': [{'automargin': True, 'type': 'pie'}]}, 'layout': {'autotypenumbers': 'strict', 'colorway': ['#636efa', '#EF553B', '#00cc96', '#ab63fa', '#FFA15A', '#19d3f3', '#FF6692', '#B6E880', '#FF97FF', '#FECB52'], 'font': {'color': '#2a3f5f'}, 'hovermode': 'closest', 'hoverlabel': {'align': 'left'}, 'paper_bgcolor': 'white', 'plot_bgcolor': '#E5ECF6', 'polar': {'bgcolor': '#E5ECF6', 'angularaxis': {'gridcolor': 'white', 'linecolor': 'white', 'ticks': ''}, 'radialaxis': {'gridcolor': 'white', 'linecolor': 'white', 'ticks': ''}}, 'ternary': {'bgcolor': '#E5ECF6', 'aaxis': {'gridcolor': 'white', 'linecolor': 'white', 'ticks': ''}, 'baxis': {'gridcolor': 'white', 'linecolor': 'white', 'ticks': ''}, 'caxis': {'gridcolor': 'white', 'linecolor': 'white', 'ticks': ''}}, 'coloraxis': {'colorbar': {'outlinewidth': 0, 'ticks': ''}}, 'colorscale': {'sequential': [[0.0, '#0d0887'], [0.1111111111111111, '#46039f'], [0.2222222222222222, '#7201a8'], [0.3333333333333333, '#9c179e'], [0.4444444444444444, '#bd3786'], [0.5555555555555556, '#d8576b'], [0.6666666666666666, '#ed7953'], [0.7777777777777778, '#fb9f3a'], [0.8888888888888888, '#fdca26'], [1.0, '#f0f921']], 'sequentialminus': [[0.0, '#0d0887'], [0.1111111111111111, '#46039f'], [0.2222222222222222, '#7201a8'], [0.3333333333333333, '#9c179e'], [0.4444444444444444, '#bd3786'], [0.5555555555555556, '#d8576b'], [0.6666666666666666, '#ed7953'], [0.7777777777777778, '#fb9f3a'], [0.8888888888888888, '#fdca26'], [1.0, '#f0f921']], 'diverging': [[0, '#8e0152'], [0.1, '#c51b7d'], [0.2, '#de77ae'], [0.3, '#f1b6da'], [0.4, '#fde0ef'], [0.5, '#f7f7f7'], [0.6, '#e6f5d0'], [0.7, '#b8e186'], [0.8, '#7fbc41'], [0.9, '#4d9221'], [1, '#276419']]}, 'xaxis': {'gridcolor': 'white', 'linecolor': 'white', 'ticks': '', 'title': {'standoff': 15}, 'zerolinecolor': 'white', 'automargin': True, 'zerolinewidth': 2}, 'yaxis': {'gridcolor': 'white', 'linecolor': 'white', 'ticks': '', 'title': {'standoff': 15}, 'zerolinecolor': 'white', 'automargin': True, 'zerolinewidth': 2}, 'scene': {'xaxis': {'backgroundcolor': '#E5ECF6', 'gridcolor': 'white', 'linecolor': 'white', 'showbackground': True, 'ticks': '', 'zerolinecolor': 'white', 'gridwidth': 2}, 'yaxis': {'backgroundcolor': '#E5ECF6', 'gridcolor': 'white', 'linecolor': 'white', 'showbackground': True, 'ticks': '', 'zerolinecolor': 'white', 'gridwidth': 2}, 'zaxis': {'backgroundcolor': '#E5ECF6', 'gridcolor': 'white', 'linecolor': 'white', 'showbackground': True, 'ticks': '', 'zerolinecolor': 'white', 'gridwidth': 2}}, 'shapedefaults': {'line': {'color': '#2a3f5f'}}, 'annotationdefaults': {'arrowcolor': '#2a3f5f', 'arrowhead': 0, 'arrowwidth': 1}, 'geo': {'bgcolor': 'white', 'landcolor': '#E5ECF6', 'subunitcolor': 'white', 'showland': True, 'showlakes': True, 'lakecolor': 'white'}, 'title': {'x': 0.05}, 'mapbox': {'style': 'light'}}}, 'xaxis': {'anchor': 'y', 'domain': [0.0, 1.0], 'title': {'text': 'state'}}, 'yaxis': {'anchor': 'x', 'domain': [0.0, 1.0], 'title': {'text': 'avg_rating'}}, 'legend': {'tracegroupgap': 0}, 'title': {'text': 'Average Rating by State'}, 'barmode': 'relative'}, 'config': {'plotlyServerURL': 'https://plot.ly'}}}"
      ]
     },
     "metadata": {},
     "output_type": "display_data"
    },
    {
     "data": {
      "text/plain": [
       "{'application/vnd.plotly.v1+json': {'data': [{'hovertemplate': 'state=AL<br>year=%{x}<br>avg_rating=%{y}<extra></extra>', 'legendgroup': 'AL', 'line': {'color': '#636efa', 'dash': 'solid'}, 'marker': {'symbol': 'circle'}, 'mode': 'lines', 'name': 'AL', 'orientation': 'v', 'showlegend': True, 'x': {'dtype': 'i2', 'bdata': '3wfgB+EH4gfjB+QH5Qc='}, 'xaxis': 'x', 'y': {'dtype': 'f8', 'bdata': 'CUGzujsREEC6qzon4E4QQASoeXPv7RBAtbw1WioNEUDyOxlqsTYRQAYNdQgITRFAHkIdDndEEUA='}, 'yaxis': 'y', 'type': 'scatter'}, {'hovertemplate': 'state=FL<br>year=%{x}<br>avg_rating=%{y}<extra></extra>', 'legendgroup': 'FL', 'line': {'color': '#EF553B', 'dash': 'solid'}, 'marker': {'symbol': 'circle'}, 'mode': 'lines', 'name': 'FL', 'orientation': 'v', 'showlegend': True, 'x': {'dtype': 'i2', 'bdata': '3wfgB+EH4gfjB+QH5Qc='}, 'xaxis': 'x', 'y': {'dtype': 'f8', 'bdata': 'AAAAAAAAEkAAAAAAAKASQKKLLrrowhFArSMb3LvNEEA9z/M8zzMSQHh3d3d3dxNAdNFFF100EUA='}, 'yaxis': 'y', 'type': 'scatter'}, {'hovertemplate': 'state=GA<br>year=%{x}<br>avg_rating=%{y}<extra></extra>', 'legendgroup': 'GA', 'line': {'color': '#00cc96', 'dash': 'solid'}, 'marker': {'symbol': 'circle'}, 'mode': 'lines', 'name': 'GA', 'orientation': 'v', 'showlegend': True, 'x': {'dtype': 'i2', 'bdata': '3wfgB+EH4gfjB+QH5Qc='}, 'xaxis': 'x', 'y': {'dtype': 'f8', 'bdata': 'q6qqqqqqEkCP4ziO4zgNQAkBPNT67xFAdWNQjEufDUAlQ10WBd0RQMucd4wk0RFADoqZwcyEEUA='}, 'yaxis': 'y', 'type': 'scatter'}, {'hovertemplate': 'state=MS<br>year=%{x}<br>avg_rating=%{y}<extra></extra>', 'legendgroup': 'MS', 'line': {'color': '#ab63fa', 'dash': 'solid'}, 'marker': {'symbol': 'circle'}, 'mode': 'lines', 'name': 'MS', 'orientation': 'v', 'showlegend': True, 'x': {'dtype': 'i2', 'bdata': '3wfgB+EH4gfjB+QH5Qc='}, 'xaxis': 'x', 'y': {'dtype': 'f8', 'bdata': 'bMFF+kfhD0D8+RoCfo8QQCqo2eZikhBAuklS4FsAEUBIeAkAthgRQGm3JbG8KBFA8JsNiRXyEEA='}, 'yaxis': 'y', 'type': 'scatter'}, {'hovertemplate': 'state=NH<br>year=%{x}<br>avg_rating=%{y}<extra></extra>', 'legendgroup': 'NH', 'line': {'color': '#FFA15A', 'dash': 'solid'}, 'marker': {'symbol': 'circle'}, 'mode': 'lines', 'name': 'NH', 'orientation': 'v', 'showlegend': True, 'x': {'dtype': 'i2', 'bdata': '3wfgB+EH4gfjB+QH5Qc='}, 'xaxis': 'x', 'y': {'dtype': 'f8', 'bdata': 'hnHzJthgEEAoWcOJGaMQQEnTqLcEAxFAAui7katPEUBwkM8OlIgRQELTYUWjkRFASy0aI6zVEUA='}, 'yaxis': 'y', 'type': 'scatter'}, {'hovertemplate': 'state=NM<br>year=%{x}<br>avg_rating=%{y}<extra></extra>', 'legendgroup': 'NM', 'line': {'color': '#19d3f3', 'dash': 'solid'}, 'marker': {'symbol': 'circle'}, 'mode': 'lines', 'name': 'NM', 'orientation': 'v', 'showlegend': True, 'x': {'dtype': 'i2', 'bdata': '3wfgB+EH4gfjB+QH5Qc='}, 'xaxis': 'x', 'y': {'dtype': 'f8', 'bdata': 'bx68PQTWD0D6bwRZ6CkQQCCF9oyUixBATNHMdOX1EEBQuOOEiwERQNOBa/uLFBFAzLlSAX8XEUA='}, 'yaxis': 'y', 'type': 'scatter'}, {'hovertemplate': 'state=OR<br>year=%{x}<br>avg_rating=%{y}<extra></extra>', 'legendgroup': 'OR', 'line': {'color': '#FF6692', 'dash': 'solid'}, 'marker': {'symbol': 'circle'}, 'mode': 'lines', 'name': 'OR', 'orientation': 'v', 'showlegend': True, 'x': {'dtype': 'i2', 'bdata': '3wfgB+EH4gfjB+QH5Qc='}, 'xaxis': 'x', 'y': {'dtype': 'f8', 'bdata': 'AAAAAAAADkDf933f930RQK3RGq3RGg1AwWxNB0efDkCtJHMknuwRQAd7WH0BHQ9AB3VQB3VQE0A='}, 'yaxis': 'y', 'type': 'scatter'}, {'hovertemplate': 'state=TN<br>year=%{x}<br>avg_rating=%{y}<extra></extra>', 'legendgroup': 'TN', 'line': {'color': '#B6E880', 'dash': 'solid'}, 'marker': {'symbol': 'circle'}, 'mode': 'lines', 'name': 'TN', 'orientation': 'v', 'showlegend': True, 'x': {'dtype': 'i2', 'bdata': '3wfgB+EH4gfjB+QH5Qc='}, 'xaxis': 'x', 'y': {'dtype': 'f8', 'bdata': 'AAAAAAAADEAAAAAAAAAEQJWUlJSUlAhA+HP0Gv6cEUBpH41oHw0SQIiIiIiICBFADMMwDMNwD0A='}, 'yaxis': 'y', 'type': 'scatter'}, {'hovertemplate': 'state=TX<br>year=%{x}<br>avg_rating=%{y}<extra></extra>', 'legendgroup': 'TX', 'line': {'color': '#FF97FF', 'dash': 'solid'}, 'marker': {'symbol': 'circle'}, 'mode': 'lines', 'name': 'TX', 'orientation': 'v', 'showlegend': True, 'x': {'dtype': 'i2', 'bdata': '3wfgB+EH4gfjB+QH5Qc='}, 'xaxis': 'x', 'y': {'dtype': 'f8', 'bdata': 'q6qqqqqqCkCrqqqqqqoSQIuv+IqvKBBAfju0y3FNEUA9fXQJOrQRQGjOMv0wNRFA6iannRm7EUA='}, 'yaxis': 'y', 'type': 'scatter'}, {'hovertemplate': 'state=Unknown<br>year=%{x}<br>avg_rating=%{y}<extra></extra>', 'legendgroup': 'Unknown', 'line': {'color': '#FECB52', 'dash': 'solid'}, 'marker': {'symbol': 'circle'}, 'mode': 'lines', 'name': 'Unknown', 'orientation': 'v', 'showlegend': True, 'x': {'dtype': 'i2', 'bdata': '3wfgB+EH4gfjB+QH5Qc='}, 'xaxis': 'x', 'y': {'dtype': 'f8', 'bdata': '5p8GizTJEUC/TDE4k78SQNgA8KBXNBJAEFdGFD4IEkBYwO7UnDoSQFmRYGNAkhJAPG6ptJCxEkA='}, 'yaxis': 'y', 'type': 'scatter'}, {'hovertemplate': 'state=WA<br>year=%{x}<br>avg_rating=%{y}<extra></extra>', 'legendgroup': 'WA', 'line': {'color': '#636efa', 'dash': 'solid'}, 'marker': {'symbol': 'circle'}, 'mode': 'lines', 'name': 'WA', 'orientation': 'v', 'showlegend': True, 'x': {'dtype': 'i2', 'bdata': '3wfgB+EH4gfjB+QH5Qc='}, 'xaxis': 'x', 'y': {'dtype': 'f8', 'bdata': 'Tq2rAo8yEEDROUKd3UkQQHWnOJExyRBAtpsTl4AbEUBieXWELEQRQMxQRCN9aBFAo+bESTqCEUA='}, 'yaxis': 'y', 'type': 'scatter'}, {'hovertemplate': 'state=MA<br>year=%{x}<br>avg_rating=%{y}<extra></extra>', 'legendgroup': 'MA', 'line': {'color': '#EF553B', 'dash': 'solid'}, 'marker': {'symbol': 'circle'}, 'mode': 'lines', 'name': 'MA', 'orientation': 'v', 'showlegend': True, 'x': {'dtype': 'i2', 'bdata': '4AfhB+IH4wfkB+UH'}, 'xaxis': 'x', 'y': {'dtype': 'f8', 'bdata': 'AAAAAAAA8D8AAAAAAAANQDMzMzMzMxFAAAAAAAAAEkCrqqqqqqoSQAAAAAAAABBA'}, 'yaxis': 'y', 'type': 'scatter'}, {'hovertemplate': 'state=ID<br>year=%{x}<br>avg_rating=%{y}<extra></extra>', 'legendgroup': 'ID', 'line': {'color': '#00cc96', 'dash': 'solid'}, 'marker': {'symbol': 'circle'}, 'mode': 'lines', 'name': 'ID', 'orientation': 'v', 'showlegend': True, 'x': {'dtype': 'i2', 'bdata': '4QfiB+MH5AflBw=='}, 'xaxis': 'x', 'y': {'dtype': 'f8', 'bdata': 'AAAAAAAAEkAAAAAAAAATQAAAAAAAABJAAAAAAAAAE0BWVVVVVVUTQA=='}, 'yaxis': 'y', 'type': 'scatter'}, {'hovertemplate': 'state=VT<br>year=%{x}<br>avg_rating=%{y}<extra></extra>', 'legendgroup': 'VT', 'line': {'color': '#ab63fa', 'dash': 'solid'}, 'marker': {'symbol': 'circle'}, 'mode': 'lines', 'name': 'VT', 'orientation': 'v', 'showlegend': True, 'x': {'dtype': 'i2', 'bdata': '4wc='}, 'xaxis': 'x', 'y': {'dtype': 'f8', 'bdata': 'AAAAAAAAFEA='}, 'yaxis': 'y', 'type': 'scatter'}], 'layout': {'template': {'data': {'histogram2dcontour': [{'type': 'histogram2dcontour', 'colorbar': {'outlinewidth': 0, 'ticks': ''}, 'colorscale': [[0.0, '#0d0887'], [0.1111111111111111, '#46039f'], [0.2222222222222222, '#7201a8'], [0.3333333333333333, '#9c179e'], [0.4444444444444444, '#bd3786'], [0.5555555555555556, '#d8576b'], [0.6666666666666666, '#ed7953'], [0.7777777777777778, '#fb9f3a'], [0.8888888888888888, '#fdca26'], [1.0, '#f0f921']]}], 'choropleth': [{'type': 'choropleth', 'colorbar': {'outlinewidth': 0, 'ticks': ''}}], 'histogram2d': [{'type': 'histogram2d', 'colorbar': {'outlinewidth': 0, 'ticks': ''}, 'colorscale': [[0.0, '#0d0887'], [0.1111111111111111, '#46039f'], [0.2222222222222222, '#7201a8'], [0.3333333333333333, '#9c179e'], [0.4444444444444444, '#bd3786'], [0.5555555555555556, '#d8576b'], [0.6666666666666666, '#ed7953'], [0.7777777777777778, '#fb9f3a'], [0.8888888888888888, '#fdca26'], [1.0, '#f0f921']]}], 'heatmap': [{'type': 'heatmap', 'colorbar': {'outlinewidth': 0, 'ticks': ''}, 'colorscale': [[0.0, '#0d0887'], [0.1111111111111111, '#46039f'], [0.2222222222222222, '#7201a8'], [0.3333333333333333, '#9c179e'], [0.4444444444444444, '#bd3786'], [0.5555555555555556, '#d8576b'], [0.6666666666666666, '#ed7953'], [0.7777777777777778, '#fb9f3a'], [0.8888888888888888, '#fdca26'], [1.0, '#f0f921']]}], 'contourcarpet': [{'type': 'contourcarpet', 'colorbar': {'outlinewidth': 0, 'ticks': ''}}], 'contour': [{'type': 'contour', 'colorbar': {'outlinewidth': 0, 'ticks': ''}, 'colorscale': [[0.0, '#0d0887'], [0.1111111111111111, '#46039f'], [0.2222222222222222, '#7201a8'], [0.3333333333333333, '#9c179e'], [0.4444444444444444, '#bd3786'], [0.5555555555555556, '#d8576b'], [0.6666666666666666, '#ed7953'], [0.7777777777777778, '#fb9f3a'], [0.8888888888888888, '#fdca26'], [1.0, '#f0f921']]}], 'surface': [{'type': 'surface', 'colorbar': {'outlinewidth': 0, 'ticks': ''}, 'colorscale': [[0.0, '#0d0887'], [0.1111111111111111, '#46039f'], [0.2222222222222222, '#7201a8'], [0.3333333333333333, '#9c179e'], [0.4444444444444444, '#bd3786'], [0.5555555555555556, '#d8576b'], [0.6666666666666666, '#ed7953'], [0.7777777777777778, '#fb9f3a'], [0.8888888888888888, '#fdca26'], [1.0, '#f0f921']]}], 'mesh3d': [{'type': 'mesh3d', 'colorbar': {'outlinewidth': 0, 'ticks': ''}}], 'scatter': [{'fillpattern': {'fillmode': 'overlay', 'size': 10, 'solidity': 0.2}, 'type': 'scatter'}], 'parcoords': [{'type': 'parcoords', 'line': {'colorbar': {'outlinewidth': 0, 'ticks': ''}}}], 'scatterpolargl': [{'type': 'scatterpolargl', 'marker': {'colorbar': {'outlinewidth': 0, 'ticks': ''}}}], 'bar': [{'error_x': {'color': '#2a3f5f'}, 'error_y': {'color': '#2a3f5f'}, 'marker': {'line': {'color': '#E5ECF6', 'width': 0.5}, 'pattern': {'fillmode': 'overlay', 'size': 10, 'solidity': 0.2}}, 'type': 'bar'}], 'scattergeo': [{'type': 'scattergeo', 'marker': {'colorbar': {'outlinewidth': 0, 'ticks': ''}}}], 'scatterpolar': [{'type': 'scatterpolar', 'marker': {'colorbar': {'outlinewidth': 0, 'ticks': ''}}}], 'histogram': [{'marker': {'pattern': {'fillmode': 'overlay', 'size': 10, 'solidity': 0.2}}, 'type': 'histogram'}], 'scattergl': [{'type': 'scattergl', 'marker': {'colorbar': {'outlinewidth': 0, 'ticks': ''}}}], 'scatter3d': [{'type': 'scatter3d', 'line': {'colorbar': {'outlinewidth': 0, 'ticks': ''}}, 'marker': {'colorbar': {'outlinewidth': 0, 'ticks': ''}}}], 'scattermap': [{'type': 'scattermap', 'marker': {'colorbar': {'outlinewidth': 0, 'ticks': ''}}}], 'scattermapbox': [{'type': 'scattermapbox', 'marker': {'colorbar': {'outlinewidth': 0, 'ticks': ''}}}], 'scatterternary': [{'type': 'scatterternary', 'marker': {'colorbar': {'outlinewidth': 0, 'ticks': ''}}}], 'scattercarpet': [{'type': 'scattercarpet', 'marker': {'colorbar': {'outlinewidth': 0, 'ticks': ''}}}], 'carpet': [{'aaxis': {'endlinecolor': '#2a3f5f', 'gridcolor': 'white', 'linecolor': 'white', 'minorgridcolor': 'white', 'startlinecolor': '#2a3f5f'}, 'baxis': {'endlinecolor': '#2a3f5f', 'gridcolor': 'white', 'linecolor': 'white', 'minorgridcolor': 'white', 'startlinecolor': '#2a3f5f'}, 'type': 'carpet'}], 'table': [{'cells': {'fill': {'color': '#EBF0F8'}, 'line': {'color': 'white'}}, 'header': {'fill': {'color': '#C8D4E3'}, 'line': {'color': 'white'}}, 'type': 'table'}], 'barpolar': [{'marker': {'line': {'color': '#E5ECF6', 'width': 0.5}, 'pattern': {'fillmode': 'overlay', 'size': 10, 'solidity': 0.2}}, 'type': 'barpolar'}], 'pie': [{'automargin': True, 'type': 'pie'}]}, 'layout': {'autotypenumbers': 'strict', 'colorway': ['#636efa', '#EF553B', '#00cc96', '#ab63fa', '#FFA15A', '#19d3f3', '#FF6692', '#B6E880', '#FF97FF', '#FECB52'], 'font': {'color': '#2a3f5f'}, 'hovermode': 'closest', 'hoverlabel': {'align': 'left'}, 'paper_bgcolor': 'white', 'plot_bgcolor': '#E5ECF6', 'polar': {'bgcolor': '#E5ECF6', 'angularaxis': {'gridcolor': 'white', 'linecolor': 'white', 'ticks': ''}, 'radialaxis': {'gridcolor': 'white', 'linecolor': 'white', 'ticks': ''}}, 'ternary': {'bgcolor': '#E5ECF6', 'aaxis': {'gridcolor': 'white', 'linecolor': 'white', 'ticks': ''}, 'baxis': {'gridcolor': 'white', 'linecolor': 'white', 'ticks': ''}, 'caxis': {'gridcolor': 'white', 'linecolor': 'white', 'ticks': ''}}, 'coloraxis': {'colorbar': {'outlinewidth': 0, 'ticks': ''}}, 'colorscale': {'sequential': [[0.0, '#0d0887'], [0.1111111111111111, '#46039f'], [0.2222222222222222, '#7201a8'], [0.3333333333333333, '#9c179e'], [0.4444444444444444, '#bd3786'], [0.5555555555555556, '#d8576b'], [0.6666666666666666, '#ed7953'], [0.7777777777777778, '#fb9f3a'], [0.8888888888888888, '#fdca26'], [1.0, '#f0f921']], 'sequentialminus': [[0.0, '#0d0887'], [0.1111111111111111, '#46039f'], [0.2222222222222222, '#7201a8'], [0.3333333333333333, '#9c179e'], [0.4444444444444444, '#bd3786'], [0.5555555555555556, '#d8576b'], [0.6666666666666666, '#ed7953'], [0.7777777777777778, '#fb9f3a'], [0.8888888888888888, '#fdca26'], [1.0, '#f0f921']], 'diverging': [[0, '#8e0152'], [0.1, '#c51b7d'], [0.2, '#de77ae'], [0.3, '#f1b6da'], [0.4, '#fde0ef'], [0.5, '#f7f7f7'], [0.6, '#e6f5d0'], [0.7, '#b8e186'], [0.8, '#7fbc41'], [0.9, '#4d9221'], [1, '#276419']]}, 'xaxis': {'gridcolor': 'white', 'linecolor': 'white', 'ticks': '', 'title': {'standoff': 15}, 'zerolinecolor': 'white', 'automargin': True, 'zerolinewidth': 2}, 'yaxis': {'gridcolor': 'white', 'linecolor': 'white', 'ticks': '', 'title': {'standoff': 15}, 'zerolinecolor': 'white', 'automargin': True, 'zerolinewidth': 2}, 'scene': {'xaxis': {'backgroundcolor': '#E5ECF6', 'gridcolor': 'white', 'linecolor': 'white', 'showbackground': True, 'ticks': '', 'zerolinecolor': 'white', 'gridwidth': 2}, 'yaxis': {'backgroundcolor': '#E5ECF6', 'gridcolor': 'white', 'linecolor': 'white', 'showbackground': True, 'ticks': '', 'zerolinecolor': 'white', 'gridwidth': 2}, 'zaxis': {'backgroundcolor': '#E5ECF6', 'gridcolor': 'white', 'linecolor': 'white', 'showbackground': True, 'ticks': '', 'zerolinecolor': 'white', 'gridwidth': 2}}, 'shapedefaults': {'line': {'color': '#2a3f5f'}}, 'annotationdefaults': {'arrowcolor': '#2a3f5f', 'arrowhead': 0, 'arrowwidth': 1}, 'geo': {'bgcolor': 'white', 'landcolor': '#E5ECF6', 'subunitcolor': 'white', 'showland': True, 'showlakes': True, 'lakecolor': 'white'}, 'title': {'x': 0.05}, 'mapbox': {'style': 'light'}}}, 'xaxis': {'anchor': 'y', 'domain': [0.0, 1.0], 'title': {'text': 'year'}}, 'yaxis': {'anchor': 'x', 'domain': [0.0, 1.0], 'title': {'text': 'avg_rating'}}, 'legend': {'title': {'text': 'state'}, 'tracegroupgap': 0}, 'title': {'text': 'Rating Trends Over Time'}}, 'config': {'plotlyServerURL': 'https://plot.ly'}}}"
      ]
     },
     "metadata": {},
     "output_type": "display_data"
    },
    {
     "data": {
      "text/plain": [
       "{'application/vnd.plotly.v1+json': {'data': [{'hovertemplate': 'state=NM<br>avg_rating=%{x}<br>y=%{y}<extra></extra>', 'legendgroup': 'NM', 'marker': {'color': '#636efa', 'symbol': 'circle'}, 'mode': 'markers', 'name': 'NM', 'orientation': 'v', 'showlegend': True, 'x': {'dtype': 'f8', 'bdata': '5ZpoSYeeEUA1YR8CLiAQQDRslb0foRBANxRiDzPLEEAS6MFEEaAQQMHRHGKOIxBAaQOdNtBpDUCeH7Dn/FwQQHxnnrt1DBBA7yDcOkoBEUDSXQk0NJIRQAqmpvUT9xBAsF7BghW2EEBBVHQWKygRQN7d3d3d3RFAjPdm+MEBD0DsazquGD0RQPFmMtIO2RBA4y6PPYtKEEANwzAMwzAPQPYPrGA49xBAdyU3RG9XEEB8eQQ5JhMRQJXWs2QJqBFAD6W+03+FEEA55vAM4uMQQKEVXx8N0hBA/CuSEP38EEA='}, 'xaxis': 'x', 'y': {'dtype': 'f8', 'bdata': 'HPhSZTwIVkBEf9e1UVdXQFjexCattz9ADAp2McRdQUDA5wKqkrYnQG3HqaVG1ThAyZcoC7KXQUC0FJ1GqT5WQCK7L0T+5UhAcLshN+4cV0B4jZRUOsBWQGOshxMYk1RAf9FqpwwLUkBXJ3Gose1SQJA+axJDBy5AaTL1+OJxNkDRHW3ASilVQMXfEipsClNALr4eg6eeN0BeVLRsGEM8QO3rfBMqNlFAPlBlYYl9NkBTz2AUW9ZRQJEEoAu4305Aw45s3FJtO0A9P6z0ZS5FQLdJrtzq1kZA1wHkCuMgUEA='}, 'yaxis': 'y', 'type': 'scatter'}, {'hovertemplate': 'state=MS<br>avg_rating=%{x}<br>y=%{y}<extra></extra>', 'legendgroup': 'MS', 'marker': {'color': '#EF553B', 'symbol': 'circle'}, 'mode': 'markers', 'name': 'MS', 'orientation': 'v', 'showlegend': True, 'x': {'dtype': 'f8', 'bdata': 'WvmweAMcEUB+GhuTKBkRQDHRWCwhAxFAfRdB2zcNEUBSYX06CUQRQAicfEK26g5ASvakXWfpEED4iTKSRBYRQApB0673ZRBAAAAAAAAAEEAHL/NMRtAQQO468E+t9RBAes0JTuK1EUDl5kVZcSQQQPZ+uQNkbxBAbiXXKUeMEEAAAAAAAAARQC/eMAiwxhBACDBwMqaGEUCuE1Mqp5YRQMR6SrFtkBBA2YQEriX6EEBCtZ4gqv8QQCe60eKGmhBAeEfPkj3YEECnaZqmaZoOQNTmhJjj2BBA8zy1vAwSEEA='}, 'xaxis': 'x', 'y': {'dtype': 'f8', 'bdata': 'XPJc3wXPNkCwSVDZqJNFQGXVT8fHfTtAILbSmcDkUUBGBRDI0E9WQOUFJDRLJhRAtFYNseHUUkDMiNnnMaxXQL8ZeCqhUxlAdyOLkQoYP0DuD7f1G1tEQOelaS1MOFJAZalx/uz7TUDe13rfQUckQIMu1obhYFVA3r9qOM5hQkCZjG9g1LdKQPQrdvPgn0VAEGndODxXTUCZ/IA8nixSQL6Acj0+Ty5APcDMpMqFQUBa8/GufMQ0QNPF3Uks4BVAACb80bkRTUAv4vZ3vJxUQMvtPwWJ/EBA9plxQDWUWEA='}, 'yaxis': 'y', 'type': 'scatter'}, {'hovertemplate': 'state=NH<br>avg_rating=%{x}<br>y=%{y}<extra></extra>', 'legendgroup': 'NH', 'marker': {'color': '#00cc96', 'symbol': 'circle'}, 'mode': 'markers', 'name': 'NH', 'orientation': 'v', 'showlegend': True, 'x': {'dtype': 'f8', 'bdata': 'rkfXpLPMEUBJD8ojHTgRQMNA1s8lDBFAnIy611+9EEADHl8sKFsRQH67e/dl0xBAZg+ijwkxEUAA2wBsA7AQQOMOEolCmhFAvoT2EtptEEBdQ7akCn4RQAnwsAS4zxFAgHAUY9udEUAp3kcFY54RQKX1yn9DShFAObMmR7toEUBVVVVVVVUNQL3IWRHCsRBAchzHcRzHEEDyRj5JZZgRQGpm+SQPkBFAPHplbL+jEUArB/+XhywSQCKA3Nl6HhBApVe6QTgnEUDS9X3smb8RQDYqWVgWRRFApP5YwF+QEUA='}, 'xaxis': 'x', 'y': {'dtype': 'f8', 'bdata': 'hdDjnq1sVkB5z2cv34sTQNd2cI3gbUFAYEMpkNiiJUCsuMEbfzVQQMeqBwMl8EdAIKPg3+v4OEAS+kSTyHhPQGAvznBAy1hAbgy4LJGVTUCR4iTLezj2P+H74F9ggSJADAYntY7BFEB+d1Tfh4NRQJZVyAZgLj1ACNXmp292SkCEf/z9+p9QQJBeONoYOUZAkuF3tmGeGUBco0tA4TlBQMpbAKi8VyxAE24P1vK4AkBicn7sF3tOQDTn98dYKzVAebqoQlVLUkDHoPWawRxAQKKUKYGjoExAelLBJyw7PkA='}, 'yaxis': 'y', 'type': 'scatter'}, {'hovertemplate': 'state=TX<br>avg_rating=%{x}<br>y=%{y}<extra></extra>', 'legendgroup': 'TX', 'marker': {'color': '#ab63fa', 'symbol': 'circle'}, 'mode': 'markers', 'name': 'TX', 'orientation': 'v', 'showlegend': True, 'x': {'dtype': 'f8', 'bdata': 'oRobCABDEEAAAAAAAAATQKuqqqqqqhJAt23btm3bEkAzMzMzMzMTQBZf8RVfURBA0iAN0iCNEUAAAAAAAAAUQCpWW8XCDRFA+9BYHxprEECrqqqqqqr6P2IiCMdYRxFAhixkIQtZEEBWVVVVVdUQQAAAAAAAABBA'}, 'xaxis': 'x', 'y': {'dtype': 'f8', 'bdata': 'N68WRbgxTECiTqOfLBFBQMh/+17IoiZAgTJmDbq8MUCPsWMHdJZSQOC9DxOC4E5Ahb6gLkOIRUAL79vXBbIyQL1qnnKufDNAM4mywGY8WEBpQFOK1GFFQAC7fcCh/ERA1XznmWpNVkBmDYmW4E4KQII/XpZM6FZA'}, 'yaxis': 'y', 'type': 'scatter'}, {'hovertemplate': 'state=ID<br>avg_rating=%{x}<br>y=%{y}<extra></extra>', 'legendgroup': 'ID', 'marker': {'color': '#FFA15A', 'symbol': 'circle'}, 'mode': 'markers', 'name': 'ID', 'orientation': 'v', 'showlegend': True, 'x': {'dtype': 'f8', 'bdata': 'AAAAAAAAE0AAAAAAAAASQAAAAAAAABJAVlVVVVVVE0AAAAAAAAATQA=='}, 'xaxis': 'x', 'y': {'dtype': 'f8', 'bdata': 'Glc+pMc2N0AXyYN3OB47QIycahdfi0RAz17dKtEpIEDAuwnl9WFUQA=='}, 'yaxis': 'y', 'type': 'scatter'}, {'hovertemplate': 'state=GA<br>avg_rating=%{x}<br>y=%{y}<extra></extra>', 'legendgroup': 'GA', 'marker': {'color': '#19d3f3', 'symbol': 'circle'}, 'mode': 'markers', 'name': 'GA', 'orientation': 'v', 'showlegend': True, 'x': {'dtype': 'f8', 'bdata': 'XOLU77klEUAksZ5R6/YRQI/jOI7jOBFAMzMzMzMzEUDVsqNiN0kRQAAAAAAAAARAq0QteE/aEUBVVVVVVVUNQAAAAAAAABRAAAAAAAAACECqV/t7nfoRQKuqqqqqqhJAq6qqqqqqEkDpz4BJvRwRQHlKkKcE+Q5AAAAAAAAAFEAcx3Ecx/EQQOM4juM4jhFAAAAAAACAE0A='}, 'xaxis': 'x', 'y': {'dtype': 'f8', 'bdata': 'LBzGqbfpWEA3oPJcLllRQPHwqQnXiFFAZ7KXPVJwSUDQ9Isd6ANDQLFGwrtN2j5Amy3YSdPtT0C0HIlc3AYzQLO6zRkAm1FAEygTfT3tA0CkUxeqGyQWQBYQls63wVRAU4Fms4NJTUCRXfBOryJYQH225txofwtA2BLK4xg5TkA0gxo2eEZCQD2h7sSIH1FAtyncALcXMkA='}, 'yaxis': 'y', 'type': 'scatter'}, {'hovertemplate': 'state=WA<br>avg_rating=%{x}<br>y=%{y}<extra></extra>', 'legendgroup': 'WA', 'marker': {'color': '#FF6692', 'symbol': 'circle'}, 'mode': 'markers', 'name': 'WA', 'orientation': 'v', 'showlegend': True, 'x': {'dtype': 'f8', 'bdata': '/KM18cVrEUDoI0KwdTwRQHOzeX+YXxBAVBGZIVFGEUBpk5OtqvAPQOVg+f7ibg9AjPm9rw3jEECE/8QcmV4QQJDO0Ci6TRFAsuxpNvTPEEDIMA7EvPwQQLZ61NCqXxFAPSmqEYcIEUDGUWN6vdAQQLSZGI4pExJAgmZyDcVhEUDRZVfkBqEQQNmeBgjLDRBAijLKc275EUCEEGCVCZsRQFKuI3n5BhFAmzdaDuMKEUCbhNkmigIRQL6reaMUVhBAgnnZvU8uEUBnZmZmZqYQQF6+S/tzeRBAS470fj88EUA='}, 'xaxis': 'x', 'y': {'dtype': 'f8', 'bdata': 'csfW2g3BSUCkXSVMNeFAQIccpIr5ayNAOE61ULMxUkBNE3HednVYQGFcOThMmT1AN5iG8cp+NkBd0mOmHEZTQHj/949VpVNAjETE+HLOOUAv9uPDhfhUQOiCafUqE1JA4/LglBFqVkAVUK58pZ9QQNvdOdv2DSFAWnd6+fBTU0B0kiSQdwdLQHr/M26xjRpAT+bPBM3CSUCeK/8O6C9SQNBVPsDLVFVAOqAeYdrrGUCPf7w16DhPQH6D0m+jbVVAhVXA0XlIUEBMV/pEG6BTQG+x3kg8+y9AHjnPB/htSkA='}, 'yaxis': 'y', 'type': 'scatter'}, {'hovertemplate': 'state=Unknown<br>avg_rating=%{x}<br>y=%{y}<extra></extra>', 'legendgroup': 'Unknown', 'marker': {'color': '#B6E880', 'symbol': 'circle'}, 'mode': 'markers', 'name': 'Unknown', 'orientation': 'v', 'showlegend': True, 'x': {'dtype': 'f8', 'bdata': '8/A/C3ehEkD6ZauqN2USQKyD6Ujz+BJAwaY8KdbdEkAvzkPH8OISQNFRC77TMBNAR9RSqex4EkAe4zEe47ESQBPULV+MChJAiGnlGkXZEEAzMzMzMzMTQNu2bdu2bRNAVVVVVVVVDUAeCIqbeQQSQLIhGBF0oBFAb/mWb/mWE0Cp9iYF0A4SQNrkHK6VKBJAaSTgm1fTEUCwINKTWSASQERERERERBJA+SgA5A1hEkARHgKmcEwSQLMtxsuvmxJAf0ut6uJLEkC+UT0x1AMSQAAAAAAAwBJA'}, 'xaxis': 'x', 'y': {'dtype': 'f8', 'bdata': 'OSiLaphWUUCNB5n1nDJUQEi26CGn3FRAWE/nJ1n5Q0DSPRwobS5YQF3GcGiGplZAQRlGfRhdU0DxqY5Bn1JWQDRIiAdiO/Y/h9YFT5kjPEAlfTmITphKQHs7MCuO8EJAqoiyGQ5dQUA1FDKcVWI4QCB2FVSKuEtAQhWtHiAtQ0Cq7A40sBTzP2THDpLnk0VAL96OxRofL0CQV2QA67oaQLnnEFPp71hABRBSuzbjP0ANqSZueOFIQL4aPvwAD0pAoZC/qT9vWEAJbiM4IfU0QKB6fNNCfVhA'}, 'yaxis': 'y', 'type': 'scatter'}, {'hovertemplate': 'state=FL<br>avg_rating=%{x}<br>y=%{y}<extra></extra>', 'legendgroup': 'FL', 'marker': {'color': '#FF97FF', 'symbol': 'circle'}, 'mode': 'markers', 'name': 'FL', 'orientation': 'v', 'showlegend': True, 'x': {'dtype': 'f8', 'bdata': 'AAAAAABAEUBFF1100UURQAAAAAAAABRAdNFFF100EUAAAAAAAAASQAAAAAAAQBJA7+7u7u7uEkAAAAAAAAAUQK0jG9y7zRBAPc/zPM8zEkA='}, 'xaxis': 'x', 'y': {'dtype': 'f8', 'bdata': 'LieZkTQqVkC1Fzhy8VIVQFYow67OUUdAiudlzpMQU0AwfPx3CMhOQEM6ZdXy00FAQTQJXdZUVkABqCLdSNQ9QLsUk1GeRCFAeMmVg8PEUkA='}, 'yaxis': 'y', 'type': 'scatter'}, {'hovertemplate': 'state=OR<br>avg_rating=%{x}<br>y=%{y}<extra></extra>', 'legendgroup': 'OR', 'marker': {'color': '#FECB52', 'symbol': 'circle'}, 'mode': 'markers', 'name': 'OR', 'orientation': 'v', 'showlegend': True, 'x': {'dtype': 'f8', 'bdata': 'sRM7sRM7EUAAAAAAAAASQN5oXQS3mhBAAAAAAAAADEChDuqgDuoMQNanQApOlBFAMzMzMzMzB0AAAAAAAAAMQKqqqqqqqhJAs0mTFd3gD0AAAAAAAAAQQAAAAAAAAAxAAAAAAAAAE0CamZmZmZkRQAAAAAAAAAtApHA9CtejEEAyxhhjjDESQBRFURRFURBAAAAAAAAAFEAWX/EVX/ESQA=='}, 'xaxis': 'x', 'y': {'dtype': 'f8', 'bdata': 'XKrH1G0CQEBrcZTLObU1QLSsEaN4X1FAC2gX9G72IkDEA0La6O4zQONM2zNRqSdAlK/3EGZDMUBWYaCdSQ5JQDA5zCRo4kxA+0i8N0xMNUDwJSF5UIBSQIMGtQ9mmR1AxJjkUqsjVEDXG9WRkDVRQPnSwcK8c0VAbjSm/YIbV0DtbQyzOnUzQCtzB2pv3UhA/am7HSLFVUDpTjNYOVBUQA=='}, 'yaxis': 'y', 'type': 'scatter'}, {'hovertemplate': 'state=AL<br>avg_rating=%{x}<br>y=%{y}<extra></extra>', 'legendgroup': 'AL', 'marker': {'color': '#636efa', 'symbol': 'circle'}, 'mode': 'markers', 'name': 'AL', 'orientation': 'v', 'showlegend': True, 'x': {'dtype': 'f8', 'bdata': 'xBHCvhI0EEAdiYVk1l0RQHw9f9PF4xBA4B/xq6cgEUCLrb9hfN8QQG9605ve9A9AgZEaHKNKEEAoHKPuwToRQK61djAK0hBA56EmCvHWEEDneN8pDoURQE95bG96JxFArZ7wIkbGD0DwUfvL8cIQQI0flaeznRBAq6qqqqqqEEDQ5lgeyPAQQEF7qG4iOhFA2JmAwWN5D0CESd6cUUQRQH3EB2dfLxFAf+RuVdueEUB9ukS/woUQQJOg5cPJNxFA4LakeNjmEUBT4hIiQa4QQHfFpXgj0BFAJ1HJAgg3EEA='}, 'xaxis': 'x', 'y': {'dtype': 'f8', 'bdata': 'ivjipX3gUUCFwscO0SNBQFx7X6nc50FAdcUEO25bM0BA3sAHl/I1QN7cJpJ6gUFAUeatm77GSEB+q/YkYO9QQIfO3/YceVZA+d0RjKwsT0C4ca6sBM0ZQK0CC9FUdxlAJwkUpNGDSEB+7tyReCo4QK6+HQTy1DZAHGia2LagVkDIUSzeAyExQKS+A9/13VBAGMW0iHfhMkC11MB4eEkhQNF2tN88qSFAvR/K6YxqV0DMVTafbtdLQFME7RRoMFRAWCp7PSwSJkAnbAQ40dpKQP/sHY0BcURABVV2HUb1VkA='}, 'yaxis': 'y', 'type': 'scatter'}, {'hovertemplate': 'state=VT<br>avg_rating=%{x}<br>y=%{y}<extra></extra>', 'legendgroup': 'VT', 'marker': {'color': '#EF553B', 'symbol': 'circle'}, 'mode': 'markers', 'name': 'VT', 'orientation': 'v', 'showlegend': True, 'x': {'dtype': 'f8', 'bdata': 'AAAAAAAAFEA='}, 'xaxis': 'x', 'y': {'dtype': 'f8', 'bdata': '6MfP3pTwPkA='}, 'yaxis': 'y', 'type': 'scatter'}, {'hovertemplate': 'state=TN<br>avg_rating=%{x}<br>y=%{y}<extra></extra>', 'legendgroup': 'TN', 'marker': {'color': '#00cc96', 'symbol': 'circle'}, 'mode': 'markers', 'name': 'TN', 'orientation': 'v', 'showlegend': True, 'x': {'dtype': 'f8', 'bdata': 'mpmZmZmZEUAAAAAAAAAUQDMzMzMzMxNAAAAAAAAAEkD4c/Qa/pwRQCVJkiRJkhFAAAAAAAAABEAAAAAAAAAAQKuqqqqqqhJA7Ovr6+vr+z/i4eHh4WERQBERERERERBAwzAMwzCMCUA='}, 'xaxis': 'x', 'y': {'dtype': 'f8', 'bdata': 'XqWulLf4UEB/Ilg1CftUQIuRtHo3szJAbZb9rKuvSkBMt7YGqX1RQLxga6elLSZALFJ9TlaNL0AxmhYembROQESJRSd6ZkhAeKxCRNRWSUAG+AF5sRpIQAG66z0naT9AHHvBZeopU0A='}, 'yaxis': 'y', 'type': 'scatter'}, {'hovertemplate': 'state=MA<br>avg_rating=%{x}<br>y=%{y}<extra></extra>', 'legendgroup': 'MA', 'marker': {'color': '#ab63fa', 'symbol': 'circle'}, 'mode': 'markers', 'name': 'MA', 'orientation': 'v', 'showlegend': True, 'x': {'dtype': 'f8', 'bdata': 'AAAAAAAAEkAAAAAAAAANQKuqqqqqqhJAAAAAAAAAEEAAAAAAAADwPzMzMzMzMxFA'}, 'xaxis': 'x', 'y': {'dtype': 'f8', 'bdata': 'b6MSUaRiWEC66kAaXIUeQJxtyD2aTU1AO9mQelbkVECBe8Vl6ltLQIjazeKtMzpA'}, 'yaxis': 'y', 'type': 'scatter'}], 'layout': {'template': {'data': {'histogram2dcontour': [{'type': 'histogram2dcontour', 'colorbar': {'outlinewidth': 0, 'ticks': ''}, 'colorscale': [[0.0, '#0d0887'], [0.1111111111111111, '#46039f'], [0.2222222222222222, '#7201a8'], [0.3333333333333333, '#9c179e'], [0.4444444444444444, '#bd3786'], [0.5555555555555556, '#d8576b'], [0.6666666666666666, '#ed7953'], [0.7777777777777778, '#fb9f3a'], [0.8888888888888888, '#fdca26'], [1.0, '#f0f921']]}], 'choropleth': [{'type': 'choropleth', 'colorbar': {'outlinewidth': 0, 'ticks': ''}}], 'histogram2d': [{'type': 'histogram2d', 'colorbar': {'outlinewidth': 0, 'ticks': ''}, 'colorscale': [[0.0, '#0d0887'], [0.1111111111111111, '#46039f'], [0.2222222222222222, '#7201a8'], [0.3333333333333333, '#9c179e'], [0.4444444444444444, '#bd3786'], [0.5555555555555556, '#d8576b'], [0.6666666666666666, '#ed7953'], [0.7777777777777778, '#fb9f3a'], [0.8888888888888888, '#fdca26'], [1.0, '#f0f921']]}], 'heatmap': [{'type': 'heatmap', 'colorbar': {'outlinewidth': 0, 'ticks': ''}, 'colorscale': [[0.0, '#0d0887'], [0.1111111111111111, '#46039f'], [0.2222222222222222, '#7201a8'], [0.3333333333333333, '#9c179e'], [0.4444444444444444, '#bd3786'], [0.5555555555555556, '#d8576b'], [0.6666666666666666, '#ed7953'], [0.7777777777777778, '#fb9f3a'], [0.8888888888888888, '#fdca26'], [1.0, '#f0f921']]}], 'contourcarpet': [{'type': 'contourcarpet', 'colorbar': {'outlinewidth': 0, 'ticks': ''}}], 'contour': [{'type': 'contour', 'colorbar': {'outlinewidth': 0, 'ticks': ''}, 'colorscale': [[0.0, '#0d0887'], [0.1111111111111111, '#46039f'], [0.2222222222222222, '#7201a8'], [0.3333333333333333, '#9c179e'], [0.4444444444444444, '#bd3786'], [0.5555555555555556, '#d8576b'], [0.6666666666666666, '#ed7953'], [0.7777777777777778, '#fb9f3a'], [0.8888888888888888, '#fdca26'], [1.0, '#f0f921']]}], 'surface': [{'type': 'surface', 'colorbar': {'outlinewidth': 0, 'ticks': ''}, 'colorscale': [[0.0, '#0d0887'], [0.1111111111111111, '#46039f'], [0.2222222222222222, '#7201a8'], [0.3333333333333333, '#9c179e'], [0.4444444444444444, '#bd3786'], [0.5555555555555556, '#d8576b'], [0.6666666666666666, '#ed7953'], [0.7777777777777778, '#fb9f3a'], [0.8888888888888888, '#fdca26'], [1.0, '#f0f921']]}], 'mesh3d': [{'type': 'mesh3d', 'colorbar': {'outlinewidth': 0, 'ticks': ''}}], 'scatter': [{'fillpattern': {'fillmode': 'overlay', 'size': 10, 'solidity': 0.2}, 'type': 'scatter'}], 'parcoords': [{'type': 'parcoords', 'line': {'colorbar': {'outlinewidth': 0, 'ticks': ''}}}], 'scatterpolargl': [{'type': 'scatterpolargl', 'marker': {'colorbar': {'outlinewidth': 0, 'ticks': ''}}}], 'bar': [{'error_x': {'color': '#2a3f5f'}, 'error_y': {'color': '#2a3f5f'}, 'marker': {'line': {'color': '#E5ECF6', 'width': 0.5}, 'pattern': {'fillmode': 'overlay', 'size': 10, 'solidity': 0.2}}, 'type': 'bar'}], 'scattergeo': [{'type': 'scattergeo', 'marker': {'colorbar': {'outlinewidth': 0, 'ticks': ''}}}], 'scatterpolar': [{'type': 'scatterpolar', 'marker': {'colorbar': {'outlinewidth': 0, 'ticks': ''}}}], 'histogram': [{'marker': {'pattern': {'fillmode': 'overlay', 'size': 10, 'solidity': 0.2}}, 'type': 'histogram'}], 'scattergl': [{'type': 'scattergl', 'marker': {'colorbar': {'outlinewidth': 0, 'ticks': ''}}}], 'scatter3d': [{'type': 'scatter3d', 'line': {'colorbar': {'outlinewidth': 0, 'ticks': ''}}, 'marker': {'colorbar': {'outlinewidth': 0, 'ticks': ''}}}], 'scattermap': [{'type': 'scattermap', 'marker': {'colorbar': {'outlinewidth': 0, 'ticks': ''}}}], 'scattermapbox': [{'type': 'scattermapbox', 'marker': {'colorbar': {'outlinewidth': 0, 'ticks': ''}}}], 'scatterternary': [{'type': 'scatterternary', 'marker': {'colorbar': {'outlinewidth': 0, 'ticks': ''}}}], 'scattercarpet': [{'type': 'scattercarpet', 'marker': {'colorbar': {'outlinewidth': 0, 'ticks': ''}}}], 'carpet': [{'aaxis': {'endlinecolor': '#2a3f5f', 'gridcolor': 'white', 'linecolor': 'white', 'minorgridcolor': 'white', 'startlinecolor': '#2a3f5f'}, 'baxis': {'endlinecolor': '#2a3f5f', 'gridcolor': 'white', 'linecolor': 'white', 'minorgridcolor': 'white', 'startlinecolor': '#2a3f5f'}, 'type': 'carpet'}], 'table': [{'cells': {'fill': {'color': '#EBF0F8'}, 'line': {'color': 'white'}}, 'header': {'fill': {'color': '#C8D4E3'}, 'line': {'color': 'white'}}, 'type': 'table'}], 'barpolar': [{'marker': {'line': {'color': '#E5ECF6', 'width': 0.5}, 'pattern': {'fillmode': 'overlay', 'size': 10, 'solidity': 0.2}}, 'type': 'barpolar'}], 'pie': [{'automargin': True, 'type': 'pie'}]}, 'layout': {'autotypenumbers': 'strict', 'colorway': ['#636efa', '#EF553B', '#00cc96', '#ab63fa', '#FFA15A', '#19d3f3', '#FF6692', '#B6E880', '#FF97FF', '#FECB52'], 'font': {'color': '#2a3f5f'}, 'hovermode': 'closest', 'hoverlabel': {'align': 'left'}, 'paper_bgcolor': 'white', 'plot_bgcolor': '#E5ECF6', 'polar': {'bgcolor': '#E5ECF6', 'angularaxis': {'gridcolor': 'white', 'linecolor': 'white', 'ticks': ''}, 'radialaxis': {'gridcolor': 'white', 'linecolor': 'white', 'ticks': ''}}, 'ternary': {'bgcolor': '#E5ECF6', 'aaxis': {'gridcolor': 'white', 'linecolor': 'white', 'ticks': ''}, 'baxis': {'gridcolor': 'white', 'linecolor': 'white', 'ticks': ''}, 'caxis': {'gridcolor': 'white', 'linecolor': 'white', 'ticks': ''}}, 'coloraxis': {'colorbar': {'outlinewidth': 0, 'ticks': ''}}, 'colorscale': {'sequential': [[0.0, '#0d0887'], [0.1111111111111111, '#46039f'], [0.2222222222222222, '#7201a8'], [0.3333333333333333, '#9c179e'], [0.4444444444444444, '#bd3786'], [0.5555555555555556, '#d8576b'], [0.6666666666666666, '#ed7953'], [0.7777777777777778, '#fb9f3a'], [0.8888888888888888, '#fdca26'], [1.0, '#f0f921']], 'sequentialminus': [[0.0, '#0d0887'], [0.1111111111111111, '#46039f'], [0.2222222222222222, '#7201a8'], [0.3333333333333333, '#9c179e'], [0.4444444444444444, '#bd3786'], [0.5555555555555556, '#d8576b'], [0.6666666666666666, '#ed7953'], [0.7777777777777778, '#fb9f3a'], [0.8888888888888888, '#fdca26'], [1.0, '#f0f921']], 'diverging': [[0, '#8e0152'], [0.1, '#c51b7d'], [0.2, '#de77ae'], [0.3, '#f1b6da'], [0.4, '#fde0ef'], [0.5, '#f7f7f7'], [0.6, '#e6f5d0'], [0.7, '#b8e186'], [0.8, '#7fbc41'], [0.9, '#4d9221'], [1, '#276419']]}, 'xaxis': {'gridcolor': 'white', 'linecolor': 'white', 'ticks': '', 'title': {'standoff': 15}, 'zerolinecolor': 'white', 'automargin': True, 'zerolinewidth': 2}, 'yaxis': {'gridcolor': 'white', 'linecolor': 'white', 'ticks': '', 'title': {'standoff': 15}, 'zerolinecolor': 'white', 'automargin': True, 'zerolinewidth': 2}, 'scene': {'xaxis': {'backgroundcolor': '#E5ECF6', 'gridcolor': 'white', 'linecolor': 'white', 'showbackground': True, 'ticks': '', 'zerolinecolor': 'white', 'gridwidth': 2}, 'yaxis': {'backgroundcolor': '#E5ECF6', 'gridcolor': 'white', 'linecolor': 'white', 'showbackground': True, 'ticks': '', 'zerolinecolor': 'white', 'gridwidth': 2}, 'zaxis': {'backgroundcolor': '#E5ECF6', 'gridcolor': 'white', 'linecolor': 'white', 'showbackground': True, 'ticks': '', 'zerolinecolor': 'white', 'gridwidth': 2}}, 'shapedefaults': {'line': {'color': '#2a3f5f'}}, 'annotationdefaults': {'arrowcolor': '#2a3f5f', 'arrowhead': 0, 'arrowwidth': 1}, 'geo': {'bgcolor': 'white', 'landcolor': '#E5ECF6', 'subunitcolor': 'white', 'showland': True, 'showlakes': True, 'lakecolor': 'white'}, 'title': {'x': 0.05}, 'mapbox': {'style': 'light'}}}, 'xaxis': {'anchor': 'y', 'domain': [0.0, 1.0], 'title': {'text': 'avg_rating'}}, 'yaxis': {'anchor': 'x', 'domain': [0.0, 1.0], 'title': {'text': 'y'}}, 'legend': {'title': {'text': 'state'}, 'tracegroupgap': 0}, 'title': {'text': 'Scatter Plot Example'}}, 'config': {'plotlyServerURL': 'https://plot.ly'}}}"
      ]
     },
     "metadata": {},
     "output_type": "display_data"
    },
    {
     "data": {
      "text/plain": [
       "{'application/vnd.plotly.v1+json': {'data': [{'colorscale': [[0.0, '#440154'], [0.1111111111111111, '#482878'], [0.2222222222222222, '#3e4989'], [0.3333333333333333, '#31688e'], [0.4444444444444444, '#26828e'], [0.5555555555555556, '#1f9e89'], [0.6666666666666666, '#35b779'], [0.7777777777777778, '#6ece58'], [0.8888888888888888, '#b5de2b'], [1.0, '#fde725']], 'x': ['2015', '2016', '2017', '2018', '2019', '2020', '2021'], 'y': ['AL', 'FL', 'GA', 'ID', 'MA', 'MS', 'NH', 'NM', 'OR', 'TN', 'TX', 'Unknown', 'VT', 'WA'], 'z': {'dtype': 'f8', 'bdata': 'CUGzujsREEC6qzon4E4QQASoeXPv7RBAtbw1WioNEUDyOxlqsTYRQAYNdQgITRFAHkIdDndEEUAAAAAAAAASQAAAAAAAoBJAoosuuujCEUCtIxvcu80QQD3P8zzPMxJAeHd3d3d3E0B00UUXXTQRQKuqqqqqqhJAj+M4juM4DUAJATzU+u8RQHVjUIxLnw1AJUNdFgXdEUDLnHeMJNERQA6KmcHMhBFAAAAAAAAA+H8AAAAAAAD4fwAAAAAAABJAAAAAAAAAE0AAAAAAAAASQAAAAAAAABNAVlVVVVVVE0AAAAAAAAD4fwAAAAAAAPA/AAAAAAAADUAzMzMzMzMRQAAAAAAAABJAq6qqqqqqEkAAAAAAAAAQQGzBRfpH4Q9A/PkaAn6PEEAqqNnmYpIQQLpJUuBbABFASHgJALYYEUBptyWxvCgRQPCbDYkV8hBAhnHzJthgEEAoWcOJGaMQQEnTqLcEAxFAAui7katPEUBwkM8OlIgRQELTYUWjkRFASy0aI6zVEUBvHrw9BNYPQPpvBFnoKRBAIIX2jJSLEEBM0cx05fUQQFC444SLARFA04Fr+4sUEUDMuVIBfxcRQAAAAAAAAA5A3/d93/d9EUCt0Rqt0RoNQMFsTQdHnw5ArSRzJJ7sEUAHe1h9AR0PQAd1UAd1UBNAAAAAAAAADEAAAAAAAAAEQJWUlJSUlAhA+HP0Gv6cEUBpH41oHw0SQIiIiIiICBFADMMwDMNwD0CrqqqqqqoKQKuqqqqqqhJAi6/4iq8oEEB+O7TLcU0RQD19dAk6tBFAaM4y/TA1EUDqJqedGbsRQOafBos0yRFAv0wxOJO/EkDYAPCgVzQSQBBXRhQ+CBJAWMDu1Jw6EkBZkWBjQJISQDxuqbSQsRJAAAAAAAAA+H8AAAAAAAD4fwAAAAAAAPh/AAAAAAAA+H8AAAAAAAAUQAAAAAAAAPh/AAAAAAAA+H9OrasCjzIQQNE5Qp3dSRBAdac4kTHJEEC2mxOXgBsRQGJ5dYQsRBFAzFBEI31oEUCj5sRJOoIRQA==', 'shape': '14, 7'}, 'type': 'heatmap'}], 'layout': {'template': {'data': {'histogram2dcontour': [{'type': 'histogram2dcontour', 'colorbar': {'outlinewidth': 0, 'ticks': ''}, 'colorscale': [[0.0, '#0d0887'], [0.1111111111111111, '#46039f'], [0.2222222222222222, '#7201a8'], [0.3333333333333333, '#9c179e'], [0.4444444444444444, '#bd3786'], [0.5555555555555556, '#d8576b'], [0.6666666666666666, '#ed7953'], [0.7777777777777778, '#fb9f3a'], [0.8888888888888888, '#fdca26'], [1.0, '#f0f921']]}], 'choropleth': [{'type': 'choropleth', 'colorbar': {'outlinewidth': 0, 'ticks': ''}}], 'histogram2d': [{'type': 'histogram2d', 'colorbar': {'outlinewidth': 0, 'ticks': ''}, 'colorscale': [[0.0, '#0d0887'], [0.1111111111111111, '#46039f'], [0.2222222222222222, '#7201a8'], [0.3333333333333333, '#9c179e'], [0.4444444444444444, '#bd3786'], [0.5555555555555556, '#d8576b'], [0.6666666666666666, '#ed7953'], [0.7777777777777778, '#fb9f3a'], [0.8888888888888888, '#fdca26'], [1.0, '#f0f921']]}], 'heatmap': [{'type': 'heatmap', 'colorbar': {'outlinewidth': 0, 'ticks': ''}, 'colorscale': [[0.0, '#0d0887'], [0.1111111111111111, '#46039f'], [0.2222222222222222, '#7201a8'], [0.3333333333333333, '#9c179e'], [0.4444444444444444, '#bd3786'], [0.5555555555555556, '#d8576b'], [0.6666666666666666, '#ed7953'], [0.7777777777777778, '#fb9f3a'], [0.8888888888888888, '#fdca26'], [1.0, '#f0f921']]}], 'contourcarpet': [{'type': 'contourcarpet', 'colorbar': {'outlinewidth': 0, 'ticks': ''}}], 'contour': [{'type': 'contour', 'colorbar': {'outlinewidth': 0, 'ticks': ''}, 'colorscale': [[0.0, '#0d0887'], [0.1111111111111111, '#46039f'], [0.2222222222222222, '#7201a8'], [0.3333333333333333, '#9c179e'], [0.4444444444444444, '#bd3786'], [0.5555555555555556, '#d8576b'], [0.6666666666666666, '#ed7953'], [0.7777777777777778, '#fb9f3a'], [0.8888888888888888, '#fdca26'], [1.0, '#f0f921']]}], 'surface': [{'type': 'surface', 'colorbar': {'outlinewidth': 0, 'ticks': ''}, 'colorscale': [[0.0, '#0d0887'], [0.1111111111111111, '#46039f'], [0.2222222222222222, '#7201a8'], [0.3333333333333333, '#9c179e'], [0.4444444444444444, '#bd3786'], [0.5555555555555556, '#d8576b'], [0.6666666666666666, '#ed7953'], [0.7777777777777778, '#fb9f3a'], [0.8888888888888888, '#fdca26'], [1.0, '#f0f921']]}], 'mesh3d': [{'type': 'mesh3d', 'colorbar': {'outlinewidth': 0, 'ticks': ''}}], 'scatter': [{'fillpattern': {'fillmode': 'overlay', 'size': 10, 'solidity': 0.2}, 'type': 'scatter'}], 'parcoords': [{'type': 'parcoords', 'line': {'colorbar': {'outlinewidth': 0, 'ticks': ''}}}], 'scatterpolargl': [{'type': 'scatterpolargl', 'marker': {'colorbar': {'outlinewidth': 0, 'ticks': ''}}}], 'bar': [{'error_x': {'color': '#2a3f5f'}, 'error_y': {'color': '#2a3f5f'}, 'marker': {'line': {'color': '#E5ECF6', 'width': 0.5}, 'pattern': {'fillmode': 'overlay', 'size': 10, 'solidity': 0.2}}, 'type': 'bar'}], 'scattergeo': [{'type': 'scattergeo', 'marker': {'colorbar': {'outlinewidth': 0, 'ticks': ''}}}], 'scatterpolar': [{'type': 'scatterpolar', 'marker': {'colorbar': {'outlinewidth': 0, 'ticks': ''}}}], 'histogram': [{'marker': {'pattern': {'fillmode': 'overlay', 'size': 10, 'solidity': 0.2}}, 'type': 'histogram'}], 'scattergl': [{'type': 'scattergl', 'marker': {'colorbar': {'outlinewidth': 0, 'ticks': ''}}}], 'scatter3d': [{'type': 'scatter3d', 'line': {'colorbar': {'outlinewidth': 0, 'ticks': ''}}, 'marker': {'colorbar': {'outlinewidth': 0, 'ticks': ''}}}], 'scattermap': [{'type': 'scattermap', 'marker': {'colorbar': {'outlinewidth': 0, 'ticks': ''}}}], 'scattermapbox': [{'type': 'scattermapbox', 'marker': {'colorbar': {'outlinewidth': 0, 'ticks': ''}}}], 'scatterternary': [{'type': 'scatterternary', 'marker': {'colorbar': {'outlinewidth': 0, 'ticks': ''}}}], 'scattercarpet': [{'type': 'scattercarpet', 'marker': {'colorbar': {'outlinewidth': 0, 'ticks': ''}}}], 'carpet': [{'aaxis': {'endlinecolor': '#2a3f5f', 'gridcolor': 'white', 'linecolor': 'white', 'minorgridcolor': 'white', 'startlinecolor': '#2a3f5f'}, 'baxis': {'endlinecolor': '#2a3f5f', 'gridcolor': 'white', 'linecolor': 'white', 'minorgridcolor': 'white', 'startlinecolor': '#2a3f5f'}, 'type': 'carpet'}], 'table': [{'cells': {'fill': {'color': '#EBF0F8'}, 'line': {'color': 'white'}}, 'header': {'fill': {'color': '#C8D4E3'}, 'line': {'color': 'white'}}, 'type': 'table'}], 'barpolar': [{'marker': {'line': {'color': '#E5ECF6', 'width': 0.5}, 'pattern': {'fillmode': 'overlay', 'size': 10, 'solidity': 0.2}}, 'type': 'barpolar'}], 'pie': [{'automargin': True, 'type': 'pie'}]}, 'layout': {'autotypenumbers': 'strict', 'colorway': ['#636efa', '#EF553B', '#00cc96', '#ab63fa', '#FFA15A', '#19d3f3', '#FF6692', '#B6E880', '#FF97FF', '#FECB52'], 'font': {'color': '#2a3f5f'}, 'hovermode': 'closest', 'hoverlabel': {'align': 'left'}, 'paper_bgcolor': 'white', 'plot_bgcolor': '#E5ECF6', 'polar': {'bgcolor': '#E5ECF6', 'angularaxis': {'gridcolor': 'white', 'linecolor': 'white', 'ticks': ''}, 'radialaxis': {'gridcolor': 'white', 'linecolor': 'white', 'ticks': ''}}, 'ternary': {'bgcolor': '#E5ECF6', 'aaxis': {'gridcolor': 'white', 'linecolor': 'white', 'ticks': ''}, 'baxis': {'gridcolor': 'white', 'linecolor': 'white', 'ticks': ''}, 'caxis': {'gridcolor': 'white', 'linecolor': 'white', 'ticks': ''}}, 'coloraxis': {'colorbar': {'outlinewidth': 0, 'ticks': ''}}, 'colorscale': {'sequential': [[0.0, '#0d0887'], [0.1111111111111111, '#46039f'], [0.2222222222222222, '#7201a8'], [0.3333333333333333, '#9c179e'], [0.4444444444444444, '#bd3786'], [0.5555555555555556, '#d8576b'], [0.6666666666666666, '#ed7953'], [0.7777777777777778, '#fb9f3a'], [0.8888888888888888, '#fdca26'], [1.0, '#f0f921']], 'sequentialminus': [[0.0, '#0d0887'], [0.1111111111111111, '#46039f'], [0.2222222222222222, '#7201a8'], [0.3333333333333333, '#9c179e'], [0.4444444444444444, '#bd3786'], [0.5555555555555556, '#d8576b'], [0.6666666666666666, '#ed7953'], [0.7777777777777778, '#fb9f3a'], [0.8888888888888888, '#fdca26'], [1.0, '#f0f921']], 'diverging': [[0, '#8e0152'], [0.1, '#c51b7d'], [0.2, '#de77ae'], [0.3, '#f1b6da'], [0.4, '#fde0ef'], [0.5, '#f7f7f7'], [0.6, '#e6f5d0'], [0.7, '#b8e186'], [0.8, '#7fbc41'], [0.9, '#4d9221'], [1, '#276419']]}, 'xaxis': {'gridcolor': 'white', 'linecolor': 'white', 'ticks': '', 'title': {'standoff': 15}, 'zerolinecolor': 'white', 'automargin': True, 'zerolinewidth': 2}, 'yaxis': {'gridcolor': 'white', 'linecolor': 'white', 'ticks': '', 'title': {'standoff': 15}, 'zerolinecolor': 'white', 'automargin': True, 'zerolinewidth': 2}, 'scene': {'xaxis': {'backgroundcolor': '#E5ECF6', 'gridcolor': 'white', 'linecolor': 'white', 'showbackground': True, 'ticks': '', 'zerolinecolor': 'white', 'gridwidth': 2}, 'yaxis': {'backgroundcolor': '#E5ECF6', 'gridcolor': 'white', 'linecolor': 'white', 'showbackground': True, 'ticks': '', 'zerolinecolor': 'white', 'gridwidth': 2}, 'zaxis': {'backgroundcolor': '#E5ECF6', 'gridcolor': 'white', 'linecolor': 'white', 'showbackground': True, 'ticks': '', 'zerolinecolor': 'white', 'gridwidth': 2}}, 'shapedefaults': {'line': {'color': '#2a3f5f'}}, 'annotationdefaults': {'arrowcolor': '#2a3f5f', 'arrowhead': 0, 'arrowwidth': 1}, 'geo': {'bgcolor': 'white', 'landcolor': '#E5ECF6', 'subunitcolor': 'white', 'showland': True, 'showlakes': True, 'lakecolor': 'white'}, 'title': {'x': 0.05}, 'mapbox': {'style': 'light'}}}, 'title': {'text': 'Heatmap: Avg Ratings by Year and State'}}, 'config': {'plotlyServerURL': 'https://plot.ly'}}}"
      ]
     },
     "metadata": {},
     "output_type": "display_data"
    },
    {
     "data": {
      "text/plain": [
       "{'application/vnd.plotly.v1+json': {'data': [{'domain': {'x': [0.0, 1.0], 'y': [0.0, 1.0]}, 'hovertemplate': 'state=%{label}<extra></extra>', 'labels': ['NM', 'MS', 'NH', 'TX', 'ID', 'NM', 'GA', 'NH', 'TX', 'WA', 'Unknown', 'FL', 'Unknown', 'GA', 'OR', 'MS', 'WA', 'Unknown', 'GA', 'WA', 'AL', 'Unknown', 'WA', 'NM', 'NM', 'AL', 'NH', 'MS', 'VT', 'AL', 'TN', 'GA', 'NH', 'FL', 'OR', 'WA', 'GA', 'GA', 'AL', 'TN', 'OR', 'TN', 'NM', 'TX', 'NM', 'WA', 'AL', 'Unknown', 'OR', 'NH', 'MS', 'AL', 'AL', 'Unknown', 'WA', 'Unknown', 'NH', 'MS', 'NH', 'TX', 'NM', 'GA', 'AL', 'NM', 'OR', 'TX', 'NM', 'TX', 'Unknown', 'WA', 'TX', 'TN', 'NH', 'TX', 'Unknown', 'FL', 'AL', 'FL', 'Unknown', 'Unknown', 'NH', 'TX', 'GA', 'MA', 'WA', 'WA', 'MS', 'NM', 'OR', 'AL', 'TX', 'TX', 'MS', 'ID', 'NM', 'MA', 'OR', 'WA', 'MS', 'MA', 'GA', 'WA', 'OR', 'NM', 'Unknown', 'WA', 'FL', 'WA', 'Unknown', 'GA', 'MS', 'AL', 'NM', 'TN', 'AL', 'AL', 'MA', 'OR', 'NM', 'OR', 'AL', 'AL', 'TN', 'TX', 'OR', 'TN', 'AL', 'OR', 'Unknown', 'AL', 'FL', 'OR', 'TN', 'Unknown', 'WA', 'WA', 'NM', 'Unknown', 'NH', 'WA', 'GA', 'WA', 'MS', 'FL', 'NH', 'MS', 'TX', 'Unknown', 'OR', 'NM', 'TN', 'NH', 'GA', 'NH', 'NH', 'ID', 'GA', 'ID', 'AL', 'GA', 'NM', 'NH', 'NM', 'NM', 'MS', 'NH', 'AL', 'MS', 'Unknown', 'MS', 'WA', 'NH', 'NH', 'WA', 'GA', 'Unknown', 'GA', 'NH', 'MS', 'NM', 'MS', 'MS', 'NM', 'ID', 'MS', 'Unknown', 'Unknown', 'NM', 'OR', 'WA', 'MS', 'NM', 'MS', 'WA', 'AL', 'AL', 'NM', 'OR', 'MS', 'OR', 'GA', 'NH', 'FL', 'Unknown', 'FL', 'Unknown', 'NM', 'NM', 'NH', 'GA', 'WA', 'AL', 'TX', 'NH', 'AL', 'GA', 'WA', 'WA', 'AL', 'NH', 'AL', 'MA', 'NH', 'NH', 'MA', 'MS', 'Unknown', 'MS', 'TN', 'NH', 'Unknown', 'AL', 'MS', 'AL', 'AL', 'OR', 'TX', 'OR', 'TN', 'WA', 'NM', 'FL', 'NH', 'MS', 'Unknown', 'OR', 'Unknown', 'MS', 'MS', 'WA', 'NM', 'WA', 'MS', 'NH', 'TN', 'TN'], 'legendgroup': '', 'name': '', 'showlegend': True, 'type': 'pie'}], 'layout': {'template': {'data': {'histogram2dcontour': [{'type': 'histogram2dcontour', 'colorbar': {'outlinewidth': 0, 'ticks': ''}, 'colorscale': [[0.0, '#0d0887'], [0.1111111111111111, '#46039f'], [0.2222222222222222, '#7201a8'], [0.3333333333333333, '#9c179e'], [0.4444444444444444, '#bd3786'], [0.5555555555555556, '#d8576b'], [0.6666666666666666, '#ed7953'], [0.7777777777777778, '#fb9f3a'], [0.8888888888888888, '#fdca26'], [1.0, '#f0f921']]}], 'choropleth': [{'type': 'choropleth', 'colorbar': {'outlinewidth': 0, 'ticks': ''}}], 'histogram2d': [{'type': 'histogram2d', 'colorbar': {'outlinewidth': 0, 'ticks': ''}, 'colorscale': [[0.0, '#0d0887'], [0.1111111111111111, '#46039f'], [0.2222222222222222, '#7201a8'], [0.3333333333333333, '#9c179e'], [0.4444444444444444, '#bd3786'], [0.5555555555555556, '#d8576b'], [0.6666666666666666, '#ed7953'], [0.7777777777777778, '#fb9f3a'], [0.8888888888888888, '#fdca26'], [1.0, '#f0f921']]}], 'heatmap': [{'type': 'heatmap', 'colorbar': {'outlinewidth': 0, 'ticks': ''}, 'colorscale': [[0.0, '#0d0887'], [0.1111111111111111, '#46039f'], [0.2222222222222222, '#7201a8'], [0.3333333333333333, '#9c179e'], [0.4444444444444444, '#bd3786'], [0.5555555555555556, '#d8576b'], [0.6666666666666666, '#ed7953'], [0.7777777777777778, '#fb9f3a'], [0.8888888888888888, '#fdca26'], [1.0, '#f0f921']]}], 'contourcarpet': [{'type': 'contourcarpet', 'colorbar': {'outlinewidth': 0, 'ticks': ''}}], 'contour': [{'type': 'contour', 'colorbar': {'outlinewidth': 0, 'ticks': ''}, 'colorscale': [[0.0, '#0d0887'], [0.1111111111111111, '#46039f'], [0.2222222222222222, '#7201a8'], [0.3333333333333333, '#9c179e'], [0.4444444444444444, '#bd3786'], [0.5555555555555556, '#d8576b'], [0.6666666666666666, '#ed7953'], [0.7777777777777778, '#fb9f3a'], [0.8888888888888888, '#fdca26'], [1.0, '#f0f921']]}], 'surface': [{'type': 'surface', 'colorbar': {'outlinewidth': 0, 'ticks': ''}, 'colorscale': [[0.0, '#0d0887'], [0.1111111111111111, '#46039f'], [0.2222222222222222, '#7201a8'], [0.3333333333333333, '#9c179e'], [0.4444444444444444, '#bd3786'], [0.5555555555555556, '#d8576b'], [0.6666666666666666, '#ed7953'], [0.7777777777777778, '#fb9f3a'], [0.8888888888888888, '#fdca26'], [1.0, '#f0f921']]}], 'mesh3d': [{'type': 'mesh3d', 'colorbar': {'outlinewidth': 0, 'ticks': ''}}], 'scatter': [{'fillpattern': {'fillmode': 'overlay', 'size': 10, 'solidity': 0.2}, 'type': 'scatter'}], 'parcoords': [{'type': 'parcoords', 'line': {'colorbar': {'outlinewidth': 0, 'ticks': ''}}}], 'scatterpolargl': [{'type': 'scatterpolargl', 'marker': {'colorbar': {'outlinewidth': 0, 'ticks': ''}}}], 'bar': [{'error_x': {'color': '#2a3f5f'}, 'error_y': {'color': '#2a3f5f'}, 'marker': {'line': {'color': '#E5ECF6', 'width': 0.5}, 'pattern': {'fillmode': 'overlay', 'size': 10, 'solidity': 0.2}}, 'type': 'bar'}], 'scattergeo': [{'type': 'scattergeo', 'marker': {'colorbar': {'outlinewidth': 0, 'ticks': ''}}}], 'scatterpolar': [{'type': 'scatterpolar', 'marker': {'colorbar': {'outlinewidth': 0, 'ticks': ''}}}], 'histogram': [{'marker': {'pattern': {'fillmode': 'overlay', 'size': 10, 'solidity': 0.2}}, 'type': 'histogram'}], 'scattergl': [{'type': 'scattergl', 'marker': {'colorbar': {'outlinewidth': 0, 'ticks': ''}}}], 'scatter3d': [{'type': 'scatter3d', 'line': {'colorbar': {'outlinewidth': 0, 'ticks': ''}}, 'marker': {'colorbar': {'outlinewidth': 0, 'ticks': ''}}}], 'scattermap': [{'type': 'scattermap', 'marker': {'colorbar': {'outlinewidth': 0, 'ticks': ''}}}], 'scattermapbox': [{'type': 'scattermapbox', 'marker': {'colorbar': {'outlinewidth': 0, 'ticks': ''}}}], 'scatterternary': [{'type': 'scatterternary', 'marker': {'colorbar': {'outlinewidth': 0, 'ticks': ''}}}], 'scattercarpet': [{'type': 'scattercarpet', 'marker': {'colorbar': {'outlinewidth': 0, 'ticks': ''}}}], 'carpet': [{'aaxis': {'endlinecolor': '#2a3f5f', 'gridcolor': 'white', 'linecolor': 'white', 'minorgridcolor': 'white', 'startlinecolor': '#2a3f5f'}, 'baxis': {'endlinecolor': '#2a3f5f', 'gridcolor': 'white', 'linecolor': 'white', 'minorgridcolor': 'white', 'startlinecolor': '#2a3f5f'}, 'type': 'carpet'}], 'table': [{'cells': {'fill': {'color': '#EBF0F8'}, 'line': {'color': 'white'}}, 'header': {'fill': {'color': '#C8D4E3'}, 'line': {'color': 'white'}}, 'type': 'table'}], 'barpolar': [{'marker': {'line': {'color': '#E5ECF6', 'width': 0.5}, 'pattern': {'fillmode': 'overlay', 'size': 10, 'solidity': 0.2}}, 'type': 'barpolar'}], 'pie': [{'automargin': True, 'type': 'pie'}]}, 'layout': {'autotypenumbers': 'strict', 'colorway': ['#636efa', '#EF553B', '#00cc96', '#ab63fa', '#FFA15A', '#19d3f3', '#FF6692', '#B6E880', '#FF97FF', '#FECB52'], 'font': {'color': '#2a3f5f'}, 'hovermode': 'closest', 'hoverlabel': {'align': 'left'}, 'paper_bgcolor': 'white', 'plot_bgcolor': '#E5ECF6', 'polar': {'bgcolor': '#E5ECF6', 'angularaxis': {'gridcolor': 'white', 'linecolor': 'white', 'ticks': ''}, 'radialaxis': {'gridcolor': 'white', 'linecolor': 'white', 'ticks': ''}}, 'ternary': {'bgcolor': '#E5ECF6', 'aaxis': {'gridcolor': 'white', 'linecolor': 'white', 'ticks': ''}, 'baxis': {'gridcolor': 'white', 'linecolor': 'white', 'ticks': ''}, 'caxis': {'gridcolor': 'white', 'linecolor': 'white', 'ticks': ''}}, 'coloraxis': {'colorbar': {'outlinewidth': 0, 'ticks': ''}}, 'colorscale': {'sequential': [[0.0, '#0d0887'], [0.1111111111111111, '#46039f'], [0.2222222222222222, '#7201a8'], [0.3333333333333333, '#9c179e'], [0.4444444444444444, '#bd3786'], [0.5555555555555556, '#d8576b'], [0.6666666666666666, '#ed7953'], [0.7777777777777778, '#fb9f3a'], [0.8888888888888888, '#fdca26'], [1.0, '#f0f921']], 'sequentialminus': [[0.0, '#0d0887'], [0.1111111111111111, '#46039f'], [0.2222222222222222, '#7201a8'], [0.3333333333333333, '#9c179e'], [0.4444444444444444, '#bd3786'], [0.5555555555555556, '#d8576b'], [0.6666666666666666, '#ed7953'], [0.7777777777777778, '#fb9f3a'], [0.8888888888888888, '#fdca26'], [1.0, '#f0f921']], 'diverging': [[0, '#8e0152'], [0.1, '#c51b7d'], [0.2, '#de77ae'], [0.3, '#f1b6da'], [0.4, '#fde0ef'], [0.5, '#f7f7f7'], [0.6, '#e6f5d0'], [0.7, '#b8e186'], [0.8, '#7fbc41'], [0.9, '#4d9221'], [1, '#276419']]}, 'xaxis': {'gridcolor': 'white', 'linecolor': 'white', 'ticks': '', 'title': {'standoff': 15}, 'zerolinecolor': 'white', 'automargin': True, 'zerolinewidth': 2}, 'yaxis': {'gridcolor': 'white', 'linecolor': 'white', 'ticks': '', 'title': {'standoff': 15}, 'zerolinecolor': 'white', 'automargin': True, 'zerolinewidth': 2}, 'scene': {'xaxis': {'backgroundcolor': '#E5ECF6', 'gridcolor': 'white', 'linecolor': 'white', 'showbackground': True, 'ticks': '', 'zerolinecolor': 'white', 'gridwidth': 2}, 'yaxis': {'backgroundcolor': '#E5ECF6', 'gridcolor': 'white', 'linecolor': 'white', 'showbackground': True, 'ticks': '', 'zerolinecolor': 'white', 'gridwidth': 2}, 'zaxis': {'backgroundcolor': '#E5ECF6', 'gridcolor': 'white', 'linecolor': 'white', 'showbackground': True, 'ticks': '', 'zerolinecolor': 'white', 'gridwidth': 2}}, 'shapedefaults': {'line': {'color': '#2a3f5f'}}, 'annotationdefaults': {'arrowcolor': '#2a3f5f', 'arrowhead': 0, 'arrowwidth': 1}, 'geo': {'bgcolor': 'white', 'landcolor': '#E5ECF6', 'subunitcolor': 'white', 'showland': True, 'showlakes': True, 'lakecolor': 'white'}, 'title': {'x': 0.05}, 'mapbox': {'style': 'light'}}}, 'legend': {'tracegroupgap': 0}, 'title': {'text': 'State Distribution in Data'}}, 'config': {'plotlyServerURL': 'https://plot.ly'}}}"
      ]
     },
     "metadata": {},
     "output_type": "display_data"
    },
    {
     "name": "stdout",
     "output_type": "stream",
     "text": [
      "✅ All charts generated successfully.\n"
     ]
    }
   ],
   "source": [
    "%%python\n",
    "import plotly.express as px\n",
    "import plotly.graph_objects as go\n",
    "import numpy as np\n",
    "\n",
    "# --- 1. Choropleth ---\n",
    "fig_choro = px.choropleth(\n",
    "    df,\n",
    "    locations=\"state\",\n",
    "    locationmode=\"USA-states\",\n",
    "    color=\"avg_rating\",\n",
    "    scope=\"usa\",\n",
    "    animation_frame=\"year\",\n",
    "    title=\"Choropleth: Avg Rating by State\"\n",
    ")\n",
    "fig_choro.show()\n",
    "\n",
    "# --- 2. Bar Chart ---\n",
    "fig_bar = px.bar(\n",
    "    df.groupby(\"state\")[\"avg_rating\"].mean().reset_index(),\n",
    "    x=\"state\",\n",
    "    y=\"avg_rating\",\n",
    "    title=\"Average Rating by State\"\n",
    ")\n",
    "fig_bar.show()\n",
    "\n",
    "# --- 3. Line Chart ---\n",
    "fig_line = px.line(\n",
    "    df.groupby([\"year\", \"state\"])[\"avg_rating\"].mean().reset_index(),\n",
    "    x=\"year\",\n",
    "    y=\"avg_rating\",\n",
    "    color=\"state\",\n",
    "    title=\"Rating Trends Over Time\"\n",
    ")\n",
    "fig_line.show()\n",
    "\n",
    "# --- 4. Scatter Plot ---\n",
    "fig_scatter = px.scatter(\n",
    "    df,\n",
    "    x=\"avg_rating\",\n",
    "    y=np.random.uniform(1, 100, len(df)),\n",
    "    color=\"state\",\n",
    "    title=\"Scatter Plot Example\"\n",
    ")\n",
    "fig_scatter.show()\n",
    "\n",
    "# --- 5. Heatmap ---\n",
    "pivot = df.pivot_table(\n",
    "    index=\"state\", columns=\"year\", values=\"avg_rating\", aggfunc=\"mean\"\n",
    ")\n",
    "fig_heatmap = go.Figure(\n",
    "    data=go.Heatmap(\n",
    "        z=pivot.values,\n",
    "        x=pivot.columns.astype(str),\n",
    "        y=pivot.index,\n",
    "        colorscale=\"Viridis\"\n",
    "    )\n",
    ")\n",
    "fig_heatmap.update_layout(title=\"Heatmap: Avg Ratings by Year and State\")\n",
    "fig_heatmap.show()\n",
    "\n",
    "# --- 6. Pie Chart ---\n",
    "fig_pie = px.pie(\n",
    "    df,\n",
    "    names=\"state\",\n",
    "    title=\"State Distribution in Data\"\n",
    ")\n",
    "fig_pie.show()\n",
    "\n",
    "fig_choro.write_html(\"choropleth.html\")\n",
    "\n",
    "print(\"✅ All charts generated successfully.\")"
   ]
  },
  {
   "cell_type": "code",
   "execution_count": null,
   "id": "4327a589",
   "metadata": {},
   "outputs": [],
   "source": []
  }
 ],
 "metadata": {
  "kernelspec": {
   "display_name": "spylon-kernel",
   "language": "scala",
   "name": "spylon-kernel"
  },
  "language_info": {
   "codemirror_mode": "text/x-scala",
   "file_extension": ".scala",
   "help_links": [
    {
     "text": "MetaKernel Magics",
     "url": "https://metakernel.readthedocs.io/en/latest/source/README.html"
    }
   ],
   "mimetype": "text/x-scala",
   "name": "scala",
   "pygments_lexer": "scala",
   "version": "0.4.1"
  }
 },
 "nbformat": 4,
 "nbformat_minor": 5
}
