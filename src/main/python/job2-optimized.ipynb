{
 "cells": [
  {
   "cell_type": "markdown",
   "id": "b5280eb7",
   "metadata": {},
   "source": [
    "# Job 2\n",
    "\n",
    "Il job 2 valuta, annualmente, per ogni stato e categoria di business la valutazione media per ogni fascia di prezzo, assegnando un giudizio.\n",
    "\n",
    "Nel dettaglio:\n",
    "\n",
    "- per ogni business viene calcolata la valutazione media delle recensioni raggruppandole per anno;\n",
    "- aggregando in base alla categoria di business, lo stato e la fascia di prezzo viene calcolata la media delle valutazioni medie delle recensioni;\n",
    "- in base alla valutazione media viene elaborato un attributo aggiuntivo \"business suggestion\" che fornisce un giudizio sulle categorie di business, come segue:\n",
    "  - valutazione media < 2: \"Not recommended\"\n",
    "  - valutazione media 2–3.5: \"Discreet\"\n",
    "  - valutazione media 3.5–4.5: \"Recommended\"\n",
    "  - valutazione media > 4.5: \"Highly recommended\"\n",
    "\n"
   ]
  },
  {
   "cell_type": "markdown",
   "id": "a6cc7353",
   "metadata": {},
   "source": [
    "### Schema definitions"
   ]
  },
  {
   "cell_type": "code",
   "execution_count": null,
   "id": "aaaccc8c",
   "metadata": {},
   "outputs": [],
   "source": [
    "import org.apache.spark"
   ]
  },
  {
   "cell_type": "code",
   "execution_count": null,
   "id": "32a0b981",
   "metadata": {},
   "outputs": [],
   "source": [
    "import org.apache.spark.sql.types._\n",
    "import java.sql.Timestamp\n",
    "\n",
    "val reviewSchema = StructType(\n",
    "  Seq(\n",
    "    StructField(\"user_id\",  StringType,            nullable = true),\n",
    "    StructField(\"name\",     StringType,            nullable = true),\n",
    "    StructField(\"time\",     LongType,              nullable = false),\n",
    "    StructField(\"rating\",   DoubleType,            nullable = true),\n",
    "    StructField(\"text\",     StringType,            nullable = true),\n",
    "    StructField(\"pics\",     ArrayType(StringType), nullable = true),\n",
    "    StructField(\"resp\",     StructType(\n",
    "      Seq(\n",
    "        StructField(\"time\", LongType,              nullable = false),\n",
    "        StructField(\"text\", StringType,            nullable = true)\n",
    "      )\n",
    "    ),                                             nullable = true),\n",
    "    StructField(\"gmap_id\",  StringType,            nullable = false),\n",
    "  )\n",
    ")\n",
    "\n",
    "case class Response(time: Timestamp, text: Option[String])\n",
    "\n",
    "case class Review(\n",
    "  user_id: Option[String],\n",
    "  name: Option[String],\n",
    "  time: Timestamp,\n",
    "  rating: Option[Double],\n",
    "  text: Option[String],\n",
    "  pics: Seq[String],\n",
    "  resp: Option[Response],\n",
    "  gmap_id: String\n",
    ")"
   ]
  },
  {
   "cell_type": "code",
   "execution_count": null,
   "id": "216bdcb6",
   "metadata": {},
   "outputs": [],
   "source": [
    "val metadataSchema = StructType(\n",
    "  Seq(\n",
    "    StructField(\"name\",             StringType,                                 nullable = true),\n",
    "    StructField(\"address\",          StringType,                                 nullable = true),\n",
    "    StructField(\"gmap_id\",          StringType,                                 nullable = false),\n",
    "    StructField(\"description\",      StringType,                                 nullable = true),\n",
    "    StructField(\"latitude\",         DoubleType,                                 nullable = false),\n",
    "    StructField(\"longitude\",        DoubleType,                                 nullable = false),\n",
    "    StructField(\"category\",         ArrayType(StringType),                      nullable = true),\n",
    "    StructField(\"avg_rating\",       DoubleType,                                 nullable = false),\n",
    "    StructField(\"num_of_reviews\",   IntegerType,                                nullable = false),\n",
    "    StructField(\"price\",            StringType,                                 nullable = true),\n",
    "    StructField(\"hours\",            ArrayType(ArrayType(StringType)),           nullable = true),\n",
    "    StructField(\"MISC\",             MapType(StringType, ArrayType(StringType)), nullable = true),\n",
    "    StructField(\"state\",            StringType,                                 nullable = true),\n",
    "    StructField(\"relative_results\", ArrayType(StringType),                      nullable = true),\n",
    "    StructField(\"url\",              StringType,                                 nullable = false),\n",
    "  )\n",
    ")\n",
    "\n",
    "case class Metadata(\n",
    "  name: Option[String],\n",
    "  address: Option[String],\n",
    "  gmap_id: String,\n",
    "  description: Option[String],\n",
    "  latitude: Double,\n",
    "  longitude: Double,\n",
    "  category: Seq[String],\n",
    "  avg_rating: Double,\n",
    "  num_of_reviews: Int,\n",
    "  price: Option[String],\n",
    "  hours: Seq[Seq[String]],\n",
    "  MISC: Map[String, Seq[String]],\n",
    "  state: Option[String],\n",
    "  relative_results: Seq[String],\n",
    "  url: String\n",
    ")"
   ]
  },
  {
   "cell_type": "markdown",
   "id": "eb8e700d",
   "metadata": {},
   "source": [
    "### Dataset load and parse"
   ]
  },
  {
   "cell_type": "code",
   "execution_count": null,
   "id": "403bc6b7",
   "metadata": {},
   "outputs": [],
   "source": [
    "import java.nio.file.Paths\n",
    "\n",
    "val projectDir: String = Paths.get(System.getProperty(\"user.dir\")).getParent.getParent.getParent.toString\n",
    "val reviewsPath = s\"$projectDir/dataset/sample-reviews.ndjson\"\n",
    "val metadataPath = s\"$projectDir/dataset/metadata.ndjson\"\n",
    "\n",
    "import org.apache.spark.sql.SparkSession\n",
    "\n",
    "val spark = SparkSession.builder()\n",
    "  .appName(\"NDJSON Reader\")\n",
    "  .master(\"local[*]\") // Needed in local mode\n",
    "  .getOrCreate()\n",
    "\n",
    "val reviewsDf = spark.read\n",
    "  .schema(reviewSchema)\n",
    "  .json(reviewsPath)\n",
    "  .withColumn(\"pics\", when (col(\"pics\") isNull, array()) otherwise col(\"pics\"))\n",
    "  .withColumn(\"time\", from_unixtime(col(\"time\") / 1000).cast(\"timestamp\"))\n",
    "  .withColumn(\"resp\", \n",
    "    when (\n",
    "      col(\"resp\") isNotNull, \n",
    "      struct(\n",
    "        from_unixtime(col(\"resp.time\") / 1000).cast(\"timestamp\").alias(\"time\"),\n",
    "        col(\"resp.text\").cast(StringType).alias(\"text\")\n",
    "      )\n",
    "    ) otherwise lit(null)\n",
    "  )\n",
    "  .as[Review]\n",
    "\n",
    "val metadataDf = spark.read\n",
    "  .schema(metadataSchema)\n",
    "  .json(metadataPath)\n",
    "  .withColumn(\"category\", when (col(\"category\") isNull, array()) otherwise col(\"category\"))\n",
    "  .withColumn(\"hours\", when (col(\"hours\") isNull, array()) otherwise col(\"hours\"))\n",
    "  .withColumn(\"relative_results\", when (col(\"relative_results\") isNull, array()) otherwise col(\"relative_results\"))\n",
    "  .withColumn(\"MISC\",\n",
    "    when (\n",
    "      col(\"MISC\") isNotNull,\n",
    "      col(\"MISC\").cast(MapType(StringType, ArrayType(StringType)))\n",
    "    ) otherwise typedLit(Map.empty[String, Seq[String]])\n",
    "  )\n",
    "  .as[Metadata]\n",
    "\n",
    "reviewsDf.printSchema()\n",
    "metadataDf.printSchema()\n",
    "\n",
    "// Unforturnately, it seems that Spark does not support case classes in RDDs. It throws ArrayStoreException\n",
    "// when trying to collect the RDD... [see also [here](https://github.com/adtech-labs/spylon-kernel/issues/40)]\n",
    "val reviewsRdd = reviewsDf.rdd\n",
    "  .map(Review.unapply)\n",
    "  .map(_.get)\n",
    "  .map { case review @ (_, _, _, _, _, _, resp, _) => review.copy(_7 = resp.map(Response.unapply(_).get)) }\n",
    "val metaRdd = metadataDf.rdd.map(Metadata.unapply).map(_.get)"
   ]
  },
  {
   "cell_type": "code",
   "execution_count": null,
   "id": "32c761ad",
   "metadata": {},
   "outputs": [],
   "source": [
    "/** This regex captures the state abbreviation between a comma and the ZIP code. */\n",
    "private val StateRegex = \"\"\",\\s*([A-Z]{2})\\s+\\d{5}\"\"\".r\n",
    "\n",
    "/** The map of states that are considered for the analysis. */\n",
    "val consideredStates = Map(\n",
    "  \"Alabama\" -> \"AL\",\n",
    "  \"Mississippi\" -> \"MS\",\n",
    "  \"New Hampshire\" -> \"NH\",\n",
    "  \"New Mexico\" -> \"NM\",\n",
    "  \"Washington\" -> \"WA\",\n",
    ")\n",
    "\n",
    "/** Regex to match state names in the address. */\n",
    "val StateNameRegex = s\"\"\"\\\\b(${consideredStates.keys.mkString(\"|\")})\\\\b\"\"\".r\n",
    "\n",
    "/** Regex to match state abbreviations in the address. */\n",
    "val StateAbbrevRegex = s\"\"\"\\\\b(${consideredStates.values.mkString(\"|\")})\\\\b\"\"\".r\n",
    "\n",
    "/**\n",
    " * Extracts the state from the given address.\n",
    " * @param address\n",
    " *   the optional address string\n",
    " * @return\n",
    " *   the state abbreviation or \"Unknown\" if no valid state is found\n",
    " * @see\n",
    " *   [[consideredStates]]\n",
    " */\n",
    "def toState(address: Option[String]): String = address\n",
    "  .flatMap { addr =>\n",
    "    StateRegex\n",
    "      .findFirstMatchIn(addr)\n",
    "      .map(_.group(1))\n",
    "      .orElse(StateNameRegex.findFirstMatchIn(addr).map(stateName => consideredStates(stateName.group(1))))\n",
    "      .orElse(StateAbbrevRegex.findFirstMatchIn(addr).map(_.group(1)))\n",
    "  }\n",
    "  .filter(consideredStates.values.toSeq.contains)\n",
    "  .getOrElse(\"Unknown\")"
   ]
  },
  {
   "cell_type": "code",
   "execution_count": null,
   "id": "3c222e5e",
   "metadata": {},
   "outputs": [],
   "source": [
    "/** This function converts price string into a new one with custom symbol */\n",
    "def withSymbol(price: Option[String], symbol: String): Option[String] =\n",
    "  price.map(s => List.fill(s.length)(symbol).mkString)"
   ]
  },
  {
   "cell_type": "markdown",
   "id": "e9bfabf7",
   "metadata": {},
   "source": [
    "### Job2 - Computation"
   ]
  },
  {
   "cell_type": "markdown",
   "id": "dcc4de03-7e72-4d74-81ab-3c4918215f8e",
   "metadata": {},
   "source": [
    "---\n",
    "\n",
    "**Metadata**: (name, address, <ins>gmap_id</ins>, description, latitude, longitude, category, avg_rating, num_of_reviews, price, hours, misc, state, relative_results, url)\n",
    "\n",
    "**Review**: (user_id, name, time, rating, text, pics, responses, <ins>gmap_id</ins>)\n",
    "\n",
    "---"
   ]
  },
  {
   "cell_type": "code",
   "execution_count": null,
   "id": "fbb12f4b",
   "metadata": {},
   "outputs": [],
   "source": [
    "// avg rating mapper to description\n",
    "def ratingToSuggestion(rating: Double): String =\n",
    "  rating match {\n",
    "    case r if r <= 2.0 => \"Not recommended\"\n",
    "    case r if r > 2.0 && r <= 3.5 => \"Discreet\"\n",
    "    case r if r > 3.5 && r <= 4.5 => \"Recommended\"\n",
    "    case r if r > 4.5 => \"Highly recommended\"\n",
    "    case _ => \"Undefined\"\n",
    "  }"
   ]
  },
  {
   "cell_type": "code",
   "execution_count": null,
   "id": "334ab257",
   "metadata": {},
   "outputs": [],
   "source": [
    "for ((k,v) <- sc.getPersistentRDDs) {\n",
    "  v.unpersist()\n",
    "}"
   ]
  },
  {
   "cell_type": "markdown",
   "id": "4380cb00",
   "metadata": {},
   "source": [
    "- Metadata: 292.5 MiB\n",
    "- Reviews: 9.8 GiB\n",
    "\n",
    "The \"basic\" (not optimized) job has 5 stages (c.f. `Job2 Basic`):\n",
    "\n",
    "| #Stage | Input | Output | Shuffle read | Shuffle write | Duration | Partitions |\n",
    "|--------|-------|--------|--------------|---------------|----------|------------|\n",
    "| 0: load metadata | 292.5 MiB | | | 16.1 MiB | 48 s | 3 |\n",
    "| 1: load reviews  | 9.8 GiB | | | 206.9 MiB | 1.6 min | 79 |\n",
    "| 2: join datasets| | | 223.0 MiB | 107.4 MiB | 38 s | 79 |\n",
    "| 3: group by key | | | 107.4 MiB | 21.6 MiB | 11 s | 79 | \n",
    "| 4: save | | 2.1 MiB | 21.6 MiB| | 8s | 1 |\n",
    "\n",
    "**Total time: 2.5 minutes**"
   ]
  },
  {
   "cell_type": "markdown",
   "id": "1b422b88",
   "metadata": {},
   "source": [
    "The optimized job has 5 stages (c.f. `Job2 Optimized`):\n",
    "\n",
    "Optimization done:\n",
    "- repartitioning RDDs, using same partitioner, before the join by key to reduce shuffles writes. Partition amount was calulated considering cluster configuration (4 cores per executor).\n",
    "- join done as last operation after filtering and aggregations\n",
    "- use of reduceByKey instead of groupByKey that is less expensive.\n",
    "\n",
    "| #Stage | Input | Output | Shuffle read | Shuffle write | Duration | Partitions |\n",
    "|--------|-------|--------|--------------|---------------|----------|------------|\n",
    "| 0: load metadata | 292.5 MiB | | | 3.6 MiB | 44 s | 3 |\n",
    "| 1: load reviews  | 9.8 GiB | | | **54.8 MiB** | 1.5 min | 79 |\n",
    "| 2: reduce by key | | | **54.8 MiB** | **50.1 MiB** | 4s | 79 |\n",
    "| 3: join datasets | | | **53.7 MiB** | **6.1 MiB** | 3s | **18** | \n",
    "| 4: save | | **1738.2 KiB** | **6.1 MiB**| | 3s | 1 |\n",
    "\n",
    "**Total time: 1.8 minutes**\n",
    "\n",
    "After optimization the execution time drops from 2.5 min to 1.8 min and also the amount of shuffled datas.\n",
    "\n",
    "**The overall speedup is about 70%**\n"
   ]
  },
  {
   "cell_type": "code",
   "execution_count": null,
   "id": "86707673",
   "metadata": {},
   "outputs": [],
   "source": [
    "val partitions = 18\n",
    "val partitioner = new org.apache.spark.HashPartitioner(partitions)"
   ]
  },
  {
   "cell_type": "code",
   "execution_count": null,
   "id": "da887fe2",
   "metadata": {},
   "outputs": [],
   "source": [
    "val businessAvgRating = reviewsRdd\n",
    "  .filter(_._4.isDefined)\n",
    "  .map{ case r => \n",
    "    val rating = r._4.get\n",
    "    val gmap_id = r._8\n",
    "    val year = r._3.toLocalDateTime.getYear\n",
    "    (gmap_id, year) -> (1, rating)\n",
    "  }\n",
    "  .reduceByKey((a, b) => (a._1 + b._1, a._2 + b._2)) // count reviews and sum rating value\n",
    "  .map{ case ((gmap_id, year), c) => gmap_id -> (year, c._2/c._1) }\n",
    "  .partitionBy(partitioner)\n",
    "  "
   ]
  },
  {
   "cell_type": "code",
   "execution_count": null,
   "id": "8313b4b1",
   "metadata": {},
   "outputs": [],
   "source": [
    "val results = metaRdd\n",
    ".filter(r => r._10.isDefined)\n",
    ".flatMap(r => \n",
    "  r._7.map(category => r._3 -> (category, toState(r._2), withSymbol(r._10, \"*\")))\n",
    ") //(gmap_id, (category, state, price))\n",
    ".partitionBy(partitioner)\n",
    ".join(businessAvgRating)\n",
    ".map { case (_, ((category, state, price), (year, avgRate))) => \n",
    "  (category, state, price, year) -> (avgRate, 1)\n",
    "}\n",
    ".reduceByKey((a, b) => (a._1 + b._1, a._2 + b._2))\n",
    ".map{ case (key, r) => \n",
    "  val avgRate = r._1/r._2\n",
    "  (key, f\"${avgRate}%.2f\", ratingToSuggestion(avgRate))\n",
    "}"
   ]
  },
  {
   "cell_type": "markdown",
   "id": "f981e116",
   "metadata": {},
   "source": [
    "### Save output result"
   ]
  },
  {
   "cell_type": "code",
   "execution_count": null,
   "id": "c28d3eff",
   "metadata": {},
   "outputs": [],
   "source": [
    "val outputDirPath = s\"$projectDir/output\"\n",
    "val outputPath = s\"$outputDirPath/job2-output\""
   ]
  },
  {
   "cell_type": "code",
   "execution_count": null,
   "id": "89049b35",
   "metadata": {},
   "outputs": [],
   "source": [
    "import org.apache.spark.sql.SaveMode\n",
    "results.map { case ((category, state, price, year), avgRate, suggestion) =>\n",
    "        (category, state, price, year, avgRate, suggestion)\n",
    "      }\n",
    "      .coalesce(1)\n",
    "      .toDF(\"category\", \"state\", \"price\", \"year\", \"avg_rating\", \"business suggestion\")\n",
    "      .write\n",
    "      .format(\"csv\")\n",
    "      .option(\"header\", \"true\")\n",
    "      .mode(SaveMode.Overwrite)\n",
    "      .save(s\"file://$outputPath\")"
   ]
  }
 ],
 "metadata": {
  "kernelspec": {
   "display_name": "spylon-kernel",
   "language": "scala",
   "name": "spylon-kernel"
  },
  "language_info": {
   "codemirror_mode": "text/x-scala",
   "file_extension": ".scala",
   "help_links": [
    {
     "text": "MetaKernel Magics",
     "url": "https://metakernel.readthedocs.io/en/latest/source/README.html"
    }
   ],
   "mimetype": "text/x-scala",
   "name": "scala",
   "pygments_lexer": "scala",
   "version": "0.4.1"
  }
 },
 "nbformat": 4,
 "nbformat_minor": 5
}
